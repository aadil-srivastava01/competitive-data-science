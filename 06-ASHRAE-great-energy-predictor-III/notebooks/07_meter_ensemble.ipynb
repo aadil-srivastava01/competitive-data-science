{
 "cells": [
  {
   "cell_type": "code",
   "execution_count": 1,
   "metadata": {},
   "outputs": [],
   "source": [
    "import numpy as np\n",
    "import pandas as pd\n",
    "import warnings\n",
    "import gc\n",
    "\n",
    "import matplotlib.pyplot as plt\n",
    "import seaborn as sns\n",
    "%matplotlib inline\n",
    "color = sns.color_palette()\n",
    "sns.set_style(\"darkgrid\")\n",
    "warnings.filterwarnings('ignore')"
   ]
  },
  {
   "cell_type": "code",
   "execution_count": 2,
   "metadata": {},
   "outputs": [],
   "source": [
    "from sklearn.preprocessing import LabelEncoder\n",
    "import lightgbm as lgb\n",
    "import random\n",
    "from sklearn.metrics import mean_squared_error\n",
    "random.seed(12)\n",
    "import pickle"
   ]
  },
  {
   "cell_type": "code",
   "execution_count": 3,
   "metadata": {},
   "outputs": [],
   "source": [
    "def prepare_data(X, test=False):\n",
    "    \"\"\"\n",
    "    Preparing final dataset with all features.\n",
    "    \"\"\"\n",
    "    X.square_feet = np.log1p(X.square_feet)\n",
    "    \n",
    "    if not test:\n",
    "        X.sort_values(\"timestamp\", inplace=True)\n",
    "        X.reset_index(drop=True, inplace=True)\n",
    "    \n",
    "    gc.collect()\n",
    "    \n",
    "    holidays = [\"2016-01-01\", \"2016-01-18\", \"2016-02-15\", \"2016-05-30\", \"2016-07-04\",\n",
    "                \"2016-09-05\", \"2016-10-10\", \"2016-11-11\", \"2016-11-24\", \"2016-12-26\",\n",
    "                \"2017-01-01\", \"2017-01-16\", \"2017-02-20\", \"2017-05-29\", \"2017-07-04\",\n",
    "                \"2017-09-04\", \"2017-10-09\", \"2017-11-10\", \"2017-11-23\", \"2017-12-25\",\n",
    "                \"2018-01-01\", \"2018-01-15\", \"2018-02-19\", \"2018-05-28\", \"2018-07-04\",\n",
    "                \"2018-09-03\", \"2018-10-08\", \"2018-11-12\", \"2018-11-22\", \"2018-12-25\",\n",
    "                \"2019-01-01\"]\n",
    "    \n",
    "    X[\"hour\"] = X.timestamp.dt.hour\n",
    "    X[\"weekday\"] = X.timestamp.dt.weekday\n",
    "    X[\"is_holiday\"] = (X.timestamp.dt.date.astype(\"str\").isin(holidays)).astype(int)\n",
    "    \n",
    "    drop_features = [\"timestamp\", \"sea_level_pressure\", \"wind_direction\", \"wind_speed\"]\n",
    "    X.drop(drop_features, axis=1, inplace=True)\n",
    "    \n",
    "    ####imputing NaNs\n",
    "    X['year_built'].fillna(-1, inplace=True)\n",
    "    X['floor_count'].fillna(0, inplace=True)\n",
    "    X['air_temperature'].fillna(0, inplace=True)\n",
    "    X['cloud_coverage'].fillna(-1, inplace=True)\n",
    "    X['dew_temperature'].fillna(0, inplace=True)\n",
    "    X['precip_depth_1_hr'].fillna(-2, inplace=True)\n",
    "    \n",
    "    if test:\n",
    "        return X\n",
    "#         row_ids = X.row_id\n",
    "#         X.drop(\"row_id\", axis=1, inplace=True)\n",
    "#         return X, row_ids\n",
    "    else:\n",
    "        y = np.log1p(X.meter_reading)\n",
    "        X.drop(\"meter_reading\", axis=1, inplace=True)\n",
    "        return X, y"
   ]
  },
  {
   "cell_type": "code",
   "execution_count": null,
   "metadata": {},
   "outputs": [],
   "source": [
    "df_train = pd.read_pickle('df_train.pkl')"
   ]
  },
  {
   "cell_type": "code",
   "execution_count": null,
   "metadata": {},
   "outputs": [],
   "source": [
    "df_train.sample(5)"
   ]
  },
  {
   "cell_type": "code",
   "execution_count": null,
   "metadata": {},
   "outputs": [],
   "source": [
    "print(f\"Max Air Temp:{np.max(df_train['air_temperature'])}\")\n",
    "print(f\"Min Air Temp:{np.min(df_train['air_temperature'])}\")\n",
    "print(f\"Max Dew Temp:{np.max(df_train['dew_temperature'])}\")\n",
    "print(f\"Min Dew Temp:{np.min(df_train['dew_temperature'])}\")\n",
    "print(f\"Max Precipitation Depth:{np.max(df_train['precip_depth_1_hr'])}\")\n",
    "print(f\"Min Precipitation Depth:{np.min(df_train['precip_depth_1_hr'])}\")"
   ]
  },
  {
   "cell_type": "code",
   "execution_count": null,
   "metadata": {},
   "outputs": [],
   "source": [
    "df_train.dtypes"
   ]
  },
  {
   "cell_type": "code",
   "execution_count": null,
   "metadata": {},
   "outputs": [],
   "source": [
    "df_train.isna().sum()"
   ]
  },
  {
   "cell_type": "code",
   "execution_count": null,
   "metadata": {},
   "outputs": [],
   "source": [
    "le = LabelEncoder()\n",
    "df_train['primary_use'] = le.fit_transform(df_train['primary_use'])"
   ]
  },
  {
   "cell_type": "code",
   "execution_count": null,
   "metadata": {},
   "outputs": [],
   "source": [
    "df_train_0 = df_train[df_train['meter']==0]\n",
    "df_train_1 = df_train[df_train['meter']==1]\n",
    "df_train_2 = df_train[df_train['meter']==2]\n",
    "df_train_3 = df_train[df_train['meter']==3]\n",
    "\n",
    "del df_train\n",
    "gc.collect()"
   ]
  },
  {
   "cell_type": "code",
   "execution_count": null,
   "metadata": {},
   "outputs": [],
   "source": [
    "X_0, y_0 = prepare_data(df_train_0)\n",
    "X_1, y_1 = prepare_data(df_train_1)\n",
    "X_2, y_2 = prepare_data(df_train_2)\n",
    "X_3, y_3 = prepare_data(df_train_3)"
   ]
  },
  {
   "cell_type": "code",
   "execution_count": null,
   "metadata": {},
   "outputs": [],
   "source": [
    "X_0.head(10)"
   ]
  },
  {
   "cell_type": "code",
   "execution_count": null,
   "metadata": {},
   "outputs": [],
   "source": [
    "categorical_features = [\"building_id\", \"site_id\", \"meter\", \"primary_use\", \"hour\", \"weekday\"]\n",
    "\n",
    "d_0 = lgb.Dataset(X_0, label=y_0, categorical_feature=categorical_features, free_raw_data=False)\n",
    "d_1 = lgb.Dataset(X_1, label=y_1, categorical_feature=categorical_features, free_raw_data=False)\n",
    "d_2 = lgb.Dataset(X_2, label=y_2, categorical_feature=categorical_features, free_raw_data=False)\n",
    "d_3 = lgb.Dataset(X_3, label=y_3, categorical_feature=categorical_features, free_raw_data=False)"
   ]
  },
  {
   "cell_type": "code",
   "execution_count": null,
   "metadata": {},
   "outputs": [],
   "source": [
    "watchlist_0 = [d_0]\n",
    "watchlist_1 = [d_1]\n",
    "watchlist_2 = [d_2]\n",
    "watchlist_3 = [d_3]\n",
    "\n",
    "params = {\n",
    "    \"objective\": \"regression\",\n",
    "    \"boosting\": \"gbdt\",\n",
    "    \"num_leaves\": 40,\n",
    "    \"learning_rate\": 0.05,\n",
    "    \"feature_fraction\": 0.85,\n",
    "    \"reg_lambda\": 2,\n",
    "    \"metric\": \"rmse\"\n",
    "}"
   ]
  },
  {
   "cell_type": "code",
   "execution_count": null,
   "metadata": {},
   "outputs": [],
   "source": [
    "print(\"Building LGBM Model with for meter 0: \")\n",
    "model_0 = lgb.train(params, train_set=d_0, \n",
    "                         num_boost_round=1000, valid_sets=watchlist_0, \n",
    "                         verbose_eval=200, early_stopping_rounds=200)\n",
    "print('#'*50) \n",
    "print(\"Building LGBM Model with for meter 1: \")\n",
    "model_1 = lgb.train(params, train_set=d_1, \n",
    "                         num_boost_round=1000, valid_sets=watchlist_1, \n",
    "                         verbose_eval=200, early_stopping_rounds=200)\n",
    "print('#'*50) \n",
    "print(\"Building LGBM Model with for meter 2: \")\n",
    "model_2 = lgb.train(params, train_set=d_2, \n",
    "                         num_boost_round=1000, valid_sets=watchlist_2, \n",
    "                         verbose_eval=200, early_stopping_rounds=200)\n",
    "print('#'*50) \n",
    "print(\"Building LGBM Model with for meter 3: \")\n",
    "model_3 = lgb.train(params, train_set=d_3, \n",
    "                         num_boost_round=1000, valid_sets=watchlist_3, \n",
    "                         verbose_eval=200, early_stopping_rounds=200)\n",
    "print('#'*50) \n"
   ]
  },
  {
   "cell_type": "code",
   "execution_count": null,
   "metadata": {},
   "outputs": [],
   "source": [
    "models = {'model_0' : model_0,\n",
    "          'model_1' : model_1,\n",
    "          'model_2' : model_2,\n",
    "          'model_3' : model_3}"
   ]
  },
  {
   "cell_type": "code",
   "execution_count": null,
   "metadata": {},
   "outputs": [],
   "source": [
    "for i in range(4):\n",
    "    picfile = open(f'model_{i}', 'wb')\n",
    "    pickle.dump(models[f'model_{i}'], picfile)\n",
    "    picfile.close() \n",
    "    \n",
    "picfile = open('le', 'wb') \n",
    "pickle.dump(le, picfile)\n",
    "picfile.close() "
   ]
  },
  {
   "cell_type": "code",
   "execution_count": null,
   "metadata": {},
   "outputs": [],
   "source": [
    "del X_0, y_0, X_1, y_1, X_2, y_2, X_3, y_3\n",
    "gc.collect()"
   ]
  },
  {
   "cell_type": "code",
   "execution_count": 4,
   "metadata": {},
   "outputs": [],
   "source": [
    "df_test = pd.read_pickle('df_test.pkl')"
   ]
  },
  {
   "cell_type": "code",
   "execution_count": 5,
   "metadata": {},
   "outputs": [],
   "source": [
    "models = {}\n",
    "for i in range(4):\n",
    "    picfile = open(f'model_{i}', 'rb')\n",
    "    models[f'model_{i}'] = pickle.load(picfile)\n",
    "    picfile.close() \n",
    "        \n",
    "picfile = open('le', 'rb') \n",
    "le = pickle.load(picfile)\n",
    "picfile.close() "
   ]
  },
  {
   "cell_type": "code",
   "execution_count": 6,
   "metadata": {},
   "outputs": [],
   "source": [
    "df_test.primary_use = le.transform(df_test.primary_use)"
   ]
  },
  {
   "cell_type": "code",
   "execution_count": 7,
   "metadata": {},
   "outputs": [
    {
     "data": {
      "text/plain": [
       "33"
      ]
     },
     "execution_count": 7,
     "metadata": {},
     "output_type": "execute_result"
    }
   ],
   "source": [
    "# X_test, row_ids = prepare_data(df_test, test=True)\n",
    "X_test = prepare_data(df_test, test=True)\n",
    "del df_test\n",
    "gc.collect()"
   ]
  },
  {
   "cell_type": "code",
   "execution_count": 8,
   "metadata": {},
   "outputs": [],
   "source": [
    "for i in range(4):\n",
    "    temp = X_test[X_test['meter'] == i]\n",
    "    row = temp['row_id']\n",
    "    temp.drop('row_id', axis=1, inplace=True)\n",
    "    pred = np.expm1(models[f'model_{i}'].predict(temp, num_iteration=models[f'model_{i}'].best_iteration))\n",
    "    gc.collect()\n",
    "    pd.DataFrame({\"row_id\": row, \"meter_reading\": np.clip(pred, 0, a_max=None)}).to_csv(f\"submission{i}.csv\", index=False)\n",
    "    del temp,  row, pred\n",
    "    gc.collect()"
   ]
  },
  {
   "cell_type": "code",
   "execution_count": 9,
   "metadata": {},
   "outputs": [
    {
     "data": {
      "text/plain": [
       "22"
      ]
     },
     "execution_count": 9,
     "metadata": {},
     "output_type": "execute_result"
    }
   ],
   "source": [
    "del X_test\n",
    "gc.collect()"
   ]
  },
  {
   "cell_type": "code",
   "execution_count": 10,
   "metadata": {},
   "outputs": [],
   "source": [
    "sub0 = pd.read_csv('submission0.csv')\n",
    "sub1 = pd.read_csv('submission1.csv')\n",
    "sub2 = pd.read_csv('submission2.csv')\n",
    "sub3 = pd.read_csv('submission3.csv')"
   ]
  },
  {
   "cell_type": "code",
   "execution_count": 15,
   "metadata": {},
   "outputs": [],
   "source": [
    "frames = [sub0, sub1, sub2, sub3]"
   ]
  },
  {
   "cell_type": "code",
   "execution_count": 16,
   "metadata": {},
   "outputs": [
    {
     "data": {
      "text/plain": [
       "0"
      ]
     },
     "execution_count": 16,
     "metadata": {},
     "output_type": "execute_result"
    }
   ],
   "source": [
    "result = pd.concat(frames)\n",
    "del sub0, sub1, sub2, sub3\n",
    "gc.collect()"
   ]
  },
  {
   "cell_type": "code",
   "execution_count": 17,
   "metadata": {},
   "outputs": [
    {
     "data": {
      "text/plain": [
       "(41697600, 2)"
      ]
     },
     "execution_count": 17,
     "metadata": {},
     "output_type": "execute_result"
    }
   ],
   "source": [
    "result.shape"
   ]
  },
  {
   "cell_type": "code",
   "execution_count": 18,
   "metadata": {},
   "outputs": [],
   "source": [
    "result.to_csv('submission.csv', index=False)"
   ]
  },
  {
   "cell_type": "code",
   "execution_count": null,
   "metadata": {},
   "outputs": [],
   "source": []
  }
 ],
 "metadata": {
  "kernelspec": {
   "display_name": "Python 3",
   "language": "python",
   "name": "python3"
  },
  "language_info": {
   "codemirror_mode": {
    "name": "ipython",
    "version": 3
   },
   "file_extension": ".py",
   "mimetype": "text/x-python",
   "name": "python",
   "nbconvert_exporter": "python",
   "pygments_lexer": "ipython3",
   "version": "3.7.4"
  }
 },
 "nbformat": 4,
 "nbformat_minor": 4
}
