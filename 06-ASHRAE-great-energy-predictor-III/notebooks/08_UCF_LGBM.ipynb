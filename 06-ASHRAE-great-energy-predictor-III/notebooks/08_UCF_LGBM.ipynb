{
 "cells": [
  {
   "cell_type": "code",
   "execution_count": 1,
   "metadata": {},
   "outputs": [],
   "source": [
    "import numpy as np\n",
    "import pandas as pd\n",
    "import warnings\n",
    "warnings.filterwarnings('ignore')\n",
    "import gc\n",
    "\n",
    "import pickle\n",
    "import matplotlib.pyplot as plt\n",
    "import seaborn as sns\n",
    "%matplotlib inline\n",
    "color = sns.color_palette()\n",
    "sns.set_style(\"darkgrid\")"
   ]
  },
  {
   "cell_type": "code",
   "execution_count": 2,
   "metadata": {},
   "outputs": [],
   "source": [
    "def change_dtype(df):\n",
    "    df['timestamp'] = pd.to_datetime(df['timestamp'], format='%Y-%m-%d %H:%M:%S')\n",
    "    return df\n",
    "\n",
    "def reduce_mem_usage(df, verbose=True):\n",
    "    numerics = ['int16', 'int32', 'int64', 'float16', 'float32', 'float64']\n",
    "    start_mem = df.memory_usage().sum() / 1024**2    \n",
    "    for col in df.columns:\n",
    "        col_type = df[col].dtypes\n",
    "        if col_type in numerics:\n",
    "            c_min = df[col].min()\n",
    "            c_max = df[col].max()\n",
    "            if str(col_type)[:3] == 'int':\n",
    "                if c_min > np.iinfo(np.int8).min and c_max < np.iinfo(np.int8).max:\n",
    "                    df[col] = df[col].astype(np.int8)\n",
    "                elif c_min > np.iinfo(np.int16).min and c_max < np.iinfo(np.int16).max:\n",
    "                    df[col] = df[col].astype(np.int16)\n",
    "                elif c_min > np.iinfo(np.int32).min and c_max < np.iinfo(np.int32).max:\n",
    "                    df[col] = df[col].astype(np.int32)\n",
    "                elif c_min > np.iinfo(np.int64).min and c_max < np.iinfo(np.int64).max:\n",
    "                    df[col] = df[col].astype(np.int64)  \n",
    "            else:\n",
    "                if c_min > np.finfo(np.float16).min and c_max < np.finfo(np.float16).max:\n",
    "                    df[col] = df[col].astype(np.float16)\n",
    "                elif c_min > np.finfo(np.float32).min and c_max < np.finfo(np.float32).max:\n",
    "                    df[col] = df[col].astype(np.float32)\n",
    "                else:\n",
    "                    df[col] = df[col].astype(np.float64)    \n",
    "    end_mem = df.memory_usage().sum() / 1024**2\n",
    "    if verbose: print('Mem. usage decreased to {:5.2f} Mb ({:.1f}% reduction)'.format(end_mem, 100 * (start_mem - end_mem) / start_mem))\n",
    "    return df"
   ]
  },
  {
   "cell_type": "markdown",
   "metadata": {},
   "source": [
    "__Using UCF data for site_id 0__ \n",
    "\n",
    "Special thanks to <a href=\"https://www.kaggle.com/gunesevitan/ashrae-ucf-spider-and-eda-full-test-labels/data\"> Gunes</a> for this awesome work"
   ]
  },
  {
   "cell_type": "code",
   "execution_count": 3,
   "metadata": {},
   "outputs": [
    {
     "name": "stdout",
     "output_type": "stream",
     "text": [
      "2260080\n"
     ]
    }
   ],
   "source": [
    "# load site 0 data\n",
    "ext_df = pd.read_pickle('site0.pkl') \n",
    "ext_df['meter_reading'] = ext_df.meter_reading_scraped\n",
    "ext_df.drop(['meter_reading_original','meter_reading_scraped'], axis=1, inplace=True)\n",
    "ext_df.fillna(0, inplace=True)\n",
    "ext_df.loc[ext_df.meter_reading < 0, 'meter_reading'] = 0\n",
    "ext_df = ext_df[ext_df.timestamp.dt.year > 2016]\n",
    "print(len(ext_df))"
   ]
  },
  {
   "cell_type": "code",
   "execution_count": 4,
   "metadata": {},
   "outputs": [
    {
     "data": {
      "text/html": [
       "<div>\n",
       "<style scoped>\n",
       "    .dataframe tbody tr th:only-of-type {\n",
       "        vertical-align: middle;\n",
       "    }\n",
       "\n",
       "    .dataframe tbody tr th {\n",
       "        vertical-align: top;\n",
       "    }\n",
       "\n",
       "    .dataframe thead th {\n",
       "        text-align: right;\n",
       "    }\n",
       "</style>\n",
       "<table border=\"1\" class=\"dataframe\">\n",
       "  <thead>\n",
       "    <tr style=\"text-align: right;\">\n",
       "      <th></th>\n",
       "      <th>building_id</th>\n",
       "      <th>meter</th>\n",
       "      <th>timestamp</th>\n",
       "      <th>meter_reading</th>\n",
       "    </tr>\n",
       "  </thead>\n",
       "  <tbody>\n",
       "    <tr>\n",
       "      <th>2457633</th>\n",
       "      <td>21</td>\n",
       "      <td>0</td>\n",
       "      <td>2018-03-23 01:00:00</td>\n",
       "      <td>56.106448</td>\n",
       "    </tr>\n",
       "    <tr>\n",
       "      <th>2998269</th>\n",
       "      <td>21</td>\n",
       "      <td>0</td>\n",
       "      <td>2018-09-13 16:00:00</td>\n",
       "      <td>117.536866</td>\n",
       "    </tr>\n",
       "    <tr>\n",
       "      <th>2226660</th>\n",
       "      <td>78</td>\n",
       "      <td>0</td>\n",
       "      <td>2018-01-07 10:00:00</td>\n",
       "      <td>653.073596</td>\n",
       "    </tr>\n",
       "    <tr>\n",
       "      <th>2840404</th>\n",
       "      <td>46</td>\n",
       "      <td>0</td>\n",
       "      <td>2018-07-24 16:00:00</td>\n",
       "      <td>76.590081</td>\n",
       "    </tr>\n",
       "    <tr>\n",
       "      <th>3262610</th>\n",
       "      <td>37</td>\n",
       "      <td>0</td>\n",
       "      <td>2018-12-08 01:00:00</td>\n",
       "      <td>181.902296</td>\n",
       "    </tr>\n",
       "  </tbody>\n",
       "</table>\n",
       "</div>"
      ],
      "text/plain": [
       "         building_id  meter           timestamp  meter_reading\n",
       "2457633           21      0 2018-03-23 01:00:00      56.106448\n",
       "2998269           21      0 2018-09-13 16:00:00     117.536866\n",
       "2226660           78      0 2018-01-07 10:00:00     653.073596\n",
       "2840404           46      0 2018-07-24 16:00:00      76.590081\n",
       "3262610           37      0 2018-12-08 01:00:00     181.902296"
      ]
     },
     "execution_count": 4,
     "metadata": {},
     "output_type": "execute_result"
    }
   ],
   "source": [
    "ext_df.sample(5)"
   ]
  },
  {
   "cell_type": "code",
   "execution_count": 5,
   "metadata": {},
   "outputs": [],
   "source": [
    "df_build = pd.read_csv('building_metadata.csv')\n",
    "df_weather_train = pd.read_csv('weather_train.csv')\n",
    "df_train = pd.read_csv('train.csv')\n",
    "df_weather_test =  pd.read_csv('weather_test.csv')"
   ]
  },
  {
   "cell_type": "code",
   "execution_count": 6,
   "metadata": {},
   "outputs": [],
   "source": [
    "ucf_year = [2017, 2018] # ucf data year used in train\n",
    "#Deleting sioi 0 data for 2016\n",
    "bids = ext_df.building_id.unique()\n",
    "df_train = df_train[df_train.building_id.isin(bids) == False]\n",
    "\n",
    "ext_df = ext_df[ext_df.timestamp.dt.year.isin(ucf_year)]\n",
    "\n",
    "df_train = pd.concat([df_train, ext_df])\n",
    "df_train.reset_index(inplace=True)\n",
    "\n",
    "df_weather_train = pd.concat([df_weather_train, df_weather_test])\n",
    "df_weather_train.reset_index(inplace=True)"
   ]
  },
  {
   "cell_type": "code",
   "execution_count": 7,
   "metadata": {},
   "outputs": [
    {
     "data": {
      "text/plain": [
       "22"
      ]
     },
     "execution_count": 7,
     "metadata": {},
     "output_type": "execute_result"
    }
   ],
   "source": [
    "del df_weather_test, ext_df\n",
    "gc.collect()"
   ]
  },
  {
   "cell_type": "code",
   "execution_count": 8,
   "metadata": {},
   "outputs": [
    {
     "name": "stdout",
     "output_type": "stream",
     "text": [
      "Mem. usage decreased to 387.76 Mb (52.5% reduction)\n",
      "Mem. usage decreased to 10.74 Mb (66.2% reduction)\n",
      "Mem. usage decreased to  0.03 Mb (60.3% reduction)\n"
     ]
    },
    {
     "data": {
      "text/plain": [
       "22"
      ]
     },
     "execution_count": 8,
     "metadata": {},
     "output_type": "execute_result"
    }
   ],
   "source": [
    "df_train = change_dtype(df_train)\n",
    "df_weather_train = change_dtype(df_weather_train)\n",
    "\n",
    "df_train = reduce_mem_usage(df_train)\n",
    "df_weather_train = reduce_mem_usage(df_weather_train)\n",
    "df_build= reduce_mem_usage(df_build)\n",
    "\n",
    "gc.collect()"
   ]
  },
  {
   "cell_type": "code",
   "execution_count": 9,
   "metadata": {},
   "outputs": [],
   "source": [
    "df_train['date'] = df_train['timestamp'].dt.date\n",
    "df_train['meter_reading_log1p'] = np.log1p(df_train['meter_reading'])"
   ]
  },
  {
   "cell_type": "code",
   "execution_count": 10,
   "metadata": {},
   "outputs": [],
   "source": [
    "def plot_date_usage(train_df, meter=0, building_id=0):\n",
    "    fig = plt.figure(figsize=(16, 8))\n",
    "    train_temp_df = train_df[train_df['meter'] == meter]\n",
    "    train_temp_df = train_temp_df[train_temp_df['building_id'] == building_id]    \n",
    "    train_temp_df_meter = train_temp_df.groupby('date')['meter_reading_log1p'].sum()\n",
    "    train_temp_df_meter = train_temp_df_meter.to_frame().reset_index()\n",
    "    sns.lineplot(x=train_temp_df_meter['date'], y=train_temp_df_meter['meter_reading_log1p'])\n",
    "    plt.show()"
   ]
  },
  {
   "cell_type": "code",
   "execution_count": 11,
   "metadata": {},
   "outputs": [
    {
     "data": {
      "image/png": "[encoded data removed]",
      "text/plain": [
       "<Figure size 1152x576 with 1 Axes>"
      ]
     },
     "metadata": {
      "needs_background": "light"
     },
     "output_type": "display_data"
    }
   ],
   "source": [
    "plot_date_usage(df_train, meter=0, building_id=0)"
   ]
  },
  {
   "cell_type": "markdown",
   "metadata": {},
   "source": [
    "### Removing data of site 0 till 20th of May 2016 for electricity meter"
   ]
  },
  {
   "cell_type": "code",
   "execution_count": 12,
   "metadata": {},
   "outputs": [],
   "source": [
    "df_train = df_train.query('not (building_id <= 104 & meter == 0 & timestamp <= \"2016-05-20\")')"
   ]
  },
  {
   "cell_type": "markdown",
   "metadata": {},
   "source": [
    "__As we already know weather has lot's of NaNs, We will fill Nan using Interpolation__"
   ]
  },
  {
   "cell_type": "code",
   "execution_count": 3,
   "metadata": {},
   "outputs": [],
   "source": [
    "def fill_weather(df):\n",
    "    df = df.groupby('site_id').apply(lambda group: group.interpolate(limit_direction='both'))\n",
    "    return df"
   ]
  },
  {
   "cell_type": "code",
   "execution_count": 14,
   "metadata": {},
   "outputs": [],
   "source": [
    "df_weather_train = fill_weather(df_weather_train)"
   ]
  },
  {
   "cell_type": "code",
   "execution_count": 15,
   "metadata": {},
   "outputs": [
    {
     "data": {
      "text/html": [
       "<div>\n",
       "<style scoped>\n",
       "    .dataframe tbody tr th:only-of-type {\n",
       "        vertical-align: middle;\n",
       "    }\n",
       "\n",
       "    .dataframe tbody tr th {\n",
       "        vertical-align: top;\n",
       "    }\n",
       "\n",
       "    .dataframe thead th {\n",
       "        text-align: right;\n",
       "    }\n",
       "</style>\n",
       "<table border=\"1\" class=\"dataframe\">\n",
       "  <thead>\n",
       "    <tr style=\"text-align: right;\">\n",
       "      <th></th>\n",
       "      <th>index</th>\n",
       "      <th>site_id</th>\n",
       "      <th>timestamp</th>\n",
       "      <th>air_temperature</th>\n",
       "      <th>cloud_coverage</th>\n",
       "      <th>dew_temperature</th>\n",
       "      <th>precip_depth_1_hr</th>\n",
       "      <th>sea_level_pressure</th>\n",
       "      <th>wind_direction</th>\n",
       "      <th>wind_speed</th>\n",
       "    </tr>\n",
       "    <tr>\n",
       "      <th>site_id</th>\n",
       "      <th></th>\n",
       "      <th></th>\n",
       "      <th></th>\n",
       "      <th></th>\n",
       "      <th></th>\n",
       "      <th></th>\n",
       "      <th></th>\n",
       "      <th></th>\n",
       "      <th></th>\n",
       "      <th></th>\n",
       "    </tr>\n",
       "  </thead>\n",
       "  <tbody>\n",
       "    <tr>\n",
       "      <th>0</th>\n",
       "      <td>0</td>\n",
       "      <td>0</td>\n",
       "      <td>0</td>\n",
       "      <td>0</td>\n",
       "      <td>0</td>\n",
       "      <td>0</td>\n",
       "      <td>0</td>\n",
       "      <td>0</td>\n",
       "      <td>0</td>\n",
       "      <td>0</td>\n",
       "    </tr>\n",
       "    <tr>\n",
       "      <th>1</th>\n",
       "      <td>0</td>\n",
       "      <td>0</td>\n",
       "      <td>0</td>\n",
       "      <td>0</td>\n",
       "      <td>0</td>\n",
       "      <td>0</td>\n",
       "      <td>26050</td>\n",
       "      <td>0</td>\n",
       "      <td>0</td>\n",
       "      <td>0</td>\n",
       "    </tr>\n",
       "    <tr>\n",
       "      <th>2</th>\n",
       "      <td>0</td>\n",
       "      <td>0</td>\n",
       "      <td>0</td>\n",
       "      <td>0</td>\n",
       "      <td>0</td>\n",
       "      <td>0</td>\n",
       "      <td>0</td>\n",
       "      <td>0</td>\n",
       "      <td>0</td>\n",
       "      <td>0</td>\n",
       "    </tr>\n",
       "    <tr>\n",
       "      <th>3</th>\n",
       "      <td>0</td>\n",
       "      <td>0</td>\n",
       "      <td>0</td>\n",
       "      <td>0</td>\n",
       "      <td>0</td>\n",
       "      <td>0</td>\n",
       "      <td>0</td>\n",
       "      <td>0</td>\n",
       "      <td>0</td>\n",
       "      <td>0</td>\n",
       "    </tr>\n",
       "    <tr>\n",
       "      <th>4</th>\n",
       "      <td>0</td>\n",
       "      <td>0</td>\n",
       "      <td>0</td>\n",
       "      <td>0</td>\n",
       "      <td>0</td>\n",
       "      <td>0</td>\n",
       "      <td>0</td>\n",
       "      <td>0</td>\n",
       "      <td>0</td>\n",
       "      <td>0</td>\n",
       "    </tr>\n",
       "    <tr>\n",
       "      <th>5</th>\n",
       "      <td>0</td>\n",
       "      <td>0</td>\n",
       "      <td>0</td>\n",
       "      <td>0</td>\n",
       "      <td>0</td>\n",
       "      <td>0</td>\n",
       "      <td>25996</td>\n",
       "      <td>25996</td>\n",
       "      <td>0</td>\n",
       "      <td>0</td>\n",
       "    </tr>\n",
       "    <tr>\n",
       "      <th>6</th>\n",
       "      <td>0</td>\n",
       "      <td>0</td>\n",
       "      <td>0</td>\n",
       "      <td>0</td>\n",
       "      <td>0</td>\n",
       "      <td>0</td>\n",
       "      <td>0</td>\n",
       "      <td>0</td>\n",
       "      <td>0</td>\n",
       "      <td>0</td>\n",
       "    </tr>\n",
       "    <tr>\n",
       "      <th>7</th>\n",
       "      <td>0</td>\n",
       "      <td>0</td>\n",
       "      <td>0</td>\n",
       "      <td>0</td>\n",
       "      <td>25187</td>\n",
       "      <td>0</td>\n",
       "      <td>0</td>\n",
       "      <td>0</td>\n",
       "      <td>0</td>\n",
       "      <td>0</td>\n",
       "    </tr>\n",
       "    <tr>\n",
       "      <th>8</th>\n",
       "      <td>0</td>\n",
       "      <td>0</td>\n",
       "      <td>0</td>\n",
       "      <td>0</td>\n",
       "      <td>0</td>\n",
       "      <td>0</td>\n",
       "      <td>0</td>\n",
       "      <td>0</td>\n",
       "      <td>0</td>\n",
       "      <td>0</td>\n",
       "    </tr>\n",
       "    <tr>\n",
       "      <th>9</th>\n",
       "      <td>0</td>\n",
       "      <td>0</td>\n",
       "      <td>0</td>\n",
       "      <td>0</td>\n",
       "      <td>0</td>\n",
       "      <td>0</td>\n",
       "      <td>0</td>\n",
       "      <td>0</td>\n",
       "      <td>0</td>\n",
       "      <td>0</td>\n",
       "    </tr>\n",
       "    <tr>\n",
       "      <th>10</th>\n",
       "      <td>0</td>\n",
       "      <td>0</td>\n",
       "      <td>0</td>\n",
       "      <td>0</td>\n",
       "      <td>0</td>\n",
       "      <td>0</td>\n",
       "      <td>0</td>\n",
       "      <td>0</td>\n",
       "      <td>0</td>\n",
       "      <td>0</td>\n",
       "    </tr>\n",
       "    <tr>\n",
       "      <th>11</th>\n",
       "      <td>0</td>\n",
       "      <td>0</td>\n",
       "      <td>0</td>\n",
       "      <td>0</td>\n",
       "      <td>25187</td>\n",
       "      <td>0</td>\n",
       "      <td>0</td>\n",
       "      <td>0</td>\n",
       "      <td>0</td>\n",
       "      <td>0</td>\n",
       "    </tr>\n",
       "    <tr>\n",
       "      <th>12</th>\n",
       "      <td>0</td>\n",
       "      <td>0</td>\n",
       "      <td>0</td>\n",
       "      <td>0</td>\n",
       "      <td>0</td>\n",
       "      <td>0</td>\n",
       "      <td>26034</td>\n",
       "      <td>0</td>\n",
       "      <td>0</td>\n",
       "      <td>0</td>\n",
       "    </tr>\n",
       "    <tr>\n",
       "      <th>13</th>\n",
       "      <td>0</td>\n",
       "      <td>0</td>\n",
       "      <td>0</td>\n",
       "      <td>0</td>\n",
       "      <td>0</td>\n",
       "      <td>0</td>\n",
       "      <td>0</td>\n",
       "      <td>0</td>\n",
       "      <td>0</td>\n",
       "      <td>0</td>\n",
       "    </tr>\n",
       "    <tr>\n",
       "      <th>14</th>\n",
       "      <td>0</td>\n",
       "      <td>0</td>\n",
       "      <td>0</td>\n",
       "      <td>0</td>\n",
       "      <td>0</td>\n",
       "      <td>0</td>\n",
       "      <td>0</td>\n",
       "      <td>0</td>\n",
       "      <td>0</td>\n",
       "      <td>0</td>\n",
       "    </tr>\n",
       "    <tr>\n",
       "      <th>15</th>\n",
       "      <td>0</td>\n",
       "      <td>0</td>\n",
       "      <td>0</td>\n",
       "      <td>0</td>\n",
       "      <td>0</td>\n",
       "      <td>0</td>\n",
       "      <td>0</td>\n",
       "      <td>0</td>\n",
       "      <td>0</td>\n",
       "      <td>0</td>\n",
       "    </tr>\n",
       "  </tbody>\n",
       "</table>\n",
       "</div>"
      ],
      "text/plain": [
       "         index  site_id  timestamp  air_temperature  cloud_coverage  \\\n",
       "site_id                                                               \n",
       "0            0        0          0                0               0   \n",
       "1            0        0          0                0               0   \n",
       "2            0        0          0                0               0   \n",
       "3            0        0          0                0               0   \n",
       "4            0        0          0                0               0   \n",
       "5            0        0          0                0               0   \n",
       "6            0        0          0                0               0   \n",
       "7            0        0          0                0           25187   \n",
       "8            0        0          0                0               0   \n",
       "9            0        0          0                0               0   \n",
       "10           0        0          0                0               0   \n",
       "11           0        0          0                0           25187   \n",
       "12           0        0          0                0               0   \n",
       "13           0        0          0                0               0   \n",
       "14           0        0          0                0               0   \n",
       "15           0        0          0                0               0   \n",
       "\n",
       "         dew_temperature  precip_depth_1_hr  sea_level_pressure  \\\n",
       "site_id                                                           \n",
       "0                      0                  0                   0   \n",
       "1                      0              26050                   0   \n",
       "2                      0                  0                   0   \n",
       "3                      0                  0                   0   \n",
       "4                      0                  0                   0   \n",
       "5                      0              25996               25996   \n",
       "6                      0                  0                   0   \n",
       "7                      0                  0                   0   \n",
       "8                      0                  0                   0   \n",
       "9                      0                  0                   0   \n",
       "10                     0                  0                   0   \n",
       "11                     0                  0                   0   \n",
       "12                     0              26034                   0   \n",
       "13                     0                  0                   0   \n",
       "14                     0                  0                   0   \n",
       "15                     0                  0                   0   \n",
       "\n",
       "         wind_direction  wind_speed  \n",
       "site_id                              \n",
       "0                     0           0  \n",
       "1                     0           0  \n",
       "2                     0           0  \n",
       "3                     0           0  \n",
       "4                     0           0  \n",
       "5                     0           0  \n",
       "6                     0           0  \n",
       "7                     0           0  \n",
       "8                     0           0  \n",
       "9                     0           0  \n",
       "10                    0           0  \n",
       "11                    0           0  \n",
       "12                    0           0  \n",
       "13                    0           0  \n",
       "14                    0           0  \n",
       "15                    0           0  "
      ]
     },
     "execution_count": 15,
     "metadata": {},
     "output_type": "execute_result"
    }
   ],
   "source": [
    "df_weather_train.groupby('site_id').apply(lambda group: group.isna().sum())"
   ]
  },
  {
   "cell_type": "markdown",
   "metadata": {},
   "source": [
    "We can see that some sites dosen't have any information for some of the features hence we are still getting NaNs"
   ]
  },
  {
   "cell_type": "code",
   "execution_count": 16,
   "metadata": {},
   "outputs": [],
   "source": [
    "def pre_preprocess_data(df, test=False):\n",
    "    \n",
    "    \"\"\"\n",
    "    Preparing final dataset with all features.\n",
    "    \"\"\"\n",
    "#     df.square_feet = np.log1p(df.square_feet)\n",
    "    \n",
    "    if not test:\n",
    "        df.sort_values(\"timestamp\", inplace=True)\n",
    "        df.reset_index(drop=True, inplace=True)\n",
    "    \n",
    "#     holidays = [\"2016-01-01\", \"2016-01-18\", \"2016-02-15\", \"2016-05-30\", \"2016-07-04\",\n",
    "#                 \"2016-09-05\", \"2016-10-10\", \"2016-11-11\", \"2016-11-24\", \"2016-12-26\",\n",
    "#                 \"2017-01-01\", \"2017-01-16\", \"2017-02-20\", \"2017-05-29\", \"2017-07-04\",\n",
    "#                 \"2017-09-04\", \"2017-10-09\", \"2017-11-10\", \"2017-11-23\", \"2017-12-25\",\n",
    "#                 \"2018-01-01\", \"2018-01-15\", \"2018-02-19\", \"2018-05-28\", \"2018-07-04\",\n",
    "#                 \"2018-09-03\", \"2018-10-08\", \"2018-11-12\", \"2018-11-22\", \"2018-12-25\",\n",
    "#                 \"2019-01-01\"]\n",
    "    \n",
    "    df[\"hour\"] = df[\"timestamp\"].dt.hour\n",
    "    df[\"weekend\"] = df[\"timestamp\"].dt.weekday\n",
    "    df[\"month\"] = df[\"timestamp\"].dt.month\n",
    "    df[\"dayofweek\"] = df[\"timestamp\"].dt.dayofweek\n",
    "#     df[\"is_holiday\"] = (df.timestamp.dt.date.astype(\"str\").isin(holidays)).astype(int)\n",
    "\n",
    "    df_group = df.groupby('building_id')['meter_reading_log1p']\n",
    "    building_median = df_group.median().astype(np.float16)\n",
    "    df['building_median'] = df['building_id'].map(building_median)\n",
    "    \n",
    "    del df_group\n",
    "    gc.collect()\n",
    "\n",
    "    return df, building_median"
   ]
  },
  {
   "cell_type": "code",
   "execution_count": 17,
   "metadata": {},
   "outputs": [],
   "source": [
    "df_train, building_median = pre_preprocess_data(df_train)"
   ]
  },
  {
   "cell_type": "code",
   "execution_count": null,
   "metadata": {},
   "outputs": [],
   "source": [
    "picfile = open('buildings.pkl', 'wb')\n",
    "pickle.dump(building_median, picfile)\n",
    "picfile.close()"
   ]
  },
  {
   "cell_type": "code",
   "execution_count": 18,
   "metadata": {},
   "outputs": [
    {
     "data": {
      "text/html": [
       "<div>\n",
       "<style scoped>\n",
       "    .dataframe tbody tr th:only-of-type {\n",
       "        vertical-align: middle;\n",
       "    }\n",
       "\n",
       "    .dataframe tbody tr th {\n",
       "        vertical-align: top;\n",
       "    }\n",
       "\n",
       "    .dataframe thead th {\n",
       "        text-align: right;\n",
       "    }\n",
       "</style>\n",
       "<table border=\"1\" class=\"dataframe\">\n",
       "  <thead>\n",
       "    <tr style=\"text-align: right;\">\n",
       "      <th></th>\n",
       "      <th>index</th>\n",
       "      <th>building_id</th>\n",
       "      <th>meter</th>\n",
       "      <th>timestamp</th>\n",
       "      <th>meter_reading</th>\n",
       "      <th>date</th>\n",
       "      <th>meter_reading_log1p</th>\n",
       "      <th>hour</th>\n",
       "      <th>weekend</th>\n",
       "      <th>month</th>\n",
       "      <th>dayofweek</th>\n",
       "      <th>building_median</th>\n",
       "    </tr>\n",
       "  </thead>\n",
       "  <tbody>\n",
       "    <tr>\n",
       "      <th>0</th>\n",
       "      <td>103</td>\n",
       "      <td>105</td>\n",
       "      <td>0</td>\n",
       "      <td>2016-01-01</td>\n",
       "      <td>23.303600</td>\n",
       "      <td>2016-01-01</td>\n",
       "      <td>3.190624</td>\n",
       "      <td>0</td>\n",
       "      <td>4</td>\n",
       "      <td>1</td>\n",
       "      <td>4</td>\n",
       "      <td>4.332031</td>\n",
       "    </tr>\n",
       "    <tr>\n",
       "      <th>1</th>\n",
       "      <td>1577</td>\n",
       "      <td>1123</td>\n",
       "      <td>0</td>\n",
       "      <td>2016-01-01</td>\n",
       "      <td>27.444000</td>\n",
       "      <td>2016-01-01</td>\n",
       "      <td>3.347937</td>\n",
       "      <td>0</td>\n",
       "      <td>4</td>\n",
       "      <td>1</td>\n",
       "      <td>4</td>\n",
       "      <td>3.533203</td>\n",
       "    </tr>\n",
       "    <tr>\n",
       "      <th>2</th>\n",
       "      <td>1576</td>\n",
       "      <td>1122</td>\n",
       "      <td>1</td>\n",
       "      <td>2016-01-01</td>\n",
       "      <td>0.000000</td>\n",
       "      <td>2016-01-01</td>\n",
       "      <td>0.000000</td>\n",
       "      <td>0</td>\n",
       "      <td>4</td>\n",
       "      <td>1</td>\n",
       "      <td>4</td>\n",
       "      <td>4.144531</td>\n",
       "    </tr>\n",
       "    <tr>\n",
       "      <th>3</th>\n",
       "      <td>1575</td>\n",
       "      <td>1122</td>\n",
       "      <td>0</td>\n",
       "      <td>2016-01-01</td>\n",
       "      <td>70.580002</td>\n",
       "      <td>2016-01-01</td>\n",
       "      <td>4.270816</td>\n",
       "      <td>0</td>\n",
       "      <td>4</td>\n",
       "      <td>1</td>\n",
       "      <td>4</td>\n",
       "      <td>4.144531</td>\n",
       "    </tr>\n",
       "    <tr>\n",
       "      <th>4</th>\n",
       "      <td>1574</td>\n",
       "      <td>1121</td>\n",
       "      <td>2</td>\n",
       "      <td>2016-01-01</td>\n",
       "      <td>1570.310059</td>\n",
       "      <td>2016-01-01</td>\n",
       "      <td>7.359665</td>\n",
       "      <td>0</td>\n",
       "      <td>4</td>\n",
       "      <td>1</td>\n",
       "      <td>4</td>\n",
       "      <td>5.101562</td>\n",
       "    </tr>\n",
       "  </tbody>\n",
       "</table>\n",
       "</div>"
      ],
      "text/plain": [
       "   index  building_id  meter  timestamp  meter_reading        date  \\\n",
       "0    103          105      0 2016-01-01      23.303600  2016-01-01   \n",
       "1   1577         1123      0 2016-01-01      27.444000  2016-01-01   \n",
       "2   1576         1122      1 2016-01-01       0.000000  2016-01-01   \n",
       "3   1575         1122      0 2016-01-01      70.580002  2016-01-01   \n",
       "4   1574         1121      2 2016-01-01    1570.310059  2016-01-01   \n",
       "\n",
       "   meter_reading_log1p  hour  weekend  month  dayofweek  building_median  \n",
       "0             3.190624     0        4      1          4         4.332031  \n",
       "1             3.347937     0        4      1          4         3.533203  \n",
       "2             0.000000     0        4      1          4         4.144531  \n",
       "3             4.270816     0        4      1          4         4.144531  \n",
       "4             7.359665     0        4      1          4         5.101562  "
      ]
     },
     "execution_count": 18,
     "metadata": {},
     "output_type": "execute_result"
    }
   ],
   "source": [
    "df_train.head()"
   ]
  },
  {
   "cell_type": "code",
   "execution_count": 4,
   "metadata": {},
   "outputs": [],
   "source": [
    "category_cols = ['building_id', 'site_id', 'primary_use']\n",
    "feature_cols = ['square_feet', 'year_built'] + [\n",
    "    'hour', 'weekend',\n",
    "    'building_median'] + [\n",
    "    'air_temperature', 'cloud_coverage',\n",
    "    'dew_temperature', 'precip_depth_1_hr', 'sea_level_pressure',\n",
    "    'wind_direction', 'wind_speed']"
   ]
  },
  {
   "cell_type": "code",
   "execution_count": 5,
   "metadata": {},
   "outputs": [],
   "source": [
    "from sklearn.preprocessing import LabelEncoder"
   ]
  },
  {
   "cell_type": "code",
   "execution_count": 21,
   "metadata": {},
   "outputs": [],
   "source": [
    "le = LabelEncoder()\n",
    "df_build.primary_use = le.fit_transform(df_build.primary_use)"
   ]
  },
  {
   "cell_type": "code",
   "execution_count": 22,
   "metadata": {},
   "outputs": [],
   "source": [
    "def create_X_y(train_df, target_meter):\n",
    "    \n",
    "    target_train_df = train_df[train_df['meter'] == target_meter]\n",
    "    target_train_df = target_train_df.merge(df_build, on='building_id', how='left')\n",
    "    target_train_df = target_train_df.merge(df_weather_train, on=['site_id', 'timestamp'], how='left')\n",
    "    target_train_df.square_feet = np.log1p(target_train_df.square_feet)\n",
    "    \n",
    "    X_train = target_train_df[feature_cols + category_cols]\n",
    "    y_train = target_train_df['meter_reading_log1p'].values\n",
    "    \n",
    "    del target_train_df\n",
    "    gc.collect()\n",
    "    return X_train, y_train"
   ]
  },
  {
   "cell_type": "code",
   "execution_count": 6,
   "metadata": {},
   "outputs": [],
   "source": [
    "import lightgbm as lgb\n",
    "import random\n",
    "from sklearn.metrics import mean_squared_error\n",
    "from sklearn.model_selection import KFold\n",
    "random.seed(12)"
   ]
  },
  {
   "cell_type": "code",
   "execution_count": 24,
   "metadata": {},
   "outputs": [],
   "source": [
    "def fit_lgbm(train, val, devices=(-1,), seed=None, cat_features=None, num_rounds=1500, lr=0.1, bf=0.1):\n",
    "    \"\"\"Train Light GBM model\"\"\"\n",
    "    X_train, y_train = train\n",
    "    X_valid, y_valid = val\n",
    "    metric = 'l2'\n",
    "    params = {'num_leaves': 31,\n",
    "              'objective': 'regression',\n",
    "              'learning_rate': lr,\n",
    "              \"boosting\": \"gbdt\",\n",
    "              \"bagging_freq\": 5,\n",
    "              \"bagging_fraction\": bf,\n",
    "              \"feature_fraction\": 0.9,\n",
    "              \"metric\": metric,\n",
    "              }\n",
    "    device = devices[0]\n",
    "    if device == -1:\n",
    "        # use cpu\n",
    "        pass\n",
    "    else:\n",
    "        # use gpu\n",
    "        print(f'using gpu device_id {device}...')\n",
    "        params.update({'device': 'gpu', 'gpu_device_id': device})\n",
    "\n",
    "    params['seed'] = seed\n",
    "\n",
    "    early_stop = 20\n",
    "    verbose_eval = 20\n",
    "\n",
    "    d_train = lgb.Dataset(X_train, label=y_train, categorical_feature=cat_features)\n",
    "    d_valid = lgb.Dataset(X_valid, label=y_valid, categorical_feature=cat_features)\n",
    "    watchlist = [d_train, d_valid]\n",
    "\n",
    "    print('training LGB:')\n",
    "    model = lgb.train(params,\n",
    "                      train_set=d_train,\n",
    "                      num_boost_round=num_rounds,\n",
    "                      valid_sets=watchlist,\n",
    "                      verbose_eval=verbose_eval,\n",
    "                      early_stopping_rounds=early_stop)\n",
    "\n",
    "    # predictions\n",
    "    y_pred_valid = model.predict(X_valid, num_iteration=model.best_iteration)\n",
    "    \n",
    "    print('best_score', model.best_score)\n",
    "    log = {'train/mae': model.best_score['training']['l2'],\n",
    "           'valid/mae': model.best_score['valid_1']['l2']}\n",
    "    return model, y_pred_valid, log"
   ]
  },
  {
   "cell_type": "code",
   "execution_count": 7,
   "metadata": {},
   "outputs": [],
   "source": [
    "folds = 5\n",
    "num_rounds=1000\n",
    "seed = 666\n",
    "shuffle = False\n",
    "kf = KFold(n_splits=folds, shuffle=shuffle, random_state=seed)\n",
    "oof_total = 0"
   ]
  },
  {
   "cell_type": "markdown",
   "metadata": {},
   "source": [
    "### Traning Model for meter 0"
   ]
  },
  {
   "cell_type": "code",
   "execution_count": 26,
   "metadata": {},
   "outputs": [
    {
     "name": "stdout",
     "output_type": "stream",
     "text": [
      "target_meter 0 (12992101, 15)\n",
      "cat_features [12, 13, 14]\n",
      "train 10393680 valid 2598421\n",
      "training LGB:\n",
      "Training until validation scores don't improve for 20 rounds\n",
      "[20]\ttraining's l2: 0.712079\tvalid_1's l2: 0.72187\n",
      "[40]\ttraining's l2: 0.438312\tvalid_1's l2: 0.483635\n",
      "[60]\ttraining's l2: 0.384046\tvalid_1's l2: 0.445374\n",
      "[80]\ttraining's l2: 0.361598\tvalid_1's l2: 0.442077\n",
      "Early stopping, best iteration is:\n",
      "[70]\ttraining's l2: 0.37095\tvalid_1's l2: 0.44184\n",
      "best_score defaultdict(<class 'collections.OrderedDict'>, {'training': OrderedDict([('l2', 0.370950363487402)]), 'valid_1': OrderedDict([('l2', 0.4418396456899522)])})\n",
      "train 10393681 valid 2598420\n",
      "training LGB:\n",
      "Training until validation scores don't improve for 20 rounds\n",
      "[20]\ttraining's l2: 0.7378\tvalid_1's l2: 0.643597\n",
      "[40]\ttraining's l2: 0.466463\tvalid_1's l2: 0.372888\n",
      "[60]\ttraining's l2: 0.4112\tvalid_1's l2: 0.320096\n",
      "[80]\ttraining's l2: 0.387744\tvalid_1's l2: 0.304858\n",
      "[100]\ttraining's l2: 0.367216\tvalid_1's l2: 0.300076\n",
      "[120]\ttraining's l2: 0.353472\tvalid_1's l2: 0.297946\n",
      "[140]\ttraining's l2: 0.343494\tvalid_1's l2: 0.297017\n",
      "[160]\ttraining's l2: 0.335538\tvalid_1's l2: 0.297426\n",
      "Early stopping, best iteration is:\n",
      "[146]\ttraining's l2: 0.341383\tvalid_1's l2: 0.296651\n",
      "best_score defaultdict(<class 'collections.OrderedDict'>, {'training': OrderedDict([('l2', 0.3413830109788483)]), 'valid_1': OrderedDict([('l2', 0.2966505544820534)])})\n",
      "train 10393681 valid 2598420\n",
      "training LGB:\n",
      "Training until validation scores don't improve for 20 rounds\n",
      "[20]\ttraining's l2: 0.702618\tvalid_1's l2: 0.77561\n",
      "[40]\ttraining's l2: 0.429829\tvalid_1's l2: 0.526141\n",
      "[60]\ttraining's l2: 0.378018\tvalid_1's l2: 0.480733\n",
      "[80]\ttraining's l2: 0.359112\tvalid_1's l2: 0.460868\n",
      "[100]\ttraining's l2: 0.342434\tvalid_1's l2: 0.440434\n",
      "[120]\ttraining's l2: 0.33062\tvalid_1's l2: 0.427655\n",
      "[140]\ttraining's l2: 0.323049\tvalid_1's l2: 0.419134\n",
      "[160]\ttraining's l2: 0.316071\tvalid_1's l2: 0.41383\n",
      "[180]\ttraining's l2: 0.310636\tvalid_1's l2: 0.409926\n",
      "[200]\ttraining's l2: 0.305611\tvalid_1's l2: 0.4087\n",
      "[220]\ttraining's l2: 0.301978\tvalid_1's l2: 0.407701\n",
      "[240]\ttraining's l2: 0.29861\tvalid_1's l2: 0.406928\n",
      "[260]\ttraining's l2: 0.294688\tvalid_1's l2: 0.406686\n",
      "[280]\ttraining's l2: 0.290596\tvalid_1's l2: 0.406539\n",
      "Early stopping, best iteration is:\n",
      "[274]\ttraining's l2: 0.291828\tvalid_1's l2: 0.405851\n",
      "best_score defaultdict(<class 'collections.OrderedDict'>, {'training': OrderedDict([('l2', 0.29182798200931587)]), 'valid_1': OrderedDict([('l2', 0.4058509703953797)])})\n",
      "train 10393681 valid 2598420\n",
      "training LGB:\n",
      "Training until validation scores don't improve for 20 rounds\n",
      "[20]\ttraining's l2: 0.685626\tvalid_1's l2: 0.837884\n",
      "[40]\ttraining's l2: 0.409371\tvalid_1's l2: 0.614136\n",
      "[60]\ttraining's l2: 0.354626\tvalid_1's l2: 0.578356\n",
      "[80]\ttraining's l2: 0.332599\tvalid_1's l2: 0.569963\n",
      "[100]\ttraining's l2: 0.315613\tvalid_1's l2: 0.568054\n",
      "[120]\ttraining's l2: 0.304984\tvalid_1's l2: 0.565419\n",
      "[140]\ttraining's l2: 0.297222\tvalid_1's l2: 0.56637\n",
      "Early stopping, best iteration is:\n",
      "[120]\ttraining's l2: 0.304984\tvalid_1's l2: 0.565419\n",
      "best_score defaultdict(<class 'collections.OrderedDict'>, {'training': OrderedDict([('l2', 0.3049836183147761)]), 'valid_1': OrderedDict([('l2', 0.5654193730079626)])})\n",
      "train 10393681 valid 2598420\n",
      "training LGB:\n",
      "Training until validation scores don't improve for 20 rounds\n",
      "[20]\ttraining's l2: 0.690706\tvalid_1's l2: 1.04942\n",
      "[40]\ttraining's l2: 0.429544\tvalid_1's l2: 0.678725\n",
      "[60]\ttraining's l2: 0.376001\tvalid_1's l2: 0.603242\n",
      "[80]\ttraining's l2: 0.353214\tvalid_1's l2: 0.587595\n",
      "[100]\ttraining's l2: 0.335314\tvalid_1's l2: 0.582667\n",
      "[120]\ttraining's l2: 0.320468\tvalid_1's l2: 0.581242\n",
      "[140]\ttraining's l2: 0.31135\tvalid_1's l2: 0.580144\n",
      "Early stopping, best iteration is:\n",
      "[138]\ttraining's l2: 0.312188\tvalid_1's l2: 0.579436\n",
      "best_score defaultdict(<class 'collections.OrderedDict'>, {'training': OrderedDict([('l2', 0.3121880068188722)]), 'valid_1': OrderedDict([('l2', 0.5794355910400589)])})\n"
     ]
    },
    {
     "data": {
      "text/plain": [
       "10"
      ]
     },
     "execution_count": 26,
     "metadata": {},
     "output_type": "execute_result"
    },
    {
     "data": {
      "image/png": "[encoded data removed]",
      "text/plain": [
       "<Figure size 432x288 with 1 Axes>"
      ]
     },
     "metadata": {
      "needs_background": "light"
     },
     "output_type": "display_data"
    }
   ],
   "source": [
    "target_meter = 0\n",
    "X_train, y_train = create_X_y(df_train, target_meter=target_meter)\n",
    "y_valid_pred_total = np.zeros(X_train.shape[0])\n",
    "gc.collect()\n",
    "print('target_meter', target_meter, X_train.shape)\n",
    "\n",
    "cat_features = [X_train.columns.get_loc(cat_col) for cat_col in category_cols]\n",
    "print('cat_features', cat_features)\n",
    "\n",
    "models0 = []\n",
    "for train_idx, valid_idx in kf.split(X_train, y_train):\n",
    "    train_data = X_train.iloc[train_idx,:], y_train[train_idx]\n",
    "    valid_data = X_train.iloc[valid_idx,:], y_train[valid_idx]\n",
    "\n",
    "    print('train', len(train_idx), 'valid', len(valid_idx))\n",
    "    model, y_pred_valid, log = fit_lgbm(train_data, valid_data, cat_features=category_cols,\n",
    "                                        num_rounds=num_rounds, lr=0.05, bf=0.7)\n",
    "    y_valid_pred_total[valid_idx] = y_pred_valid\n",
    "    models0.append(model)\n",
    "    gc.collect()\n",
    "\n",
    "sns.distplot(y_train)\n",
    "sns.distplot(y_valid_pred_total)\n",
    "\n",
    "oof0 = mean_squared_error(y_train, y_valid_pred_total)\n",
    "oof_total += oof0 * len(y_train)\n",
    "\n",
    "del X_train, y_train\n",
    "gc.collect()"
   ]
  },
  {
   "cell_type": "code",
   "execution_count": 27,
   "metadata": {},
   "outputs": [
    {
     "name": "stdout",
     "output_type": "stream",
     "text": [
      "target_meter 1 (4434667, 15)\n",
      "cat_features [12, 13, 14]\n",
      "train 3547733 valid 886934\n",
      "training LGB:\n",
      "Training until validation scores don't improve for 20 rounds\n",
      "[20]\ttraining's l2: 2.92126\tvalid_1's l2: 3.10636\n",
      "[40]\ttraining's l2: 2.15206\tvalid_1's l2: 2.10957\n",
      "[60]\ttraining's l2: 1.90595\tvalid_1's l2: 1.8772\n",
      "[80]\ttraining's l2: 1.78546\tvalid_1's l2: 1.79445\n",
      "[100]\ttraining's l2: 1.71604\tvalid_1's l2: 1.75368\n",
      "[120]\ttraining's l2: 1.67075\tvalid_1's l2: 1.7343\n",
      "[140]\ttraining's l2: 1.63674\tvalid_1's l2: 1.71921\n",
      "[160]\ttraining's l2: 1.61094\tvalid_1's l2: 1.70919\n",
      "[180]\ttraining's l2: 1.58651\tvalid_1's l2: 1.70548\n",
      "[200]\ttraining's l2: 1.56767\tvalid_1's l2: 1.69903\n",
      "[220]\ttraining's l2: 1.55287\tvalid_1's l2: 1.69641\n",
      "[240]\ttraining's l2: 1.53877\tvalid_1's l2: 1.69459\n",
      "[260]\ttraining's l2: 1.52539\tvalid_1's l2: 1.69439\n",
      "Early stopping, best iteration is:\n",
      "[246]\ttraining's l2: 1.5351\tvalid_1's l2: 1.693\n",
      "best_score defaultdict(<class 'collections.OrderedDict'>, {'training': OrderedDict([('l2', 1.5350978188900566)]), 'valid_1': OrderedDict([('l2', 1.692998012500132)])})\n",
      "train 3547733 valid 886934\n",
      "training LGB:\n",
      "Training until validation scores don't improve for 20 rounds\n",
      "[20]\ttraining's l2: 2.94073\tvalid_1's l2: 2.34404\n",
      "[40]\ttraining's l2: 2.14544\tvalid_1's l2: 1.74757\n",
      "[60]\ttraining's l2: 1.90732\tvalid_1's l2: 1.58764\n",
      "[80]\ttraining's l2: 1.79898\tvalid_1's l2: 1.51551\n",
      "[100]\ttraining's l2: 1.73239\tvalid_1's l2: 1.47769\n",
      "[120]\ttraining's l2: 1.68251\tvalid_1's l2: 1.45871\n",
      "[140]\ttraining's l2: 1.64129\tvalid_1's l2: 1.44866\n",
      "[160]\ttraining's l2: 1.61665\tvalid_1's l2: 1.44138\n",
      "[180]\ttraining's l2: 1.59222\tvalid_1's l2: 1.4401\n",
      "[200]\ttraining's l2: 1.57356\tvalid_1's l2: 1.43603\n",
      "[220]\ttraining's l2: 1.55741\tvalid_1's l2: 1.43501\n",
      "[240]\ttraining's l2: 1.54447\tvalid_1's l2: 1.43015\n",
      "[260]\ttraining's l2: 1.53215\tvalid_1's l2: 1.42942\n",
      "[280]\ttraining's l2: 1.52288\tvalid_1's l2: 1.42816\n",
      "[300]\ttraining's l2: 1.51374\tvalid_1's l2: 1.42589\n",
      "[320]\ttraining's l2: 1.50176\tvalid_1's l2: 1.42535\n",
      "Early stopping, best iteration is:\n",
      "[313]\ttraining's l2: 1.50657\tvalid_1's l2: 1.42491\n",
      "best_score defaultdict(<class 'collections.OrderedDict'>, {'training': OrderedDict([('l2', 1.5065670309192511)]), 'valid_1': OrderedDict([('l2', 1.4249126046239313)])})\n",
      "train 3547734 valid 886933\n",
      "training LGB:\n",
      "Training until validation scores don't improve for 20 rounds\n",
      "[20]\ttraining's l2: 2.95397\tvalid_1's l2: 3.10251\n",
      "[40]\ttraining's l2: 2.11925\tvalid_1's l2: 2.23844\n",
      "[60]\ttraining's l2: 1.87356\tvalid_1's l2: 1.96172\n",
      "[80]\ttraining's l2: 1.76724\tvalid_1's l2: 1.85907\n",
      "[100]\ttraining's l2: 1.70694\tvalid_1's l2: 1.80082\n",
      "[120]\ttraining's l2: 1.66312\tvalid_1's l2: 1.75638\n",
      "[140]\ttraining's l2: 1.63043\tvalid_1's l2: 1.73076\n",
      "[160]\ttraining's l2: 1.60595\tvalid_1's l2: 1.7149\n",
      "[180]\ttraining's l2: 1.5866\tvalid_1's l2: 1.71055\n",
      "[200]\ttraining's l2: 1.57085\tvalid_1's l2: 1.70733\n",
      "[220]\ttraining's l2: 1.55641\tvalid_1's l2: 1.70429\n",
      "[240]\ttraining's l2: 1.54356\tvalid_1's l2: 1.70809\n",
      "Early stopping, best iteration is:\n",
      "[235]\ttraining's l2: 1.54659\tvalid_1's l2: 1.70374\n",
      "best_score defaultdict(<class 'collections.OrderedDict'>, {'training': OrderedDict([('l2', 1.5465935845199228)]), 'valid_1': OrderedDict([('l2', 1.703738093295769)])})\n",
      "train 3547734 valid 886933\n",
      "training LGB:\n",
      "Training until validation scores don't improve for 20 rounds\n",
      "[20]\ttraining's l2: 2.8062\tvalid_1's l2: 2.85047\n",
      "[40]\ttraining's l2: 1.99191\tvalid_1's l2: 2.39364\n",
      "[60]\ttraining's l2: 1.75041\tvalid_1's l2: 2.27919\n",
      "[80]\ttraining's l2: 1.64481\tvalid_1's l2: 2.2294\n",
      "[100]\ttraining's l2: 1.58217\tvalid_1's l2: 2.20253\n",
      "[120]\ttraining's l2: 1.53924\tvalid_1's l2: 2.18806\n",
      "[140]\ttraining's l2: 1.50876\tvalid_1's l2: 2.17385\n",
      "[160]\ttraining's l2: 1.48656\tvalid_1's l2: 2.16254\n",
      "[180]\ttraining's l2: 1.46509\tvalid_1's l2: 2.15599\n",
      "[200]\ttraining's l2: 1.44903\tvalid_1's l2: 2.14666\n",
      "[220]\ttraining's l2: 1.43519\tvalid_1's l2: 2.14086\n",
      "[240]\ttraining's l2: 1.42219\tvalid_1's l2: 2.13629\n",
      "[260]\ttraining's l2: 1.41282\tvalid_1's l2: 2.13454\n",
      "[280]\ttraining's l2: 1.40345\tvalid_1's l2: 2.13143\n",
      "[300]\ttraining's l2: 1.39417\tvalid_1's l2: 2.13141\n",
      "[320]\ttraining's l2: 1.3876\tvalid_1's l2: 2.1305\n",
      "[340]\ttraining's l2: 1.38124\tvalid_1's l2: 2.12992\n",
      "[360]\ttraining's l2: 1.37423\tvalid_1's l2: 2.12715\n",
      "[380]\ttraining's l2: 1.36651\tvalid_1's l2: 2.12533\n",
      "[400]\ttraining's l2: 1.35951\tvalid_1's l2: 2.12479\n",
      "[420]\ttraining's l2: 1.35306\tvalid_1's l2: 2.12519\n",
      "Early stopping, best iteration is:\n",
      "[403]\ttraining's l2: 1.3587\tvalid_1's l2: 2.12408\n",
      "best_score defaultdict(<class 'collections.OrderedDict'>, {'training': OrderedDict([('l2', 1.3586998879298908)]), 'valid_1': OrderedDict([('l2', 2.1240788731018774)])})\n",
      "train 3547734 valid 886933\n",
      "training LGB:\n",
      "Training until validation scores don't improve for 20 rounds\n",
      "[20]\ttraining's l2: 2.43777\tvalid_1's l2: 5.7429\n",
      "[40]\ttraining's l2: 1.71316\tvalid_1's l2: 4.96637\n",
      "[60]\ttraining's l2: 1.49904\tvalid_1's l2: 4.78285\n",
      "[80]\ttraining's l2: 1.40213\tvalid_1's l2: 4.72612\n",
      "[100]\ttraining's l2: 1.33818\tvalid_1's l2: 4.70648\n",
      "[120]\ttraining's l2: 1.29609\tvalid_1's l2: 4.71434\n",
      "Early stopping, best iteration is:\n",
      "[106]\ttraining's l2: 1.32339\tvalid_1's l2: 4.70436\n",
      "best_score defaultdict(<class 'collections.OrderedDict'>, {'training': OrderedDict([('l2', 1.323388966900795)]), 'valid_1': OrderedDict([('l2', 4.7043620335395495)])})\n"
     ]
    },
    {
     "data": {
      "text/plain": [
       "10"
      ]
     },
     "execution_count": 27,
     "metadata": {},
     "output_type": "execute_result"
    },
    {
     "data": {
      "image/png": "[encoded data removed]",
      "text/plain": [
       "<Figure size 432x288 with 1 Axes>"
      ]
     },
     "metadata": {
      "needs_background": "light"
     },
     "output_type": "display_data"
    }
   ],
   "source": [
    "target_meter = 1\n",
    "X_train, y_train = create_X_y(df_train, target_meter=target_meter)\n",
    "y_valid_pred_total = np.zeros(X_train.shape[0])\n",
    "gc.collect()\n",
    "print('target_meter', target_meter, X_train.shape)\n",
    "\n",
    "cat_features = [X_train.columns.get_loc(cat_col) for cat_col in category_cols]\n",
    "print('cat_features', cat_features)\n",
    "\n",
    "models1 = []\n",
    "for train_idx, valid_idx in kf.split(X_train, y_train):\n",
    "    train_data = X_train.iloc[train_idx,:], y_train[train_idx]\n",
    "    valid_data = X_train.iloc[valid_idx,:], y_train[valid_idx]\n",
    "\n",
    "    print('train', len(train_idx), 'valid', len(valid_idx))\n",
    "    model, y_pred_valid, log = fit_lgbm(train_data, valid_data, cat_features=category_cols, num_rounds=num_rounds,\n",
    "                                       lr=0.05, bf=0.5)\n",
    "    y_valid_pred_total[valid_idx] = y_pred_valid\n",
    "    models1.append(model)\n",
    "    gc.collect()\n",
    "\n",
    "sns.distplot(y_train)\n",
    "sns.distplot(y_valid_pred_total)\n",
    "\n",
    "oof1 = mean_squared_error(y_train, y_valid_pred_total)\n",
    "oof_total += oof1 * len(y_train)\n",
    "\n",
    "del X_train, y_train\n",
    "gc.collect()"
   ]
  },
  {
   "cell_type": "code",
   "execution_count": 28,
   "metadata": {},
   "outputs": [
    {
     "name": "stdout",
     "output_type": "stream",
     "text": [
      "target_meter 2 (2708713, 15)\n",
      "cat_features [12, 13, 14]\n",
      "train 2166970 valid 541743\n",
      "training LGB:\n",
      "Training until validation scores don't improve for 20 rounds\n",
      "[20]\ttraining's l2: 2.67207\tvalid_1's l2: 3.21723\n",
      "[40]\ttraining's l2: 1.9647\tvalid_1's l2: 2.57634\n",
      "[60]\ttraining's l2: 1.79944\tvalid_1's l2: 2.47248\n",
      "[80]\ttraining's l2: 1.71887\tvalid_1's l2: 2.44126\n",
      "[100]\ttraining's l2: 1.66938\tvalid_1's l2: 2.42819\n",
      "[120]\ttraining's l2: 1.63293\tvalid_1's l2: 2.41886\n",
      "[140]\ttraining's l2: 1.60431\tvalid_1's l2: 2.41515\n",
      "[160]\ttraining's l2: 1.57679\tvalid_1's l2: 2.41244\n",
      "[180]\ttraining's l2: 1.55456\tvalid_1's l2: 2.41117\n",
      "[200]\ttraining's l2: 1.5356\tvalid_1's l2: 2.40715\n",
      "[220]\ttraining's l2: 1.51925\tvalid_1's l2: 2.40309\n",
      "[240]\ttraining's l2: 1.50314\tvalid_1's l2: 2.39863\n",
      "[260]\ttraining's l2: 1.48927\tvalid_1's l2: 2.3954\n",
      "[280]\ttraining's l2: 1.47719\tvalid_1's l2: 2.39117\n",
      "[300]\ttraining's l2: 1.46596\tvalid_1's l2: 2.38909\n",
      "[320]\ttraining's l2: 1.45364\tvalid_1's l2: 2.38704\n",
      "[340]\ttraining's l2: 1.44377\tvalid_1's l2: 2.38516\n",
      "[360]\ttraining's l2: 1.43413\tvalid_1's l2: 2.38512\n",
      "Early stopping, best iteration is:\n",
      "[343]\ttraining's l2: 1.44141\tvalid_1's l2: 2.38481\n",
      "best_score defaultdict(<class 'collections.OrderedDict'>, {'training': OrderedDict([('l2', 1.4414142019543248)]), 'valid_1': OrderedDict([('l2', 2.3848076444761084)])})\n",
      "train 2166970 valid 541743\n",
      "training LGB:\n",
      "Training until validation scores don't improve for 20 rounds\n",
      "[20]\ttraining's l2: 2.63303\tvalid_1's l2: 2.95154\n",
      "[40]\ttraining's l2: 1.92037\tvalid_1's l2: 2.43467\n",
      "[60]\ttraining's l2: 1.75137\tvalid_1's l2: 2.3429\n",
      "[80]\ttraining's l2: 1.67142\tvalid_1's l2: 2.30223\n",
      "[100]\ttraining's l2: 1.6228\tvalid_1's l2: 2.2713\n",
      "[120]\ttraining's l2: 1.58889\tvalid_1's l2: 2.25907\n",
      "[140]\ttraining's l2: 1.56215\tvalid_1's l2: 2.24582\n",
      "[160]\ttraining's l2: 1.53958\tvalid_1's l2: 2.23945\n",
      "[180]\ttraining's l2: 1.52258\tvalid_1's l2: 2.23377\n",
      "[200]\ttraining's l2: 1.50601\tvalid_1's l2: 2.22842\n",
      "[220]\ttraining's l2: 1.49212\tvalid_1's l2: 2.22696\n",
      "[240]\ttraining's l2: 1.47773\tvalid_1's l2: 2.22481\n",
      "[260]\ttraining's l2: 1.46478\tvalid_1's l2: 2.2226\n",
      "[280]\ttraining's l2: 1.45258\tvalid_1's l2: 2.2214\n",
      "[300]\ttraining's l2: 1.4431\tvalid_1's l2: 2.2198\n",
      "Early stopping, best iteration is:\n",
      "[298]\ttraining's l2: 1.44448\tvalid_1's l2: 2.21973\n",
      "best_score defaultdict(<class 'collections.OrderedDict'>, {'training': OrderedDict([('l2', 1.4444753743405092)]), 'valid_1': OrderedDict([('l2', 2.219734345788496)])})\n",
      "train 2166970 valid 541743\n",
      "training LGB:\n",
      "Training until validation scores don't improve for 20 rounds\n",
      "[20]\ttraining's l2: 2.66289\tvalid_1's l2: 3.39147\n",
      "[40]\ttraining's l2: 1.98678\tvalid_1's l2: 2.43272\n",
      "[60]\ttraining's l2: 1.81746\tvalid_1's l2: 2.1705\n",
      "[80]\ttraining's l2: 1.73949\tvalid_1's l2: 2.07147\n",
      "[100]\ttraining's l2: 1.68698\tvalid_1's l2: 2.03377\n",
      "[120]\ttraining's l2: 1.64804\tvalid_1's l2: 2.01111\n",
      "[140]\ttraining's l2: 1.61734\tvalid_1's l2: 2.00298\n",
      "[160]\ttraining's l2: 1.58896\tvalid_1's l2: 1.99525\n",
      "[180]\ttraining's l2: 1.56978\tvalid_1's l2: 1.98773\n",
      "[200]\ttraining's l2: 1.54971\tvalid_1's l2: 1.98177\n",
      "[220]\ttraining's l2: 1.53441\tvalid_1's l2: 1.98005\n",
      "[240]\ttraining's l2: 1.51951\tvalid_1's l2: 1.97054\n",
      "[260]\ttraining's l2: 1.5046\tvalid_1's l2: 1.96869\n",
      "[280]\ttraining's l2: 1.4922\tvalid_1's l2: 1.96411\n",
      "[300]\ttraining's l2: 1.48211\tvalid_1's l2: 1.96483\n",
      "Early stopping, best iteration is:\n",
      "[286]\ttraining's l2: 1.48911\tvalid_1's l2: 1.96372\n",
      "best_score defaultdict(<class 'collections.OrderedDict'>, {'training': OrderedDict([('l2', 1.4891136470533093)]), 'valid_1': OrderedDict([('l2', 1.9637238088809574)])})\n",
      "train 2166971 valid 541742\n",
      "training LGB:\n",
      "Training until validation scores don't improve for 20 rounds\n",
      "[20]\ttraining's l2: 2.58403\tvalid_1's l2: 3.35377\n",
      "[40]\ttraining's l2: 1.88111\tvalid_1's l2: 2.7051\n",
      "[60]\ttraining's l2: 1.71608\tvalid_1's l2: 2.59624\n",
      "[80]\ttraining's l2: 1.64447\tvalid_1's l2: 2.55221\n",
      "[100]\ttraining's l2: 1.59216\tvalid_1's l2: 2.52517\n",
      "[120]\ttraining's l2: 1.55571\tvalid_1's l2: 2.511\n",
      "[140]\ttraining's l2: 1.5253\tvalid_1's l2: 2.50941\n",
      "[160]\ttraining's l2: 1.50214\tvalid_1's l2: 2.50661\n",
      "[180]\ttraining's l2: 1.48265\tvalid_1's l2: 2.5049\n",
      "[200]\ttraining's l2: 1.46508\tvalid_1's l2: 2.50512\n",
      "Early stopping, best iteration is:\n",
      "[185]\ttraining's l2: 1.47905\tvalid_1's l2: 2.50257\n",
      "best_score defaultdict(<class 'collections.OrderedDict'>, {'training': OrderedDict([('l2', 1.4790504499560293)]), 'valid_1': OrderedDict([('l2', 2.5025717502398885)])})\n",
      "train 2166971 valid 541742\n",
      "training LGB:\n",
      "Training until validation scores don't improve for 20 rounds\n",
      "[20]\ttraining's l2: 2.77298\tvalid_1's l2: 2.53751\n",
      "[40]\ttraining's l2: 2.02308\tvalid_1's l2: 2.10846\n",
      "[60]\ttraining's l2: 1.8386\tvalid_1's l2: 2.08762\n",
      "Early stopping, best iteration is:\n",
      "[55]\ttraining's l2: 1.87143\tvalid_1's l2: 2.08371\n",
      "best_score defaultdict(<class 'collections.OrderedDict'>, {'training': OrderedDict([('l2', 1.87142663273125)]), 'valid_1': OrderedDict([('l2', 2.083705422829529)])})\n"
     ]
    },
    {
     "data": {
      "text/plain": [
       "10"
      ]
     },
     "execution_count": 28,
     "metadata": {},
     "output_type": "execute_result"
    },
    {
     "data": {
      "image/png": "[encoded data removed]",
      "text/plain": [
       "<Figure size 432x288 with 1 Axes>"
      ]
     },
     "metadata": {
      "needs_background": "light"
     },
     "output_type": "display_data"
    }
   ],
   "source": [
    "target_meter = 2\n",
    "X_train, y_train = create_X_y(df_train, target_meter=target_meter)\n",
    "y_valid_pred_total = np.zeros(X_train.shape[0])\n",
    "\n",
    "gc.collect()\n",
    "print('target_meter', target_meter, X_train.shape)\n",
    "\n",
    "cat_features = [X_train.columns.get_loc(cat_col) for cat_col in category_cols]\n",
    "print('cat_features', cat_features)\n",
    "\n",
    "models2 = []\n",
    "for train_idx, valid_idx in kf.split(X_train, y_train):\n",
    "    train_data = X_train.iloc[train_idx,:], y_train[train_idx]\n",
    "    valid_data = X_train.iloc[valid_idx,:], y_train[valid_idx]\n",
    "\n",
    "    print('train', len(train_idx), 'valid', len(valid_idx))\n",
    "    model, y_pred_valid, log = fit_lgbm(train_data, valid_data, cat_features=category_cols,\n",
    "                                        num_rounds=num_rounds, lr=0.05, bf=0.8)\n",
    "    y_valid_pred_total[valid_idx] = y_pred_valid\n",
    "    models2.append(model)\n",
    "    gc.collect()\n",
    "\n",
    "sns.distplot(y_train)\n",
    "sns.distplot(y_valid_pred_total)\n",
    "\n",
    "oof2 = mean_squared_error(y_train, y_valid_pred_total)\n",
    "oof_total += oof2 * len(y_train)\n",
    "\n",
    "del X_train, y_train\n",
    "gc.collect()"
   ]
  },
  {
   "cell_type": "code",
   "execution_count": 29,
   "metadata": {},
   "outputs": [
    {
     "name": "stdout",
     "output_type": "stream",
     "text": [
      "target_meter 3 (1264037, 15)\n",
      "cat_features [12, 13, 14]\n",
      "train 1011229 valid 252808\n",
      "training LGB:\n",
      "Training until validation scores don't improve for 20 rounds\n",
      "[20]\ttraining's l2: 3.60832\tvalid_1's l2: 4.34412\n",
      "[40]\ttraining's l2: 2.60222\tvalid_1's l2: 3.25881\n",
      "[60]\ttraining's l2: 2.25269\tvalid_1's l2: 2.84837\n",
      "[80]\ttraining's l2: 2.10487\tvalid_1's l2: 2.6674\n",
      "[100]\ttraining's l2: 2.02705\tvalid_1's l2: 2.58445\n",
      "[120]\ttraining's l2: 1.97836\tvalid_1's l2: 2.53033\n",
      "[140]\ttraining's l2: 1.93732\tvalid_1's l2: 2.49493\n",
      "[160]\ttraining's l2: 1.90521\tvalid_1's l2: 2.47274\n",
      "[180]\ttraining's l2: 1.87942\tvalid_1's l2: 2.45419\n",
      "[200]\ttraining's l2: 1.85892\tvalid_1's l2: 2.44611\n",
      "[220]\ttraining's l2: 1.84262\tvalid_1's l2: 2.43842\n",
      "[240]\ttraining's l2: 1.82902\tvalid_1's l2: 2.4321\n",
      "[260]\ttraining's l2: 1.81466\tvalid_1's l2: 2.42955\n",
      "[280]\ttraining's l2: 1.80295\tvalid_1's l2: 2.42404\n",
      "[300]\ttraining's l2: 1.79202\tvalid_1's l2: 2.4194\n",
      "[320]\ttraining's l2: 1.78141\tvalid_1's l2: 2.41424\n",
      "[340]\ttraining's l2: 1.772\tvalid_1's l2: 2.41139\n",
      "[360]\ttraining's l2: 1.76321\tvalid_1's l2: 2.41029\n",
      "[380]\ttraining's l2: 1.75406\tvalid_1's l2: 2.40766\n",
      "[400]\ttraining's l2: 1.74588\tvalid_1's l2: 2.408\n",
      "Early stopping, best iteration is:\n",
      "[382]\ttraining's l2: 1.75323\tvalid_1's l2: 2.40675\n",
      "best_score defaultdict(<class 'collections.OrderedDict'>, {'training': OrderedDict([('l2', 1.7532292364005306)]), 'valid_1': OrderedDict([('l2', 2.40675331318707)])})\n",
      "train 1011229 valid 252808\n",
      "training LGB:\n",
      "Training until validation scores don't improve for 20 rounds\n",
      "[20]\ttraining's l2: 3.60323\tvalid_1's l2: 3.72105\n",
      "[40]\ttraining's l2: 2.52469\tvalid_1's l2: 2.93959\n",
      "[60]\ttraining's l2: 2.14395\tvalid_1's l2: 2.71639\n",
      "[80]\ttraining's l2: 1.98645\tvalid_1's l2: 2.64137\n",
      "[100]\ttraining's l2: 1.90938\tvalid_1's l2: 2.62043\n",
      "[120]\ttraining's l2: 1.86045\tvalid_1's l2: 2.60729\n",
      "[140]\ttraining's l2: 1.82036\tvalid_1's l2: 2.60271\n",
      "[160]\ttraining's l2: 1.78906\tvalid_1's l2: 2.60275\n",
      "[180]\ttraining's l2: 1.7676\tvalid_1's l2: 2.59755\n",
      "[200]\ttraining's l2: 1.74852\tvalid_1's l2: 2.59511\n",
      "[220]\ttraining's l2: 1.73291\tvalid_1's l2: 2.5929\n",
      "[240]\ttraining's l2: 1.7185\tvalid_1's l2: 2.58905\n",
      "[260]\ttraining's l2: 1.70538\tvalid_1's l2: 2.58841\n",
      "[280]\ttraining's l2: 1.69308\tvalid_1's l2: 2.58557\n",
      "[300]\ttraining's l2: 1.68472\tvalid_1's l2: 2.58661\n",
      "Early stopping, best iteration is:\n",
      "[280]\ttraining's l2: 1.69308\tvalid_1's l2: 2.58557\n",
      "best_score defaultdict(<class 'collections.OrderedDict'>, {'training': OrderedDict([('l2', 1.6930847329711867)]), 'valid_1': OrderedDict([('l2', 2.5855708850918595)])})\n",
      "train 1011230 valid 252807\n",
      "training LGB:\n",
      "Training until validation scores don't improve for 20 rounds\n",
      "[20]\ttraining's l2: 3.75486\tvalid_1's l2: 3.72959\n",
      "[40]\ttraining's l2: 2.75509\tvalid_1's l2: 2.48272\n",
      "[60]\ttraining's l2: 2.38969\tvalid_1's l2: 2.01238\n",
      "[80]\ttraining's l2: 2.23688\tvalid_1's l2: 1.81116\n",
      "[100]\ttraining's l2: 2.1515\tvalid_1's l2: 1.71239\n",
      "[120]\ttraining's l2: 2.09636\tvalid_1's l2: 1.65629\n",
      "[140]\ttraining's l2: 2.05687\tvalid_1's l2: 1.62556\n",
      "[160]\ttraining's l2: 2.02546\tvalid_1's l2: 1.61206\n",
      "[180]\ttraining's l2: 1.99978\tvalid_1's l2: 1.60254\n",
      "[200]\ttraining's l2: 1.9774\tvalid_1's l2: 1.59392\n",
      "[220]\ttraining's l2: 1.95927\tvalid_1's l2: 1.58932\n",
      "[240]\ttraining's l2: 1.94307\tvalid_1's l2: 1.58309\n",
      "[260]\ttraining's l2: 1.93084\tvalid_1's l2: 1.58305\n",
      "[280]\ttraining's l2: 1.91841\tvalid_1's l2: 1.57863\n",
      "[300]\ttraining's l2: 1.9078\tvalid_1's l2: 1.5765\n",
      "[320]\ttraining's l2: 1.89765\tvalid_1's l2: 1.56932\n",
      "[340]\ttraining's l2: 1.88989\tvalid_1's l2: 1.56862\n",
      "[360]\ttraining's l2: 1.88081\tvalid_1's l2: 1.56715\n",
      "[380]\ttraining's l2: 1.87234\tvalid_1's l2: 1.56513\n",
      "[400]\ttraining's l2: 1.86293\tvalid_1's l2: 1.56448\n",
      "Early stopping, best iteration is:\n",
      "[388]\ttraining's l2: 1.86727\tvalid_1's l2: 1.56292\n",
      "best_score defaultdict(<class 'collections.OrderedDict'>, {'training': OrderedDict([('l2', 1.867272372588851)]), 'valid_1': OrderedDict([('l2', 1.562924977371308)])})\n",
      "train 1011230 valid 252807\n",
      "training LGB:\n",
      "Training until validation scores don't improve for 20 rounds\n",
      "[20]\ttraining's l2: 3.56697\tvalid_1's l2: 4.27443\n",
      "[40]\ttraining's l2: 2.5302\tvalid_1's l2: 3.22607\n",
      "[60]\ttraining's l2: 2.16253\tvalid_1's l2: 2.86297\n",
      "[80]\ttraining's l2: 2.01518\tvalid_1's l2: 2.72596\n",
      "[100]\ttraining's l2: 1.93957\tvalid_1's l2: 2.65419\n",
      "[120]\ttraining's l2: 1.89168\tvalid_1's l2: 2.6121\n",
      "[140]\ttraining's l2: 1.85484\tvalid_1's l2: 2.57912\n",
      "[160]\ttraining's l2: 1.82644\tvalid_1's l2: 2.55733\n",
      "[180]\ttraining's l2: 1.80488\tvalid_1's l2: 2.53955\n",
      "[200]\ttraining's l2: 1.78718\tvalid_1's l2: 2.52807\n",
      "[220]\ttraining's l2: 1.7733\tvalid_1's l2: 2.52036\n",
      "[240]\ttraining's l2: 1.76009\tvalid_1's l2: 2.51421\n",
      "[260]\ttraining's l2: 1.74856\tvalid_1's l2: 2.50866\n",
      "[280]\ttraining's l2: 1.73933\tvalid_1's l2: 2.50579\n",
      "[300]\ttraining's l2: 1.73016\tvalid_1's l2: 2.50073\n",
      "[320]\ttraining's l2: 1.72104\tvalid_1's l2: 2.49641\n",
      "[340]\ttraining's l2: 1.71325\tvalid_1's l2: 2.49307\n",
      "[360]\ttraining's l2: 1.70568\tvalid_1's l2: 2.49082\n",
      "[380]\ttraining's l2: 1.69783\tvalid_1's l2: 2.48915\n",
      "[400]\ttraining's l2: 1.68957\tvalid_1's l2: 2.48776\n",
      "[420]\ttraining's l2: 1.68226\tvalid_1's l2: 2.48708\n",
      "[440]\ttraining's l2: 1.67323\tvalid_1's l2: 2.48495\n",
      "[460]\ttraining's l2: 1.66685\tvalid_1's l2: 2.48459\n",
      "[480]\ttraining's l2: 1.66081\tvalid_1's l2: 2.48256\n",
      "[500]\ttraining's l2: 1.65533\tvalid_1's l2: 2.48183\n",
      "[520]\ttraining's l2: 1.64809\tvalid_1's l2: 2.48097\n",
      "[540]\ttraining's l2: 1.64014\tvalid_1's l2: 2.47838\n",
      "[560]\ttraining's l2: 1.6348\tvalid_1's l2: 2.47704\n",
      "[580]\ttraining's l2: 1.62897\tvalid_1's l2: 2.47504\n",
      "[600]\ttraining's l2: 1.62314\tvalid_1's l2: 2.47353\n",
      "[620]\ttraining's l2: 1.61757\tvalid_1's l2: 2.4745\n",
      "Early stopping, best iteration is:\n",
      "[600]\ttraining's l2: 1.62314\tvalid_1's l2: 2.47353\n",
      "best_score defaultdict(<class 'collections.OrderedDict'>, {'training': OrderedDict([('l2', 1.6231412304694957)]), 'valid_1': OrderedDict([('l2', 2.473530958573111)])})\n",
      "train 1011230 valid 252807\n",
      "training LGB:\n",
      "Training until validation scores don't improve for 20 rounds\n",
      "[20]\ttraining's l2: 3.54588\tvalid_1's l2: 4.02918\n",
      "[40]\ttraining's l2: 2.49179\tvalid_1's l2: 3.17296\n",
      "[60]\ttraining's l2: 2.11319\tvalid_1's l2: 2.92041\n",
      "[80]\ttraining's l2: 1.95349\tvalid_1's l2: 2.85418\n",
      "[100]\ttraining's l2: 1.86897\tvalid_1's l2: 2.84378\n",
      "Early stopping, best iteration is:\n",
      "[95]\ttraining's l2: 1.88686\tvalid_1's l2: 2.84358\n",
      "best_score defaultdict(<class 'collections.OrderedDict'>, {'training': OrderedDict([('l2', 1.886860399561685)]), 'valid_1': OrderedDict([('l2', 2.8435754643603186)])})\n"
     ]
    },
    {
     "data": {
      "text/plain": [
       "10"
      ]
     },
     "execution_count": 29,
     "metadata": {},
     "output_type": "execute_result"
    },
    {
     "data": {
      "image/png": "[encoded data removed]",
      "text/plain": [
       "<Figure size 432x288 with 1 Axes>"
      ]
     },
     "metadata": {
      "needs_background": "light"
     },
     "output_type": "display_data"
    }
   ],
   "source": [
    "target_meter = 3\n",
    "X_train, y_train = create_X_y(df_train, target_meter=target_meter)\n",
    "y_valid_pred_total = np.zeros(X_train.shape[0])\n",
    "\n",
    "gc.collect()\n",
    "print('target_meter', target_meter, X_train.shape)\n",
    "\n",
    "cat_features = [X_train.columns.get_loc(cat_col) for cat_col in category_cols]\n",
    "print('cat_features', cat_features)\n",
    "\n",
    "models3 = []\n",
    "for train_idx, valid_idx in kf.split(X_train, y_train):\n",
    "    train_data = X_train.iloc[train_idx,:], y_train[train_idx]\n",
    "    valid_data = X_train.iloc[valid_idx,:], y_train[valid_idx]\n",
    "\n",
    "    print('train', len(train_idx), 'valid', len(valid_idx))\n",
    "    model, y_pred_valid, log = fit_lgbm(train_data, valid_data, cat_features=category_cols, num_rounds=num_rounds,\n",
    "                                       lr=0.03, bf=0.9)\n",
    "    y_valid_pred_total[valid_idx] = y_pred_valid\n",
    "    models3.append(model)\n",
    "    gc.collect()\n",
    "\n",
    "sns.distplot(y_train)\n",
    "sns.distplot(y_valid_pred_total)\n",
    "\n",
    "oof3 = mean_squared_error(y_train, y_valid_pred_total)\n",
    "oof_total += oof3 * len(y_train)\n",
    "\n",
    "del X_train, y_train\n",
    "gc.collect()"
   ]
  },
  {
   "cell_type": "code",
   "execution_count": 30,
   "metadata": {},
   "outputs": [
    {
     "name": "stdout",
     "output_type": "stream",
     "text": [
      "oof score meter0 = 0.6766381298842329\n",
      "oof score meter1 = 1.5159824534177218\n",
      "oof score meter2 = 1.4936226258647058\n",
      "oof score meter3 = 1.5409319622423685\n",
      "oof score total  = 1.0848345956036507\n"
     ]
    }
   ],
   "source": [
    "##oof Scores\n",
    "\n",
    "print ('oof score meter0 =', np.sqrt(oof0))\n",
    "print ('oof score meter1 =', np.sqrt(oof1))\n",
    "print ('oof score meter2 =', np.sqrt(oof2))\n",
    "print ('oof score meter3 =', np.sqrt(oof3))\n",
    "print ('oof score total  =', np.sqrt(oof_total / len(df_train)))"
   ]
  },
  {
   "cell_type": "code",
   "execution_count": 34,
   "metadata": {},
   "outputs": [],
   "source": [
    "models = [models0, models1, models2, models3 ]\n",
    "\n",
    "picfile = open('models.pkl', 'wb')\n",
    "pickle.dump(models, picfile)\n",
    "picfile.close()\n",
    "\n",
    "picfile = open('le.pkl', 'wb')\n",
    "pickle.dump(le, picfile)\n",
    "picfile.close()"
   ]
  },
  {
   "cell_type": "code",
   "execution_count": 22,
   "metadata": {},
   "outputs": [
    {
     "data": {
      "text/plain": [
       "44"
      ]
     },
     "execution_count": 22,
     "metadata": {},
     "output_type": "execute_result"
    }
   ],
   "source": [
    "del df_train, df_weather_train, df_build\n",
    "gc.collect()"
   ]
  },
  {
   "cell_type": "code",
   "execution_count": 9,
   "metadata": {},
   "outputs": [],
   "source": [
    "picfile = open('models.pkl', 'rb')\n",
    "models = pickle.load(picfile)\n",
    "picfile.close()\n",
    "\n",
    "picfile = open('le.pkl', 'rb')\n",
    "le = pickle.load(picfile)\n",
    "picfile.close()\n",
    "\n",
    "with open('buildings.pkl', 'rb') as file:\n",
    "    building_median = pickle.load(file)"
   ]
  },
  {
   "cell_type": "code",
   "execution_count": 10,
   "metadata": {},
   "outputs": [
    {
     "name": "stdout",
     "output_type": "stream",
     "text": [
      "Mem. usage decreased to 596.49 Mb (53.1% reduction)\n",
      "Mem. usage decreased to  6.08 Mb (68.1% reduction)\n",
      "Mem. usage decreased to  0.03 Mb (60.3% reduction)\n"
     ]
    },
    {
     "data": {
      "text/plain": [
       "20"
      ]
     },
     "execution_count": 10,
     "metadata": {},
     "output_type": "execute_result"
    }
   ],
   "source": [
    "df_test = pd.read_csv('test.csv')\n",
    "df_weather_test = pd.read_csv('weather_test.csv')\n",
    "df_build = pd.read_csv('building_metadata.csv')\n",
    "\n",
    "df_test = change_dtype(df_test)\n",
    "df_weather_test = change_dtype(df_weather_test)\n",
    "\n",
    "df_test = reduce_mem_usage(df_test)\n",
    "df_weather_test = reduce_mem_usage(df_weather_test)\n",
    "df_build= reduce_mem_usage(df_build)\n",
    "\n",
    "gc.collect()"
   ]
  },
  {
   "cell_type": "code",
   "execution_count": 11,
   "metadata": {},
   "outputs": [],
   "source": [
    "df_test['date'] = df_test['timestamp'].dt.date"
   ]
  },
  {
   "cell_type": "code",
   "execution_count": 12,
   "metadata": {},
   "outputs": [],
   "source": [
    "df_test[\"hour\"] = df_test[\"timestamp\"].dt.hour\n",
    "df_test[\"weekend\"] = df_test[\"timestamp\"].dt.weekday\n",
    "df_test[\"month\"] = df_test[\"timestamp\"].dt.month\n",
    "df_test[\"dayofweek\"] = df_test[\"timestamp\"].dt.dayofweek\n",
    "df_test['building_median'] = df_test['building_id'].map(building_median)"
   ]
  },
  {
   "cell_type": "code",
   "execution_count": 13,
   "metadata": {},
   "outputs": [
    {
     "data": {
      "text/plain": [
       "row_id                      int32\n",
       "building_id                 int16\n",
       "meter                        int8\n",
       "timestamp          datetime64[ns]\n",
       "date                       object\n",
       "hour                        int64\n",
       "weekend                     int64\n",
       "month                       int64\n",
       "dayofweek                   int64\n",
       "building_median           float16\n",
       "dtype: object"
      ]
     },
     "execution_count": 13,
     "metadata": {},
     "output_type": "execute_result"
    }
   ],
   "source": [
    "df_test.dtypes"
   ]
  },
  {
   "cell_type": "code",
   "execution_count": 14,
   "metadata": {},
   "outputs": [],
   "source": [
    "df_weather_test = df_weather_test.groupby('site_id').apply(lambda group: group.interpolate(limit_direction='both'))"
   ]
  },
  {
   "cell_type": "code",
   "execution_count": 15,
   "metadata": {},
   "outputs": [
    {
     "name": "stdout",
     "output_type": "stream",
     "text": [
      "Mem. usage decreased to 198.83 Mb (68.7% reduction)\n"
     ]
    },
    {
     "data": {
      "text/plain": [
       "22"
      ]
     },
     "execution_count": 15,
     "metadata": {},
     "output_type": "execute_result"
    }
   ],
   "source": [
    "sample_submission = pd.read_csv('sample_submission.csv')\n",
    "sample_submission = reduce_mem_usage(sample_submission)\n",
    "\n",
    "gc.collect()"
   ]
  },
  {
   "cell_type": "code",
   "execution_count": 16,
   "metadata": {},
   "outputs": [],
   "source": [
    "df_build.primary_use = le.transform(df_build.primary_use)"
   ]
  },
  {
   "cell_type": "code",
   "execution_count": 17,
   "metadata": {},
   "outputs": [],
   "source": [
    "def create_X(test_df, target_meter):\n",
    "    \n",
    "    target_test_df = test_df[test_df['meter'] == target_meter]\n",
    "    target_test_df = target_test_df.merge(df_build, on='building_id', how='left')\n",
    "    target_test_df = target_test_df.merge(df_weather_test, on=['site_id', 'timestamp'], how='left')\n",
    "    target_test_df.square_feet = np.log1p(target_test_df.square_feet)\n",
    "    X_test = target_test_df[feature_cols + category_cols]\n",
    "    return X_test"
   ]
  },
  {
   "cell_type": "code",
   "execution_count": 18,
   "metadata": {},
   "outputs": [],
   "source": [
    "from tqdm import tqdm_notebook as tqdm"
   ]
  },
  {
   "cell_type": "code",
   "execution_count": 19,
   "metadata": {},
   "outputs": [],
   "source": [
    "def pred(X_test, models, batch_size=1000000):\n",
    "    iterations = (X_test.shape[0] + batch_size -1) // batch_size\n",
    "    print('iterations', iterations)\n",
    "\n",
    "    y_test_pred_total = np.zeros(X_test.shape[0])\n",
    "    for i, model in enumerate(models):\n",
    "        print(f'predicting {i}-th model')\n",
    "        for k in tqdm(range(iterations)):\n",
    "            y_pred_test = model.predict(X_test[k*batch_size:(k+1)*batch_size], num_iteration=model.best_iteration)\n",
    "            y_test_pred_total[k*batch_size:(k+1)*batch_size] += y_pred_test\n",
    "\n",
    "    y_test_pred_total /= len(models)\n",
    "    return y_test_pred_total"
   ]
  },
  {
   "cell_type": "code",
   "execution_count": 20,
   "metadata": {},
   "outputs": [
    {
     "name": "stdout",
     "output_type": "stream",
     "text": [
      "iterations 25\n",
      "predicting 0-th model\n"
     ]
    },
    {
     "data": {
      "application/vnd.jupyter.widget-view+json": {
       "model_id": "5b97bb09353542a78dbfec6c65fc879a",
       "version_major": 2,
       "version_minor": 0
      },
      "text/plain": [
       "HBox(children=(IntProgress(value=0, max=25), HTML(value='')))"
      ]
     },
     "metadata": {},
     "output_type": "display_data"
    },
    {
     "name": "stdout",
     "output_type": "stream",
     "text": [
      "\n",
      "predicting 1-th model\n"
     ]
    },
    {
     "data": {
      "application/vnd.jupyter.widget-view+json": {
       "model_id": "9e43c7547f5d40e6919ef693f79d80a5",
       "version_major": 2,
       "version_minor": 0
      },
      "text/plain": [
       "HBox(children=(IntProgress(value=0, max=25), HTML(value='')))"
      ]
     },
     "metadata": {},
     "output_type": "display_data"
    },
    {
     "name": "stdout",
     "output_type": "stream",
     "text": [
      "\n",
      "predicting 2-th model\n"
     ]
    },
    {
     "data": {
      "application/vnd.jupyter.widget-view+json": {
       "model_id": "2c5277510cca40ce970a422706bb44c3",
       "version_major": 2,
       "version_minor": 0
      },
      "text/plain": [
       "HBox(children=(IntProgress(value=0, max=25), HTML(value='')))"
      ]
     },
     "metadata": {},
     "output_type": "display_data"
    },
    {
     "name": "stdout",
     "output_type": "stream",
     "text": [
      "\n",
      "predicting 3-th model\n"
     ]
    },
    {
     "data": {
      "application/vnd.jupyter.widget-view+json": {
       "model_id": "7669cd376d1e43699151afb19f40512f",
       "version_major": 2,
       "version_minor": 0
      },
      "text/plain": [
       "HBox(children=(IntProgress(value=0, max=25), HTML(value='')))"
      ]
     },
     "metadata": {},
     "output_type": "display_data"
    },
    {
     "name": "stdout",
     "output_type": "stream",
     "text": [
      "\n",
      "predicting 4-th model\n"
     ]
    },
    {
     "data": {
      "application/vnd.jupyter.widget-view+json": {
       "model_id": "dbf3960944df41db9f61d269015e7529",
       "version_major": 2,
       "version_minor": 0
      },
      "text/plain": [
       "HBox(children=(IntProgress(value=0, max=25), HTML(value='')))"
      ]
     },
     "metadata": {},
     "output_type": "display_data"
    },
    {
     "name": "stdout",
     "output_type": "stream",
     "text": [
      "\n"
     ]
    },
    {
     "data": {
      "text/plain": [
       "10"
      ]
     },
     "execution_count": 20,
     "metadata": {},
     "output_type": "execute_result"
    },
    {
     "data": {
      "image/png": "[encoded data removed]",
      "text/plain": [
       "<Figure size 432x288 with 1 Axes>"
      ]
     },
     "metadata": {
      "needs_background": "light"
     },
     "output_type": "display_data"
    }
   ],
   "source": [
    "X_test = create_X(df_test, target_meter=0)\n",
    "gc.collect()\n",
    "\n",
    "y_test0 = pred(X_test, models[0])\n",
    "\n",
    "sns.distplot(y_test0)\n",
    "\n",
    "del X_test\n",
    "gc.collect()"
   ]
  },
  {
   "cell_type": "code",
   "execution_count": 22,
   "metadata": {},
   "outputs": [
    {
     "name": "stdout",
     "output_type": "stream",
     "text": [
      "iterations 9\n",
      "predicting 0-th model\n"
     ]
    },
    {
     "data": {
      "application/vnd.jupyter.widget-view+json": {
       "model_id": "b315bd47ab6048e89035d9111f4e4bd2",
       "version_major": 2,
       "version_minor": 0
      },
      "text/plain": [
       "HBox(children=(IntProgress(value=0, max=9), HTML(value='')))"
      ]
     },
     "metadata": {},
     "output_type": "display_data"
    },
    {
     "name": "stdout",
     "output_type": "stream",
     "text": [
      "\n",
      "predicting 1-th model\n"
     ]
    },
    {
     "data": {
      "application/vnd.jupyter.widget-view+json": {
       "model_id": "785dac7e1b5342af8c4602d66759a8d3",
       "version_major": 2,
       "version_minor": 0
      },
      "text/plain": [
       "HBox(children=(IntProgress(value=0, max=9), HTML(value='')))"
      ]
     },
     "metadata": {},
     "output_type": "display_data"
    },
    {
     "name": "stdout",
     "output_type": "stream",
     "text": [
      "\n",
      "predicting 2-th model\n"
     ]
    },
    {
     "data": {
      "application/vnd.jupyter.widget-view+json": {
       "model_id": "5471a9105dc84efe958185085c71693e",
       "version_major": 2,
       "version_minor": 0
      },
      "text/plain": [
       "HBox(children=(IntProgress(value=0, max=9), HTML(value='')))"
      ]
     },
     "metadata": {},
     "output_type": "display_data"
    },
    {
     "name": "stdout",
     "output_type": "stream",
     "text": [
      "\n",
      "predicting 3-th model\n"
     ]
    },
    {
     "data": {
      "application/vnd.jupyter.widget-view+json": {
       "model_id": "e114d319c39a428c94465c05b32fc91d",
       "version_major": 2,
       "version_minor": 0
      },
      "text/plain": [
       "HBox(children=(IntProgress(value=0, max=9), HTML(value='')))"
      ]
     },
     "metadata": {},
     "output_type": "display_data"
    },
    {
     "name": "stdout",
     "output_type": "stream",
     "text": [
      "\n",
      "predicting 4-th model\n"
     ]
    },
    {
     "data": {
      "application/vnd.jupyter.widget-view+json": {
       "model_id": "6c92f67cd98545e0911215a612d51684",
       "version_major": 2,
       "version_minor": 0
      },
      "text/plain": [
       "HBox(children=(IntProgress(value=0, max=9), HTML(value='')))"
      ]
     },
     "metadata": {},
     "output_type": "display_data"
    },
    {
     "name": "stdout",
     "output_type": "stream",
     "text": [
      "\n"
     ]
    },
    {
     "data": {
      "text/plain": [
       "22"
      ]
     },
     "execution_count": 22,
     "metadata": {},
     "output_type": "execute_result"
    },
    {
     "data": {
      "image/png": "[encoded data removed]",
      "text/plain": [
       "<Figure size 432x288 with 1 Axes>"
      ]
     },
     "metadata": {
      "needs_background": "light"
     },
     "output_type": "display_data"
    }
   ],
   "source": [
    "X_test = create_X(df_test, target_meter=1)\n",
    "gc.collect()\n",
    "\n",
    "y_test1 = pred(X_test, models[1])\n",
    "sns.distplot(y_test1)\n",
    "\n",
    "del X_test\n",
    "gc.collect()"
   ]
  },
  {
   "cell_type": "code",
   "execution_count": 23,
   "metadata": {},
   "outputs": [
    {
     "name": "stdout",
     "output_type": "stream",
     "text": [
      "iterations 6\n",
      "predicting 0-th model\n"
     ]
    },
    {
     "data": {
      "application/vnd.jupyter.widget-view+json": {
       "model_id": "d98a44907f9844369baafd18121caaee",
       "version_major": 2,
       "version_minor": 0
      },
      "text/plain": [
       "HBox(children=(IntProgress(value=0, max=6), HTML(value='')))"
      ]
     },
     "metadata": {},
     "output_type": "display_data"
    },
    {
     "name": "stdout",
     "output_type": "stream",
     "text": [
      "\n",
      "predicting 1-th model\n"
     ]
    },
    {
     "data": {
      "application/vnd.jupyter.widget-view+json": {
       "model_id": "36300033b6f841d59a0bcf3289b99cdf",
       "version_major": 2,
       "version_minor": 0
      },
      "text/plain": [
       "HBox(children=(IntProgress(value=0, max=6), HTML(value='')))"
      ]
     },
     "metadata": {},
     "output_type": "display_data"
    },
    {
     "name": "stdout",
     "output_type": "stream",
     "text": [
      "\n",
      "predicting 2-th model\n"
     ]
    },
    {
     "data": {
      "application/vnd.jupyter.widget-view+json": {
       "model_id": "522365c0c72c48b9871edb4708509304",
       "version_major": 2,
       "version_minor": 0
      },
      "text/plain": [
       "HBox(children=(IntProgress(value=0, max=6), HTML(value='')))"
      ]
     },
     "metadata": {},
     "output_type": "display_data"
    },
    {
     "name": "stdout",
     "output_type": "stream",
     "text": [
      "\n",
      "predicting 3-th model\n"
     ]
    },
    {
     "data": {
      "application/vnd.jupyter.widget-view+json": {
       "model_id": "a4ac6bda9ae94fb3b56ebb77b68eabf0",
       "version_major": 2,
       "version_minor": 0
      },
      "text/plain": [
       "HBox(children=(IntProgress(value=0, max=6), HTML(value='')))"
      ]
     },
     "metadata": {},
     "output_type": "display_data"
    },
    {
     "name": "stdout",
     "output_type": "stream",
     "text": [
      "\n",
      "predicting 4-th model\n"
     ]
    },
    {
     "data": {
      "application/vnd.jupyter.widget-view+json": {
       "model_id": "826a2eb02e8b4d67b1c5a0feb904aa2d",
       "version_major": 2,
       "version_minor": 0
      },
      "text/plain": [
       "HBox(children=(IntProgress(value=0, max=6), HTML(value='')))"
      ]
     },
     "metadata": {},
     "output_type": "display_data"
    },
    {
     "name": "stdout",
     "output_type": "stream",
     "text": [
      "\n"
     ]
    },
    {
     "data": {
      "text/plain": [
       "19"
      ]
     },
     "execution_count": 23,
     "metadata": {},
     "output_type": "execute_result"
    },
    {
     "data": {
      "image/png": "[encoded data removed]",
      "text/plain": [
       "<Figure size 432x288 with 1 Axes>"
      ]
     },
     "metadata": {
      "needs_background": "light"
     },
     "output_type": "display_data"
    }
   ],
   "source": [
    "X_test = create_X(df_test, target_meter=2)\n",
    "gc.collect()\n",
    "\n",
    "y_test2 = pred(X_test, models[2])\n",
    "sns.distplot(y_test2)\n",
    "\n",
    "del X_test\n",
    "gc.collect()"
   ]
  },
  {
   "cell_type": "code",
   "execution_count": 24,
   "metadata": {},
   "outputs": [
    {
     "name": "stdout",
     "output_type": "stream",
     "text": [
      "iterations 3\n",
      "predicting 0-th model\n"
     ]
    },
    {
     "data": {
      "application/vnd.jupyter.widget-view+json": {
       "model_id": "a47d0d646249453b8cc7110d58a66d38",
       "version_major": 2,
       "version_minor": 0
      },
      "text/plain": [
       "HBox(children=(IntProgress(value=0, max=3), HTML(value='')))"
      ]
     },
     "metadata": {},
     "output_type": "display_data"
    },
    {
     "name": "stdout",
     "output_type": "stream",
     "text": [
      "\n",
      "predicting 1-th model\n"
     ]
    },
    {
     "data": {
      "application/vnd.jupyter.widget-view+json": {
       "model_id": "317ebb805ce04ac6ae1d3a86216eb14d",
       "version_major": 2,
       "version_minor": 0
      },
      "text/plain": [
       "HBox(children=(IntProgress(value=0, max=3), HTML(value='')))"
      ]
     },
     "metadata": {},
     "output_type": "display_data"
    },
    {
     "name": "stdout",
     "output_type": "stream",
     "text": [
      "\n",
      "predicting 2-th model\n"
     ]
    },
    {
     "data": {
      "application/vnd.jupyter.widget-view+json": {
       "model_id": "2cff9b89ac5045a681b480e11dba6bec",
       "version_major": 2,
       "version_minor": 0
      },
      "text/plain": [
       "HBox(children=(IntProgress(value=0, max=3), HTML(value='')))"
      ]
     },
     "metadata": {},
     "output_type": "display_data"
    },
    {
     "name": "stdout",
     "output_type": "stream",
     "text": [
      "\n",
      "predicting 3-th model\n"
     ]
    },
    {
     "data": {
      "application/vnd.jupyter.widget-view+json": {
       "model_id": "73a42a9163df454f8302a2418b1eace9",
       "version_major": 2,
       "version_minor": 0
      },
      "text/plain": [
       "HBox(children=(IntProgress(value=0, max=3), HTML(value='')))"
      ]
     },
     "metadata": {},
     "output_type": "display_data"
    },
    {
     "name": "stdout",
     "output_type": "stream",
     "text": [
      "\n",
      "predicting 4-th model\n"
     ]
    },
    {
     "data": {
      "application/vnd.jupyter.widget-view+json": {
       "model_id": "48dc88bd850d400eb98d3a22ba11174d",
       "version_major": 2,
       "version_minor": 0
      },
      "text/plain": [
       "HBox(children=(IntProgress(value=0, max=3), HTML(value='')))"
      ]
     },
     "metadata": {},
     "output_type": "display_data"
    },
    {
     "name": "stdout",
     "output_type": "stream",
     "text": [
      "\n"
     ]
    },
    {
     "data": {
      "text/plain": [
       "20"
      ]
     },
     "execution_count": 24,
     "metadata": {},
     "output_type": "execute_result"
    },
    {
     "data": {
      "image/png": "[encoded data removed]",
      "text/plain": [
       "<Figure size 432x288 with 1 Axes>"
      ]
     },
     "metadata": {
      "needs_background": "light"
     },
     "output_type": "display_data"
    }
   ],
   "source": [
    "X_test = create_X(df_test, target_meter=3)\n",
    "gc.collect()\n",
    "\n",
    "y_test3 = pred(X_test, models[3])\n",
    "sns.distplot(y_test3)\n",
    "\n",
    "del X_test\n",
    "gc.collect()"
   ]
  },
  {
   "cell_type": "code",
   "execution_count": 27,
   "metadata": {},
   "outputs": [],
   "source": [
    "sample_submission.loc[df_test['meter'] == 0, 'meter_reading'] = np.expm1(y_test0)\n",
    "sample_submission.loc[df_test['meter'] == 1, 'meter_reading'] = np.expm1(y_test1)\n",
    "sample_submission.loc[df_test['meter'] == 2, 'meter_reading'] = np.expm1(y_test2)\n",
    "sample_submission.loc[df_test['meter'] == 3, 'meter_reading'] = np.expm1(y_test3)"
   ]
  },
  {
   "cell_type": "code",
   "execution_count": 28,
   "metadata": {},
   "outputs": [],
   "source": [
    "sample_submission.to_csv('submission1.csv', index=False, float_format='%.4f')"
   ]
  },
  {
   "cell_type": "code",
   "execution_count": 33,
   "metadata": {},
   "outputs": [],
   "source": [
    "leak_score = 0\n",
    "\n",
    "leak_df = pd.read_pickle('site0.pkl') \n",
    "leak_df['meter_reading'] = leak_df.meter_reading_scraped\n",
    "leak_df.drop(['meter_reading_original','meter_reading_scraped'], axis=1, inplace=True)\n",
    "leak_df.fillna(0, inplace=True)\n",
    "leak_df = leak_df[leak_df.timestamp.dt.year > 2016]\n",
    "leak_df.loc[leak_df.meter_reading < 0, 'meter_reading'] = 0 # remove large negative values\n",
    "\n",
    "sample_submission.loc[sample_submission.meter_reading < 0, 'meter_reading'] = 0\n",
    "\n",
    "for bid in leak_df.building_id.unique():\n",
    "    temp_df = leak_df[(leak_df.building_id == bid)]\n",
    "    for m in temp_df.meter.unique():\n",
    "        v0 = sample_submission.loc[(df_test.building_id == bid)&(df_test.meter==m), 'meter_reading'].values\n",
    "        v1 = temp_df[temp_df.meter==m].meter_reading.values\n",
    "        \n",
    "        leak_score += mean_squared_error(np.log1p(v0), np.log1p(v1)) * len(v0)\n",
    "        \n",
    "        sample_submission.loc[(df_test.building_id == bid)&(df_test.meter==m), 'meter_reading'] = temp_df[temp_df.meter==m].meter_reading.values"
   ]
  },
  {
   "cell_type": "code",
   "execution_count": 34,
   "metadata": {},
   "outputs": [],
   "source": [
    "sample_submission.to_csv('submission2.csv', index=False, float_format='%.4f')"
   ]
  },
  {
   "cell_type": "code",
   "execution_count": 36,
   "metadata": {},
   "outputs": [
    {
     "data": {
      "text/plain": [
       "3298645.6437743423"
      ]
     },
     "execution_count": 36,
     "metadata": {},
     "output_type": "execute_result"
    }
   ],
   "source": [
    "sample_submission['meter_reading'].max()"
   ]
  },
  {
   "cell_type": "code",
   "execution_count": null,
   "metadata": {},
   "outputs": [],
   "source": []
  }
 ],
 "metadata": {
  "kernelspec": {
   "display_name": "Python 3",
   "language": "python",
   "name": "python3"
  },
  "language_info": {
   "codemirror_mode": {
    "name": "ipython",
    "version": 3
   },
   "file_extension": ".py",
   "mimetype": "text/x-python",
   "name": "python",
   "nbconvert_exporter": "python",
   "pygments_lexer": "ipython3",
   "version": "3.7.4"
  }
 },
 "nbformat": 4,
 "nbformat_minor": 4
}
