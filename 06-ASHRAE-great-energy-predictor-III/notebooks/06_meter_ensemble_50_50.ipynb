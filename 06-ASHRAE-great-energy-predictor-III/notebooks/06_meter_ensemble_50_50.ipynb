{
 "cells": [
  {
   "cell_type": "code",
   "execution_count": 1,
   "metadata": {},
   "outputs": [],
   "source": [
    "import numpy as np\n",
    "import pandas as pd\n",
    "import warnings\n",
    "import gc\n",
    "\n",
    "import matplotlib.pyplot as plt\n",
    "import seaborn as sns\n",
    "%matplotlib inline\n",
    "color = sns.color_palette()\n",
    "sns.set_style(\"darkgrid\")\n",
    "warnings.filterwarnings('ignore')"
   ]
  },
  {
   "cell_type": "code",
   "execution_count": 2,
   "metadata": {},
   "outputs": [],
   "source": [
    "df_train = pd.read_pickle('df_train.pkl')"
   ]
  },
  {
   "cell_type": "code",
   "execution_count": 3,
   "metadata": {},
   "outputs": [
    {
     "data": {
      "text/html": [
       "<div>\n",
       "<style scoped>\n",
       "    .dataframe tbody tr th:only-of-type {\n",
       "        vertical-align: middle;\n",
       "    }\n",
       "\n",
       "    .dataframe tbody tr th {\n",
       "        vertical-align: top;\n",
       "    }\n",
       "\n",
       "    .dataframe thead th {\n",
       "        text-align: right;\n",
       "    }\n",
       "</style>\n",
       "<table border=\"1\" class=\"dataframe\">\n",
       "  <thead>\n",
       "    <tr style=\"text-align: right;\">\n",
       "      <th></th>\n",
       "      <th>building_id</th>\n",
       "      <th>meter</th>\n",
       "      <th>timestamp</th>\n",
       "      <th>meter_reading</th>\n",
       "      <th>site_id</th>\n",
       "      <th>primary_use</th>\n",
       "      <th>square_feet</th>\n",
       "      <th>year_built</th>\n",
       "      <th>floor_count</th>\n",
       "      <th>air_temperature</th>\n",
       "      <th>cloud_coverage</th>\n",
       "      <th>dew_temperature</th>\n",
       "      <th>precip_depth_1_hr</th>\n",
       "      <th>sea_level_pressure</th>\n",
       "      <th>wind_direction</th>\n",
       "      <th>wind_speed</th>\n",
       "    </tr>\n",
       "  </thead>\n",
       "  <tbody>\n",
       "    <tr>\n",
       "      <th>3794905</th>\n",
       "      <td>963</td>\n",
       "      <td>1</td>\n",
       "      <td>2016-03-12 17:00:00</td>\n",
       "      <td>253.177994</td>\n",
       "      <td>9</td>\n",
       "      <td>Lodging/residential</td>\n",
       "      <td>44784</td>\n",
       "      <td>NaN</td>\n",
       "      <td>NaN</td>\n",
       "      <td>18.906250</td>\n",
       "      <td>4.0</td>\n",
       "      <td>14.398438</td>\n",
       "      <td>0.0</td>\n",
       "      <td>1014.0</td>\n",
       "      <td>NaN</td>\n",
       "      <td>1.500000</td>\n",
       "    </tr>\n",
       "    <tr>\n",
       "      <th>11259961</th>\n",
       "      <td>355</td>\n",
       "      <td>0</td>\n",
       "      <td>2016-07-25 05:00:00</td>\n",
       "      <td>266.250000</td>\n",
       "      <td>3</td>\n",
       "      <td>Education</td>\n",
       "      <td>182500</td>\n",
       "      <td>1970.0</td>\n",
       "      <td>NaN</td>\n",
       "      <td>29.406250</td>\n",
       "      <td>4.0</td>\n",
       "      <td>24.406250</td>\n",
       "      <td>0.0</td>\n",
       "      <td>1014.5</td>\n",
       "      <td>160.0</td>\n",
       "      <td>2.099609</td>\n",
       "    </tr>\n",
       "    <tr>\n",
       "      <th>11366919</th>\n",
       "      <td>538</td>\n",
       "      <td>0</td>\n",
       "      <td>2016-07-27 03:00:00</td>\n",
       "      <td>6.520000</td>\n",
       "      <td>3</td>\n",
       "      <td>Religious worship</td>\n",
       "      <td>10000</td>\n",
       "      <td>2010.0</td>\n",
       "      <td>NaN</td>\n",
       "      <td>29.406250</td>\n",
       "      <td>8.0</td>\n",
       "      <td>21.703125</td>\n",
       "      <td>0.0</td>\n",
       "      <td>1013.5</td>\n",
       "      <td>220.0</td>\n",
       "      <td>3.599609</td>\n",
       "    </tr>\n",
       "    <tr>\n",
       "      <th>9579613</th>\n",
       "      <td>261</td>\n",
       "      <td>0</td>\n",
       "      <td>2016-06-25 08:00:00</td>\n",
       "      <td>199.589996</td>\n",
       "      <td>2</td>\n",
       "      <td>Education</td>\n",
       "      <td>89770</td>\n",
       "      <td>NaN</td>\n",
       "      <td>NaN</td>\n",
       "      <td>33.906250</td>\n",
       "      <td>2.0</td>\n",
       "      <td>8.296875</td>\n",
       "      <td>0.0</td>\n",
       "      <td>1005.5</td>\n",
       "      <td>100.0</td>\n",
       "      <td>3.599609</td>\n",
       "    </tr>\n",
       "    <tr>\n",
       "      <th>488237</th>\n",
       "      <td>914</td>\n",
       "      <td>1</td>\n",
       "      <td>2016-01-09 20:00:00</td>\n",
       "      <td>267.351013</td>\n",
       "      <td>9</td>\n",
       "      <td>Education</td>\n",
       "      <td>229973</td>\n",
       "      <td>NaN</td>\n",
       "      <td>NaN</td>\n",
       "      <td>11.101562</td>\n",
       "      <td>NaN</td>\n",
       "      <td>1.099609</td>\n",
       "      <td>0.0</td>\n",
       "      <td>1017.0</td>\n",
       "      <td>320.0</td>\n",
       "      <td>5.699219</td>\n",
       "    </tr>\n",
       "  </tbody>\n",
       "</table>\n",
       "</div>"
      ],
      "text/plain": [
       "          building_id  meter           timestamp  meter_reading  site_id  \\\n",
       "3794905           963      1 2016-03-12 17:00:00     253.177994        9   \n",
       "11259961          355      0 2016-07-25 05:00:00     266.250000        3   \n",
       "11366919          538      0 2016-07-27 03:00:00       6.520000        3   \n",
       "9579613           261      0 2016-06-25 08:00:00     199.589996        2   \n",
       "488237            914      1 2016-01-09 20:00:00     267.351013        9   \n",
       "\n",
       "                  primary_use  square_feet  year_built  floor_count  \\\n",
       "3794905   Lodging/residential        44784         NaN          NaN   \n",
       "11259961            Education       182500      1970.0          NaN   \n",
       "11366919    Religious worship        10000      2010.0          NaN   \n",
       "9579613             Education        89770         NaN          NaN   \n",
       "488237              Education       229973         NaN          NaN   \n",
       "\n",
       "          air_temperature  cloud_coverage  dew_temperature  precip_depth_1_hr  \\\n",
       "3794905         18.906250             4.0        14.398438                0.0   \n",
       "11259961        29.406250             4.0        24.406250                0.0   \n",
       "11366919        29.406250             8.0        21.703125                0.0   \n",
       "9579613         33.906250             2.0         8.296875                0.0   \n",
       "488237          11.101562             NaN         1.099609                0.0   \n",
       "\n",
       "          sea_level_pressure  wind_direction  wind_speed  \n",
       "3794905               1014.0             NaN    1.500000  \n",
       "11259961              1014.5           160.0    2.099609  \n",
       "11366919              1013.5           220.0    3.599609  \n",
       "9579613               1005.5           100.0    3.599609  \n",
       "488237                1017.0           320.0    5.699219  "
      ]
     },
     "execution_count": 3,
     "metadata": {},
     "output_type": "execute_result"
    }
   ],
   "source": [
    "df_train.sample(5)"
   ]
  },
  {
   "cell_type": "code",
   "execution_count": 4,
   "metadata": {},
   "outputs": [
    {
     "name": "stdout",
     "output_type": "stream",
     "text": [
      "Max Air Temp:47.1875\n",
      "Min Air Temp:-28.90625\n",
      "Max Dew Temp:26.09375\n",
      "Min Dew Temp:-35.0\n",
      "Max Precipitation Depth:343.0\n",
      "Min Precipitation Depth:-1.0\n"
     ]
    }
   ],
   "source": [
    "print(f\"Max Air Temp:{np.max(df_train['air_temperature'])}\")\n",
    "print(f\"Min Air Temp:{np.min(df_train['air_temperature'])}\")\n",
    "print(f\"Max Dew Temp:{np.max(df_train['dew_temperature'])}\")\n",
    "print(f\"Min Dew Temp:{np.min(df_train['dew_temperature'])}\")\n",
    "print(f\"Max Precipitation Depth:{np.max(df_train['precip_depth_1_hr'])}\")\n",
    "print(f\"Min Precipitation Depth:{np.min(df_train['precip_depth_1_hr'])}\")"
   ]
  },
  {
   "cell_type": "code",
   "execution_count": 5,
   "metadata": {},
   "outputs": [
    {
     "data": {
      "text/plain": [
       "building_id                    int16\n",
       "meter                           int8\n",
       "timestamp             datetime64[ns]\n",
       "meter_reading                float32\n",
       "site_id                         int8\n",
       "primary_use                   object\n",
       "square_feet                    int32\n",
       "year_built                   float16\n",
       "floor_count                  float16\n",
       "air_temperature              float16\n",
       "cloud_coverage               float16\n",
       "dew_temperature              float16\n",
       "precip_depth_1_hr            float16\n",
       "sea_level_pressure           float16\n",
       "wind_direction               float16\n",
       "wind_speed                   float16\n",
       "dtype: object"
      ]
     },
     "execution_count": 5,
     "metadata": {},
     "output_type": "execute_result"
    }
   ],
   "source": [
    "df_train.dtypes"
   ]
  },
  {
   "cell_type": "code",
   "execution_count": 6,
   "metadata": {},
   "outputs": [
    {
     "data": {
      "text/plain": [
       "building_id                  0\n",
       "meter                        0\n",
       "timestamp                    0\n",
       "meter_reading                0\n",
       "site_id                      0\n",
       "primary_use                  0\n",
       "square_feet                  0\n",
       "year_built            12127645\n",
       "floor_count           16709167\n",
       "air_temperature          96658\n",
       "cloud_coverage         8825365\n",
       "dew_temperature         100140\n",
       "precip_depth_1_hr      3749023\n",
       "sea_level_pressure     1231669\n",
       "wind_direction         1449048\n",
       "wind_speed              143676\n",
       "dtype: int64"
      ]
     },
     "execution_count": 6,
     "metadata": {},
     "output_type": "execute_result"
    }
   ],
   "source": [
    "df_train.isna().sum()"
   ]
  },
  {
   "cell_type": "code",
   "execution_count": 2,
   "metadata": {},
   "outputs": [],
   "source": [
    "from sklearn.preprocessing import LabelEncoder"
   ]
  },
  {
   "cell_type": "code",
   "execution_count": 8,
   "metadata": {},
   "outputs": [],
   "source": [
    "le = LabelEncoder()\n",
    "df_train['primary_use'] = le.fit_transform(df_train['primary_use'])"
   ]
  },
  {
   "cell_type": "code",
   "execution_count": 9,
   "metadata": {},
   "outputs": [
    {
     "data": {
      "text/plain": [
       "11"
      ]
     },
     "execution_count": 9,
     "metadata": {},
     "output_type": "execute_result"
    }
   ],
   "source": [
    "df_train_0 = df_train[df_train['meter']==0]\n",
    "df_train_1 = df_train[df_train['meter']==1]\n",
    "df_train_2 = df_train[df_train['meter']==2]\n",
    "df_train_3 = df_train[df_train['meter']==3]\n",
    "\n",
    "del df_train\n",
    "gc.collect()"
   ]
  },
  {
   "cell_type": "code",
   "execution_count": 10,
   "metadata": {},
   "outputs": [],
   "source": [
    "# print(f\"No of Unique Primary use for meter{0} is: {df_train_0['primary_use'].nunique()}\")\n",
    "# print(f\"No of Unique Primary use for meter{1} is: {df_train_1['primary_use'].nunique()}\")\n",
    "# print(f\"No of Unique Primary use for meter{2} is: {df_train_2['primary_use'].nunique()}\")\n",
    "# print(f\"No of Unique Primary use for meter{3} is: {df_train_3['primary_use'].nunique()}\")"
   ]
  },
  {
   "cell_type": "code",
   "execution_count": 3,
   "metadata": {},
   "outputs": [],
   "source": [
    "def prepare_data(X, test=False):\n",
    "    \"\"\"\n",
    "    Preparing final dataset with all features.\n",
    "    \"\"\"\n",
    "    X.square_feet = np.log1p(X.square_feet)\n",
    "    \n",
    "    if not test:\n",
    "        X.sort_values(\"timestamp\", inplace=True)\n",
    "        X.reset_index(drop=True, inplace=True)\n",
    "    \n",
    "    gc.collect()\n",
    "    \n",
    "    holidays = [\"2016-01-01\", \"2016-01-18\", \"2016-02-15\", \"2016-05-30\", \"2016-07-04\",\n",
    "                \"2016-09-05\", \"2016-10-10\", \"2016-11-11\", \"2016-11-24\", \"2016-12-26\",\n",
    "                \"2017-01-01\", \"2017-01-16\", \"2017-02-20\", \"2017-05-29\", \"2017-07-04\",\n",
    "                \"2017-09-04\", \"2017-10-09\", \"2017-11-10\", \"2017-11-23\", \"2017-12-25\",\n",
    "                \"2018-01-01\", \"2018-01-15\", \"2018-02-19\", \"2018-05-28\", \"2018-07-04\",\n",
    "                \"2018-09-03\", \"2018-10-08\", \"2018-11-12\", \"2018-11-22\", \"2018-12-25\",\n",
    "                \"2019-01-01\"]\n",
    "    \n",
    "    X[\"hour\"] = X.timestamp.dt.hour\n",
    "    X[\"weekday\"] = X.timestamp.dt.weekday\n",
    "    X[\"is_holiday\"] = (X.timestamp.dt.date.astype(\"str\").isin(holidays)).astype(int)\n",
    "    \n",
    "    drop_features = [\"timestamp\", \"sea_level_pressure\", \"wind_direction\", \"wind_speed\"]\n",
    "    X.drop(drop_features, axis=1, inplace=True)\n",
    "    \n",
    "    ####imputing NaNs\n",
    "    X['year_built'].fillna(-1, inplace=True)\n",
    "    X['floor_count'].fillna(0, inplace=True)\n",
    "    X['air_temperature'].fillna(0, inplace=True)\n",
    "    X['cloud_coverage'].fillna(-1, inplace=True)\n",
    "    X['dew_temperature'].fillna(0, inplace=True)\n",
    "    X['precip_depth_1_hr'].fillna(-2, inplace=True)\n",
    "    \n",
    "    if test:\n",
    "        return X\n",
    "#         row_ids = X.row_id\n",
    "#         X.drop(\"row_id\", axis=1, inplace=True)\n",
    "#         return X, row_ids\n",
    "    else:\n",
    "        y = np.log1p(X.meter_reading)\n",
    "        X.drop(\"meter_reading\", axis=1, inplace=True)\n",
    "        return X, y"
   ]
  },
  {
   "cell_type": "code",
   "execution_count": 12,
   "metadata": {},
   "outputs": [
    {
     "data": {
      "text/plain": [
       "34"
      ]
     },
     "execution_count": 12,
     "metadata": {},
     "output_type": "execute_result"
    }
   ],
   "source": [
    "X_0, y_0 = prepare_data(df_train_0)\n",
    "X_1, y_1 = prepare_data(df_train_1)\n",
    "X_2, y_2 = prepare_data(df_train_2)\n",
    "X_3, y_3 = prepare_data(df_train_3)\n",
    "\n",
    "del df_train_0, df_train_1, df_train_2, df_train_3\n",
    "gc.collect()"
   ]
  },
  {
   "cell_type": "code",
   "execution_count": 13,
   "metadata": {},
   "outputs": [
    {
     "data": {
      "text/html": [
       "<div>\n",
       "<style scoped>\n",
       "    .dataframe tbody tr th:only-of-type {\n",
       "        vertical-align: middle;\n",
       "    }\n",
       "\n",
       "    .dataframe tbody tr th {\n",
       "        vertical-align: top;\n",
       "    }\n",
       "\n",
       "    .dataframe thead th {\n",
       "        text-align: right;\n",
       "    }\n",
       "</style>\n",
       "<table border=\"1\" class=\"dataframe\">\n",
       "  <thead>\n",
       "    <tr style=\"text-align: right;\">\n",
       "      <th></th>\n",
       "      <th>building_id</th>\n",
       "      <th>meter</th>\n",
       "      <th>site_id</th>\n",
       "      <th>primary_use</th>\n",
       "      <th>square_feet</th>\n",
       "      <th>year_built</th>\n",
       "      <th>floor_count</th>\n",
       "      <th>air_temperature</th>\n",
       "      <th>cloud_coverage</th>\n",
       "      <th>dew_temperature</th>\n",
       "      <th>precip_depth_1_hr</th>\n",
       "      <th>hour</th>\n",
       "      <th>weekday</th>\n",
       "      <th>is_holiday</th>\n",
       "    </tr>\n",
       "  </thead>\n",
       "  <tbody>\n",
       "    <tr>\n",
       "      <th>0</th>\n",
       "      <td>0</td>\n",
       "      <td>0</td>\n",
       "      <td>0</td>\n",
       "      <td>0</td>\n",
       "      <td>8.913685</td>\n",
       "      <td>2008.0</td>\n",
       "      <td>0.0</td>\n",
       "      <td>25.0</td>\n",
       "      <td>6.0</td>\n",
       "      <td>20.0</td>\n",
       "      <td>-2.0</td>\n",
       "      <td>0</td>\n",
       "      <td>4</td>\n",
       "      <td>1</td>\n",
       "    </tr>\n",
       "    <tr>\n",
       "      <th>1</th>\n",
       "      <td>960</td>\n",
       "      <td>0</td>\n",
       "      <td>9</td>\n",
       "      <td>0</td>\n",
       "      <td>10.935568</td>\n",
       "      <td>-1.0</td>\n",
       "      <td>0.0</td>\n",
       "      <td>0.0</td>\n",
       "      <td>-1.0</td>\n",
       "      <td>0.0</td>\n",
       "      <td>-2.0</td>\n",
       "      <td>0</td>\n",
       "      <td>4</td>\n",
       "      <td>1</td>\n",
       "    </tr>\n",
       "    <tr>\n",
       "      <th>2</th>\n",
       "      <td>959</td>\n",
       "      <td>0</td>\n",
       "      <td>9</td>\n",
       "      <td>0</td>\n",
       "      <td>11.763972</td>\n",
       "      <td>-1.0</td>\n",
       "      <td>0.0</td>\n",
       "      <td>0.0</td>\n",
       "      <td>-1.0</td>\n",
       "      <td>0.0</td>\n",
       "      <td>-2.0</td>\n",
       "      <td>0</td>\n",
       "      <td>4</td>\n",
       "      <td>1</td>\n",
       "    </tr>\n",
       "    <tr>\n",
       "      <th>3</th>\n",
       "      <td>958</td>\n",
       "      <td>0</td>\n",
       "      <td>9</td>\n",
       "      <td>1</td>\n",
       "      <td>12.366575</td>\n",
       "      <td>-1.0</td>\n",
       "      <td>0.0</td>\n",
       "      <td>0.0</td>\n",
       "      <td>-1.0</td>\n",
       "      <td>0.0</td>\n",
       "      <td>-2.0</td>\n",
       "      <td>0</td>\n",
       "      <td>4</td>\n",
       "      <td>1</td>\n",
       "    </tr>\n",
       "    <tr>\n",
       "      <th>4</th>\n",
       "      <td>957</td>\n",
       "      <td>0</td>\n",
       "      <td>9</td>\n",
       "      <td>0</td>\n",
       "      <td>11.619050</td>\n",
       "      <td>-1.0</td>\n",
       "      <td>0.0</td>\n",
       "      <td>0.0</td>\n",
       "      <td>-1.0</td>\n",
       "      <td>0.0</td>\n",
       "      <td>-2.0</td>\n",
       "      <td>0</td>\n",
       "      <td>4</td>\n",
       "      <td>1</td>\n",
       "    </tr>\n",
       "    <tr>\n",
       "      <th>5</th>\n",
       "      <td>956</td>\n",
       "      <td>0</td>\n",
       "      <td>9</td>\n",
       "      <td>6</td>\n",
       "      <td>11.364054</td>\n",
       "      <td>-1.0</td>\n",
       "      <td>0.0</td>\n",
       "      <td>0.0</td>\n",
       "      <td>-1.0</td>\n",
       "      <td>0.0</td>\n",
       "      <td>-2.0</td>\n",
       "      <td>0</td>\n",
       "      <td>4</td>\n",
       "      <td>1</td>\n",
       "    </tr>\n",
       "    <tr>\n",
       "      <th>6</th>\n",
       "      <td>955</td>\n",
       "      <td>0</td>\n",
       "      <td>9</td>\n",
       "      <td>0</td>\n",
       "      <td>12.198489</td>\n",
       "      <td>-1.0</td>\n",
       "      <td>0.0</td>\n",
       "      <td>0.0</td>\n",
       "      <td>-1.0</td>\n",
       "      <td>0.0</td>\n",
       "      <td>-2.0</td>\n",
       "      <td>0</td>\n",
       "      <td>4</td>\n",
       "      <td>1</td>\n",
       "    </tr>\n",
       "    <tr>\n",
       "      <th>7</th>\n",
       "      <td>954</td>\n",
       "      <td>0</td>\n",
       "      <td>9</td>\n",
       "      <td>0</td>\n",
       "      <td>12.628804</td>\n",
       "      <td>-1.0</td>\n",
       "      <td>0.0</td>\n",
       "      <td>0.0</td>\n",
       "      <td>-1.0</td>\n",
       "      <td>0.0</td>\n",
       "      <td>-2.0</td>\n",
       "      <td>0</td>\n",
       "      <td>4</td>\n",
       "      <td>1</td>\n",
       "    </tr>\n",
       "    <tr>\n",
       "      <th>8</th>\n",
       "      <td>953</td>\n",
       "      <td>0</td>\n",
       "      <td>9</td>\n",
       "      <td>1</td>\n",
       "      <td>13.242425</td>\n",
       "      <td>-1.0</td>\n",
       "      <td>0.0</td>\n",
       "      <td>0.0</td>\n",
       "      <td>-1.0</td>\n",
       "      <td>0.0</td>\n",
       "      <td>-2.0</td>\n",
       "      <td>0</td>\n",
       "      <td>4</td>\n",
       "      <td>1</td>\n",
       "    </tr>\n",
       "    <tr>\n",
       "      <th>9</th>\n",
       "      <td>952</td>\n",
       "      <td>0</td>\n",
       "      <td>9</td>\n",
       "      <td>0</td>\n",
       "      <td>12.292365</td>\n",
       "      <td>-1.0</td>\n",
       "      <td>0.0</td>\n",
       "      <td>0.0</td>\n",
       "      <td>-1.0</td>\n",
       "      <td>0.0</td>\n",
       "      <td>-2.0</td>\n",
       "      <td>0</td>\n",
       "      <td>4</td>\n",
       "      <td>1</td>\n",
       "    </tr>\n",
       "  </tbody>\n",
       "</table>\n",
       "</div>"
      ],
      "text/plain": [
       "   building_id  meter  site_id  primary_use  square_feet  year_built  \\\n",
       "0            0      0        0            0     8.913685      2008.0   \n",
       "1          960      0        9            0    10.935568        -1.0   \n",
       "2          959      0        9            0    11.763972        -1.0   \n",
       "3          958      0        9            1    12.366575        -1.0   \n",
       "4          957      0        9            0    11.619050        -1.0   \n",
       "5          956      0        9            6    11.364054        -1.0   \n",
       "6          955      0        9            0    12.198489        -1.0   \n",
       "7          954      0        9            0    12.628804        -1.0   \n",
       "8          953      0        9            1    13.242425        -1.0   \n",
       "9          952      0        9            0    12.292365        -1.0   \n",
       "\n",
       "   floor_count  air_temperature  cloud_coverage  dew_temperature  \\\n",
       "0          0.0             25.0             6.0             20.0   \n",
       "1          0.0              0.0            -1.0              0.0   \n",
       "2          0.0              0.0            -1.0              0.0   \n",
       "3          0.0              0.0            -1.0              0.0   \n",
       "4          0.0              0.0            -1.0              0.0   \n",
       "5          0.0              0.0            -1.0              0.0   \n",
       "6          0.0              0.0            -1.0              0.0   \n",
       "7          0.0              0.0            -1.0              0.0   \n",
       "8          0.0              0.0            -1.0              0.0   \n",
       "9          0.0              0.0            -1.0              0.0   \n",
       "\n",
       "   precip_depth_1_hr  hour  weekday  is_holiday  \n",
       "0               -2.0     0        4           1  \n",
       "1               -2.0     0        4           1  \n",
       "2               -2.0     0        4           1  \n",
       "3               -2.0     0        4           1  \n",
       "4               -2.0     0        4           1  \n",
       "5               -2.0     0        4           1  \n",
       "6               -2.0     0        4           1  \n",
       "7               -2.0     0        4           1  \n",
       "8               -2.0     0        4           1  \n",
       "9               -2.0     0        4           1  "
      ]
     },
     "execution_count": 13,
     "metadata": {},
     "output_type": "execute_result"
    }
   ],
   "source": [
    "X_0.head(10)"
   ]
  },
  {
   "cell_type": "code",
   "execution_count": 14,
   "metadata": {},
   "outputs": [
    {
     "data": {
      "text/plain": [
       "0"
      ]
     },
     "execution_count": 14,
     "metadata": {},
     "output_type": "execute_result"
    }
   ],
   "source": [
    "X_0_1 =  X_0[:int(X_0.shape[0] / 2)]\n",
    "X_0_2 =  X_0[int(X_0.shape[0] / 2):]\n",
    "X_1_1 =  X_0[:int(X_1.shape[0] / 2)]\n",
    "X_1_2 =  X_0[int(X_1.shape[0] / 2):]\n",
    "X_2_1 =  X_0[:int(X_2.shape[0] / 2)]\n",
    "X_2_2 =  X_0[int(X_2.shape[0] / 2):]\n",
    "X_3_1 =  X_0[:int(X_3.shape[0] / 2)]\n",
    "X_3_2 =  X_0[int(X_3.shape[0] / 2):]\n",
    "\n",
    "y_0_1 = y_0[:int(X_0.shape[0] / 2)]\n",
    "y_0_2 = y_0[int(X_0.shape[0] / 2):]\n",
    "y_1_1 = y_0[:int(X_1.shape[0] / 2)]\n",
    "y_1_2 = y_0[int(X_1.shape[0] / 2):]\n",
    "y_2_1 = y_0[:int(X_2.shape[0] / 2)]\n",
    "y_2_2 = y_0[int(X_2.shape[0] / 2):]\n",
    "y_3_1 = y_0[:int(X_3.shape[0] / 2)]\n",
    "y_3_2 = y_0[int(X_3.shape[0] / 2):]\n",
    "\n",
    "del X_0, y_0, X_1, y_1, X_2, y_2, X_3, y_3\n",
    "gc.collect()"
   ]
  },
  {
   "cell_type": "code",
   "execution_count": 4,
   "metadata": {},
   "outputs": [],
   "source": [
    "import lightgbm as lgb\n",
    "import random\n",
    "from sklearn.metrics import mean_squared_error\n",
    "random.seed(12)"
   ]
  },
  {
   "cell_type": "code",
   "execution_count": 16,
   "metadata": {},
   "outputs": [],
   "source": [
    "categorical_features = [\"building_id\", \"site_id\", \"meter\", \"primary_use\", \"hour\", \"weekday\"]\n",
    "\n",
    "d_0_1 = lgb.Dataset(X_0_1, label=y_0_1, categorical_feature=categorical_features, free_raw_data=False)\n",
    "d_0_2 = lgb.Dataset(X_0_2, label=y_0_2, categorical_feature=categorical_features, free_raw_data=False)\n",
    "d_1_1 = lgb.Dataset(X_1_1, label=y_1_1, categorical_feature=categorical_features, free_raw_data=False)\n",
    "d_1_2 = lgb.Dataset(X_1_2, label=y_1_2, categorical_feature=categorical_features, free_raw_data=False)\n",
    "d_2_1 = lgb.Dataset(X_2_1, label=y_2_1, categorical_feature=categorical_features, free_raw_data=False)\n",
    "d_2_2 = lgb.Dataset(X_2_2, label=y_2_2, categorical_feature=categorical_features, free_raw_data=False)\n",
    "d_3_1 = lgb.Dataset(X_3_1, label=y_3_1, categorical_feature=categorical_features, free_raw_data=False)\n",
    "d_3_2 = lgb.Dataset(X_3_2, label=y_3_2, categorical_feature=categorical_features, free_raw_data=False)"
   ]
  },
  {
   "cell_type": "code",
   "execution_count": 17,
   "metadata": {},
   "outputs": [],
   "source": [
    "watchlist_0_1 = [d_0_1, d_0_2]\n",
    "watchlist_0_2 = [d_0_2, d_0_1]\n",
    "watchlist_1_1 = [d_1_1, d_1_2]\n",
    "watchlist_1_2 = [d_1_2, d_1_1]\n",
    "watchlist_2_1 = [d_2_1, d_2_2]\n",
    "watchlist_2_2 = [d_2_2, d_2_1]\n",
    "watchlist_3_1 = [d_3_1, d_3_2]\n",
    "watchlist_3_2 = [d_3_2, d_3_1]\n",
    "\n",
    "params = {\n",
    "    \"objective\": \"regression\",\n",
    "    \"boosting\": \"gbdt\",\n",
    "    \"num_leaves\": 40,\n",
    "    \"learning_rate\": 0.05,\n",
    "    \"feature_fraction\": 0.85,\n",
    "    \"reg_lambda\": 2,\n",
    "    \"metric\": \"rmse\"\n",
    "}"
   ]
  },
  {
   "cell_type": "code",
   "execution_count": 18,
   "metadata": {},
   "outputs": [
    {
     "name": "stdout",
     "output_type": "stream",
     "text": [
      "Building LGBM Model with for meter 0 with 1st half of data and validation on 2nd half:\n",
      "Training until validation scores don't improve for 200 rounds\n",
      "[200]\ttraining's rmse: 0.545571\tvalid_1's rmse: 1.18394\n",
      "Early stopping, best iteration is:\n",
      "[31]\ttraining's rmse: 0.786673\tvalid_1's rmse: 1.15263\n",
      "##################################################\n",
      "Building LGBM Model with for meter 0 with 2nd half of data and validation on 1st half:\n",
      "Training until validation scores don't improve for 200 rounds\n",
      "[200]\ttraining's rmse: 0.485943\tvalid_1's rmse: 1.4731\n",
      "Early stopping, best iteration is:\n",
      "[32]\ttraining's rmse: 0.695521\tvalid_1's rmse: 1.43825\n",
      "##################################################\n",
      "Building LGBM Model with for meter 1 with 1st half of data and validation on 2nd half:\n",
      "Training until validation scores don't improve for 200 rounds\n",
      "[200]\ttraining's rmse: 0.388747\tvalid_1's rmse: 1.46856\n",
      "Early stopping, best iteration is:\n",
      "[19]\ttraining's rmse: 0.856259\tvalid_1's rmse: 1.31837\n",
      "##################################################\n",
      "Building LGBM Model with for meter 1 with 2nd half of data and validation on 1st half:\n",
      "Training until validation scores don't improve for 200 rounds\n",
      "[200]\ttraining's rmse: 0.74301\tvalid_1's rmse: 1.13481\n",
      "Early stopping, best iteration is:\n",
      "[118]\ttraining's rmse: 0.775743\tvalid_1's rmse: 1.11711\n",
      "##################################################\n",
      "Building LGBM Model with for meter 2 with 1st half of data and validation on 2nd half:\n",
      "Training until validation scores don't improve for 200 rounds\n",
      "[200]\ttraining's rmse: 0.339772\tvalid_1's rmse: 1.44934\n",
      "Early stopping, best iteration is:\n",
      "[19]\ttraining's rmse: 0.842479\tvalid_1's rmse: 1.29453\n",
      "##################################################\n",
      "Building LGBM Model with for meter 2 with 2nd half of data and validation on 1st half:\n",
      "Training until validation scores don't improve for 200 rounds\n",
      "[200]\ttraining's rmse: 0.758648\tvalid_1's rmse: 0.895641\n",
      "[400]\ttraining's rmse: 0.725607\tvalid_1's rmse: 0.907375\n",
      "Early stopping, best iteration is:\n",
      "[223]\ttraining's rmse: 0.753607\tvalid_1's rmse: 0.894198\n",
      "##################################################\n",
      "Building LGBM Model with for meter 3 with 1st half of data and validation on 2nd half:\n",
      "Training until validation scores don't improve for 200 rounds\n",
      "[200]\ttraining's rmse: 0.271763\tvalid_1's rmse: 1.40707\n",
      "Early stopping, best iteration is:\n",
      "[22]\ttraining's rmse: 0.71804\tvalid_1's rmse: 1.28614\n",
      "##################################################\n",
      "Building LGBM Model with for meter 3 with 2nd half of data and validation on 1st half:\n",
      "Training until validation scores don't improve for 200 rounds\n",
      "[200]\ttraining's rmse: 0.769317\tvalid_1's rmse: 0.766861\n",
      "[400]\ttraining's rmse: 0.733704\tvalid_1's rmse: 0.770238\n",
      "Early stopping, best iteration is:\n",
      "[215]\ttraining's rmse: 0.76587\tvalid_1's rmse: 0.76494\n"
     ]
    }
   ],
   "source": [
    "print(\"Building LGBM Model with for meter 0 with 1st half of data and validation on 2nd half:\")\n",
    "model_0_1 = lgb.train(params, train_set=d_0_1, \n",
    "                         num_boost_round=1000, valid_sets=watchlist_0_1, \n",
    "                         verbose_eval=200, early_stopping_rounds=200)\n",
    "print('#'*50) \n",
    "\n",
    "print(\"Building LGBM Model with for meter 0 with 2nd half of data and validation on 1st half:\")\n",
    "model_0_2 = lgb.train(params, train_set=d_0_2, \n",
    "                         num_boost_round=1000, valid_sets=watchlist_0_2, \n",
    "                         verbose_eval=200, early_stopping_rounds=200)\n",
    "print('#'*50) \n",
    "\n",
    "print(\"Building LGBM Model with for meter 1 with 1st half of data and validation on 2nd half:\")\n",
    "model_1_1 = lgb.train(params, train_set=d_1_1, \n",
    "                         num_boost_round=1000, valid_sets=watchlist_1_1, \n",
    "                         verbose_eval=200, early_stopping_rounds=200)\n",
    "print('#'*50) \n",
    "\n",
    "print(\"Building LGBM Model with for meter 1 with 2nd half of data and validation on 1st half:\")\n",
    "model_1_2 = lgb.train(params, train_set=d_1_2, \n",
    "                         num_boost_round=1000, valid_sets=watchlist_1_2, \n",
    "                         verbose_eval=200, early_stopping_rounds=200)\n",
    "print('#'*50) \n",
    "\n",
    "print(\"Building LGBM Model with for meter 2 with 1st half of data and validation on 2nd half:\")\n",
    "model_2_1 = lgb.train(params, train_set=d_2_1, \n",
    "                         num_boost_round=1000, valid_sets=watchlist_2_1, \n",
    "                         verbose_eval=200, early_stopping_rounds=200)\n",
    "print('#'*50) \n",
    "\n",
    "print(\"Building LGBM Model with for meter 2 with 2nd half of data and validation on 1st half:\")\n",
    "model_2_2 = lgb.train(params, train_set=d_2_2, \n",
    "                         num_boost_round=1000, valid_sets=watchlist_2_2, \n",
    "                         verbose_eval=200, early_stopping_rounds=200)\n",
    "print('#'*50) \n",
    "\n",
    "print(\"Building LGBM Model with for meter 3 with 1st half of data and validation on 2nd half:\")\n",
    "model_3_1 = lgb.train(params, train_set=d_3_1, \n",
    "                         num_boost_round=1000, valid_sets=watchlist_3_1, \n",
    "                         verbose_eval=200, early_stopping_rounds=200)\n",
    "print('#'*50) \n",
    "\n",
    "print(\"Building LGBM Model with for meter 3 with 2nd half of data and validation on 1st half:\")\n",
    "model_3_2 = lgb.train(params, train_set=d_3_2, \n",
    "                         num_boost_round=1000, valid_sets=watchlist_3_2, \n",
    "                         verbose_eval=200, early_stopping_rounds=200)"
   ]
  },
  {
   "cell_type": "code",
   "execution_count": 36,
   "metadata": {},
   "outputs": [],
   "source": [
    "models = {'model_0_1' : model_0_1,\n",
    "          'model_0_2' : model_0_2,\n",
    "          'model_1_1' : model_1_1,\n",
    "          'model_1_2' : model_1_2,\n",
    "          'model_2_1' : model_2_1,\n",
    "          'model_2_2' : model_2_2,\n",
    "          'model_3_1' : model_3_1,\n",
    "          'model_3_2' : model_3_2 }"
   ]
  },
  {
   "cell_type": "code",
   "execution_count": 5,
   "metadata": {},
   "outputs": [],
   "source": [
    "import pickle"
   ]
  },
  {
   "cell_type": "code",
   "execution_count": 38,
   "metadata": {},
   "outputs": [],
   "source": [
    "for i in range(4):\n",
    "    for j in range(1,3):\n",
    "        picfile = open(f'model_{i}_{j}', 'wb') \n",
    "        pickle.dump(models[f'model_{i}_{j}'], picfile)\n",
    "        picfile.close() "
   ]
  },
  {
   "cell_type": "code",
   "execution_count": 41,
   "metadata": {},
   "outputs": [],
   "source": [
    "picfile = open('le', 'wb') \n",
    "pickle.dump(le, picfile)\n",
    "picfile.close() "
   ]
  },
  {
   "cell_type": "code",
   "execution_count": 42,
   "metadata": {},
   "outputs": [
    {
     "data": {
      "text/plain": [
       "329"
      ]
     },
     "execution_count": 42,
     "metadata": {},
     "output_type": "execute_result"
    }
   ],
   "source": [
    "del X_0_1, X_0_2, X_1_1, X_1_2, X_2_1, X_2_2, X_3_1, X_3_2\n",
    "del y_0_1, y_0_2, y_1_1, y_1_2, y_2_1, y_2_2, y_3_1, y_3_2\n",
    "    \n",
    "gc.collect()"
   ]
  },
  {
   "cell_type": "code",
   "execution_count": 6,
   "metadata": {},
   "outputs": [],
   "source": [
    "df_test = pd.read_pickle('df_test.pkl')"
   ]
  },
  {
   "cell_type": "code",
   "execution_count": 7,
   "metadata": {},
   "outputs": [],
   "source": [
    "models = {}\n",
    "for i in range(4):\n",
    "    for j in range(1,3):\n",
    "        picfile = open(f'model_{i}_{j}', 'rb') \n",
    "        models[f'model_{i}_{j}'] = pickle.load(picfile)\n",
    "        picfile.close() \n",
    "        \n",
    "picfile = open('le', 'rb') \n",
    "le = pickle.load(picfile)\n",
    "picfile.close() "
   ]
  },
  {
   "cell_type": "code",
   "execution_count": 8,
   "metadata": {},
   "outputs": [],
   "source": [
    "df_test.primary_use = le.transform(df_test.primary_use)"
   ]
  },
  {
   "cell_type": "code",
   "execution_count": 9,
   "metadata": {},
   "outputs": [
    {
     "data": {
      "text/plain": [
       "33"
      ]
     },
     "execution_count": 9,
     "metadata": {},
     "output_type": "execute_result"
    }
   ],
   "source": [
    "# X_test, row_ids = prepare_data(df_test, test=True)\n",
    "X_test = prepare_data(df_test, test=True)\n",
    "del df_test\n",
    "gc.collect()"
   ]
  },
  {
   "cell_type": "code",
   "execution_count": 10,
   "metadata": {},
   "outputs": [],
   "source": [
    "for i in range(4):\n",
    "    temp = X_test[X_test['meter'] == i]\n",
    "    row = temp['row_id']\n",
    "    temp.drop('row_id', axis=1, inplace=True)\n",
    "    for j in range(1,3):\n",
    "        if j == 1:\n",
    "            pred = np.expm1(models[f'model_{i}_{j}'].predict(temp, num_iteration=models[f'model_{i}_{j}'].best_iteration)) / 2\n",
    "            del models[f'model_{i}_{j}']\n",
    "            gc.collect()\n",
    "        else:\n",
    "            pred += np.expm1(models[f'model_{i}_{j}'].predict(temp, num_iteration=models[f'model_{i}_{j}'].best_iteration)) / 2\n",
    "            del models[f'model_{i}_{j}']\n",
    "            gc.collect()\n",
    "    \n",
    "    pd.DataFrame({\"row_id\": row, \"meter_reading\": np.clip(pred, 0, a_max=None)}).to_csv(f\"submission{i}.csv\", index=False)\n",
    "    del temp,  row, pred\n",
    "    gc.collect()"
   ]
  },
  {
   "cell_type": "code",
   "execution_count": 11,
   "metadata": {},
   "outputs": [
    {
     "data": {
      "text/plain": [
       "22"
      ]
     },
     "execution_count": 11,
     "metadata": {},
     "output_type": "execute_result"
    }
   ],
   "source": [
    "del X_test\n",
    "gc.collect()"
   ]
  },
  {
   "cell_type": "code",
   "execution_count": 12,
   "metadata": {},
   "outputs": [],
   "source": [
    "sub0 = pd.read_csv('submission0.csv')\n",
    "sub1 = pd.read_csv('submission1.csv')\n",
    "sub2 = pd.read_csv('submission2.csv')\n",
    "sub3 = pd.read_csv('submission3.csv')"
   ]
  },
  {
   "cell_type": "code",
   "execution_count": 14,
   "metadata": {},
   "outputs": [],
   "source": [
    "frames = [sub0, sub1, sub2, sub3]"
   ]
  },
  {
   "cell_type": "code",
   "execution_count": 15,
   "metadata": {},
   "outputs": [
    {
     "data": {
      "text/plain": [
       "1143"
      ]
     },
     "execution_count": 15,
     "metadata": {},
     "output_type": "execute_result"
    }
   ],
   "source": [
    "result = pd.concat(frames)\n",
    "del sub0, sub1, sub2, sub3\n",
    "gc.collect()"
   ]
  },
  {
   "cell_type": "code",
   "execution_count": 16,
   "metadata": {},
   "outputs": [
    {
     "data": {
      "text/plain": [
       "(41697600, 2)"
      ]
     },
     "execution_count": 16,
     "metadata": {},
     "output_type": "execute_result"
    }
   ],
   "source": [
    "result.shape"
   ]
  },
  {
   "cell_type": "code",
   "execution_count": 17,
   "metadata": {},
   "outputs": [],
   "source": [
    "result.to_csv('submission.csv', index=False)"
   ]
  },
  {
   "cell_type": "code",
   "execution_count": null,
   "metadata": {},
   "outputs": [],
   "source": []
  }
 ],
 "metadata": {
  "kernelspec": {
   "display_name": "Python 3",
   "language": "python",
   "name": "python3"
  },
  "language_info": {
   "codemirror_mode": {
    "name": "ipython",
    "version": 3
   },
   "file_extension": ".py",
   "mimetype": "text/x-python",
   "name": "python",
   "nbconvert_exporter": "python",
   "pygments_lexer": "ipython3",
   "version": "3.7.4"
  }
 },
 "nbformat": 4,
 "nbformat_minor": 4
}
