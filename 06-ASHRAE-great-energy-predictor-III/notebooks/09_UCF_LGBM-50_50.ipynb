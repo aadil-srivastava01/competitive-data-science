{
 "cells": [
  {
   "cell_type": "code",
   "execution_count": 1,
   "metadata": {},
   "outputs": [],
   "source": [
    "import numpy as np\n",
    "import pandas as pd\n",
    "import warnings\n",
    "warnings.filterwarnings('ignore')\n",
    "import gc\n",
    "\n",
    "import pickle\n",
    "import matplotlib.pyplot as plt\n",
    "import seaborn as sns\n",
    "%matplotlib inline\n",
    "color = sns.color_palette()\n",
    "sns.set_style(\"darkgrid\")"
   ]
  },
  {
   "cell_type": "code",
   "execution_count": 2,
   "metadata": {},
   "outputs": [],
   "source": [
    "def change_dtype(df):\n",
    "    df['timestamp'] = pd.to_datetime(df['timestamp'], format='%Y-%m-%d %H:%M:%S')\n",
    "    return df\n",
    "\n",
    "def reduce_mem_usage(df, verbose=True):\n",
    "    numerics = ['int16', 'int32', 'int64', 'float16', 'float32', 'float64']\n",
    "    start_mem = df.memory_usage().sum() / 1024**2    \n",
    "    for col in df.columns:\n",
    "        col_type = df[col].dtypes\n",
    "        if col_type in numerics:\n",
    "            c_min = df[col].min()\n",
    "            c_max = df[col].max()\n",
    "            if str(col_type)[:3] == 'int':\n",
    "                if c_min > np.iinfo(np.int8).min and c_max < np.iinfo(np.int8).max:\n",
    "                    df[col] = df[col].astype(np.int8)\n",
    "                elif c_min > np.iinfo(np.int16).min and c_max < np.iinfo(np.int16).max:\n",
    "                    df[col] = df[col].astype(np.int16)\n",
    "                elif c_min > np.iinfo(np.int32).min and c_max < np.iinfo(np.int32).max:\n",
    "                    df[col] = df[col].astype(np.int32)\n",
    "                elif c_min > np.iinfo(np.int64).min and c_max < np.iinfo(np.int64).max:\n",
    "                    df[col] = df[col].astype(np.int64)  \n",
    "            else:\n",
    "                if c_min > np.finfo(np.float16).min and c_max < np.finfo(np.float16).max:\n",
    "                    df[col] = df[col].astype(np.float16)\n",
    "                elif c_min > np.finfo(np.float32).min and c_max < np.finfo(np.float32).max:\n",
    "                    df[col] = df[col].astype(np.float32)\n",
    "                else:\n",
    "                    df[col] = df[col].astype(np.float64)    \n",
    "    end_mem = df.memory_usage().sum() / 1024**2\n",
    "    if verbose: print('Mem. usage decreased to {:5.2f} Mb ({:.1f}% reduction)'.format(end_mem, 100 * (start_mem - end_mem) / start_mem))\n",
    "    return df"
   ]
  },
  {
   "cell_type": "markdown",
   "metadata": {},
   "source": [
    "__Using UCF data for site_id 0__ \n",
    "\n",
    "Special thanks to <a href=\"https://www.kaggle.com/gunesevitan/ashrae-ucf-spider-and-eda-full-test-labels/data\"> Gunes</a> for this awesome work"
   ]
  },
  {
   "cell_type": "code",
   "execution_count": 3,
   "metadata": {},
   "outputs": [
    {
     "name": "stdout",
     "output_type": "stream",
     "text": [
      "2260080\n"
     ]
    }
   ],
   "source": [
    "# load site 0 data\n",
    "ext_df = pd.read_pickle('site0.pkl') \n",
    "ext_df['meter_reading'] = ext_df.meter_reading_scraped\n",
    "ext_df.drop(['meter_reading_original','meter_reading_scraped'], axis=1, inplace=True)\n",
    "ext_df.fillna(0, inplace=True)\n",
    "ext_df.loc[ext_df.meter_reading < 0, 'meter_reading'] = 0\n",
    "ext_df = ext_df[ext_df.timestamp.dt.year > 2016]\n",
    "print(len(ext_df))"
   ]
  },
  {
   "cell_type": "code",
   "execution_count": 4,
   "metadata": {},
   "outputs": [
    {
     "data": {
      "text/html": [
       "<div>\n",
       "<style scoped>\n",
       "    .dataframe tbody tr th:only-of-type {\n",
       "        vertical-align: middle;\n",
       "    }\n",
       "\n",
       "    .dataframe tbody tr th {\n",
       "        vertical-align: top;\n",
       "    }\n",
       "\n",
       "    .dataframe thead th {\n",
       "        text-align: right;\n",
       "    }\n",
       "</style>\n",
       "<table border=\"1\" class=\"dataframe\">\n",
       "  <thead>\n",
       "    <tr style=\"text-align: right;\">\n",
       "      <th></th>\n",
       "      <th>building_id</th>\n",
       "      <th>meter</th>\n",
       "      <th>timestamp</th>\n",
       "      <th>meter_reading</th>\n",
       "    </tr>\n",
       "  </thead>\n",
       "  <tbody>\n",
       "    <tr>\n",
       "      <th>3091348</th>\n",
       "      <td>81</td>\n",
       "      <td>0</td>\n",
       "      <td>2018-10-13 17:00:00</td>\n",
       "      <td>10.101891</td>\n",
       "    </tr>\n",
       "    <tr>\n",
       "      <th>1583714</th>\n",
       "      <td>69</td>\n",
       "      <td>0</td>\n",
       "      <td>2017-06-13 18:00:00</td>\n",
       "      <td>101.018910</td>\n",
       "    </tr>\n",
       "    <tr>\n",
       "      <th>2896674</th>\n",
       "      <td>71</td>\n",
       "      <td>0</td>\n",
       "      <td>2018-08-11 20:00:00</td>\n",
       "      <td>174.394134</td>\n",
       "    </tr>\n",
       "    <tr>\n",
       "      <th>2820961</th>\n",
       "      <td>77</td>\n",
       "      <td>0</td>\n",
       "      <td>2018-07-18 09:00:00</td>\n",
       "      <td>193.847096</td>\n",
       "    </tr>\n",
       "    <tr>\n",
       "      <th>1993385</th>\n",
       "      <td>40</td>\n",
       "      <td>0</td>\n",
       "      <td>2017-10-24 02:00:00</td>\n",
       "      <td>195.894778</td>\n",
       "    </tr>\n",
       "  </tbody>\n",
       "</table>\n",
       "</div>"
      ],
      "text/plain": [
       "         building_id  meter           timestamp  meter_reading\n",
       "3091348           81      0 2018-10-13 17:00:00      10.101891\n",
       "1583714           69      0 2017-06-13 18:00:00     101.018910\n",
       "2896674           71      0 2018-08-11 20:00:00     174.394134\n",
       "2820961           77      0 2018-07-18 09:00:00     193.847096\n",
       "1993385           40      0 2017-10-24 02:00:00     195.894778"
      ]
     },
     "execution_count": 4,
     "metadata": {},
     "output_type": "execute_result"
    }
   ],
   "source": [
    "ext_df.sample(5)"
   ]
  },
  {
   "cell_type": "code",
   "execution_count": 5,
   "metadata": {},
   "outputs": [],
   "source": [
    "df_build = pd.read_csv('building_metadata.csv')\n",
    "df_weather_train = pd.read_csv('weather_train.csv')\n",
    "df_train = pd.read_csv('train.csv')\n",
    "df_weather_test =  pd.read_csv('weather_test.csv')"
   ]
  },
  {
   "cell_type": "code",
   "execution_count": 6,
   "metadata": {},
   "outputs": [],
   "source": [
    "ucf_year = [2017, 2018] # ucf data year used in train\n",
    "#Deleting sioi 0 data for 2016\n",
    "bids = ext_df.building_id.unique()\n",
    "df_train = df_train[df_train.building_id.isin(bids) == False]\n",
    "\n",
    "ext_df = ext_df[ext_df.timestamp.dt.year.isin(ucf_year)]\n",
    "\n",
    "df_train = pd.concat([df_train, ext_df])\n",
    "df_train.reset_index(inplace=True)\n",
    "\n",
    "df_weather_train = pd.concat([df_weather_train, df_weather_test])\n",
    "df_weather_train.reset_index(inplace=True)"
   ]
  },
  {
   "cell_type": "code",
   "execution_count": 7,
   "metadata": {},
   "outputs": [
    {
     "data": {
      "text/plain": [
       "22"
      ]
     },
     "execution_count": 7,
     "metadata": {},
     "output_type": "execute_result"
    }
   ],
   "source": [
    "del df_weather_test, ext_df\n",
    "gc.collect()"
   ]
  },
  {
   "cell_type": "code",
   "execution_count": 8,
   "metadata": {},
   "outputs": [
    {
     "name": "stdout",
     "output_type": "stream",
     "text": [
      "Mem. usage decreased to 387.76 Mb (52.5% reduction)\n",
      "Mem. usage decreased to 10.74 Mb (66.2% reduction)\n",
      "Mem. usage decreased to  0.03 Mb (60.3% reduction)\n"
     ]
    },
    {
     "data": {
      "text/plain": [
       "22"
      ]
     },
     "execution_count": 8,
     "metadata": {},
     "output_type": "execute_result"
    }
   ],
   "source": [
    "df_train = change_dtype(df_train)\n",
    "df_weather_train = change_dtype(df_weather_train)\n",
    "\n",
    "df_train = reduce_mem_usage(df_train)\n",
    "df_weather_train = reduce_mem_usage(df_weather_train)\n",
    "df_build= reduce_mem_usage(df_build)\n",
    "\n",
    "gc.collect()"
   ]
  },
  {
   "cell_type": "code",
   "execution_count": 9,
   "metadata": {},
   "outputs": [],
   "source": [
    "df_train['date'] = df_train['timestamp'].dt.date\n",
    "df_train['meter_reading_log1p'] = np.log1p(df_train['meter_reading'])"
   ]
  },
  {
   "cell_type": "code",
   "execution_count": 10,
   "metadata": {},
   "outputs": [],
   "source": [
    "def plot_date_usage(train_df, meter=0, building_id=0):\n",
    "    fig = plt.figure(figsize=(16, 8))\n",
    "    train_temp_df = train_df[train_df['meter'] == meter]\n",
    "    train_temp_df = train_temp_df[train_temp_df['building_id'] == building_id]    \n",
    "    train_temp_df_meter = train_temp_df.groupby('date')['meter_reading_log1p'].sum()\n",
    "    train_temp_df_meter = train_temp_df_meter.to_frame().reset_index()\n",
    "    sns.lineplot(x=train_temp_df_meter['date'], y=train_temp_df_meter['meter_reading_log1p'])\n",
    "    plt.show()"
   ]
  },
  {
   "cell_type": "code",
   "execution_count": 11,
   "metadata": {},
   "outputs": [
    {
     "data": {
      "image/png": "[encoded data removed]",
      "text/plain": [
       "<Figure size 1152x576 with 1 Axes>"
      ]
     },
     "metadata": {
      "needs_background": "light"
     },
     "output_type": "display_data"
    }
   ],
   "source": [
    "plot_date_usage(df_train, meter=0, building_id=0)"
   ]
  },
  {
   "cell_type": "markdown",
   "metadata": {},
   "source": [
    "### Removing data of site 0 till 20th of May 2016 for electricity meter"
   ]
  },
  {
   "cell_type": "code",
   "execution_count": 12,
   "metadata": {},
   "outputs": [],
   "source": [
    "df_train = df_train.query('not (building_id <= 104 & meter == 0 & timestamp <= \"2016-05-20\")')"
   ]
  },
  {
   "cell_type": "markdown",
   "metadata": {},
   "source": [
    "__As we already know weather has lot's of NaNs, We will fill Nan using Interpolation__"
   ]
  },
  {
   "cell_type": "code",
   "execution_count": 3,
   "metadata": {},
   "outputs": [],
   "source": [
    "def fill_weather(df):\n",
    "    df = df.groupby('site_id').apply(lambda group: group.interpolate(limit_direction='both'))\n",
    "    return df"
   ]
  },
  {
   "cell_type": "code",
   "execution_count": 14,
   "metadata": {},
   "outputs": [],
   "source": [
    "df_weather_train = fill_weather(df_weather_train)"
   ]
  },
  {
   "cell_type": "code",
   "execution_count": 15,
   "metadata": {},
   "outputs": [
    {
     "data": {
      "text/html": [
       "<div>\n",
       "<style scoped>\n",
       "    .dataframe tbody tr th:only-of-type {\n",
       "        vertical-align: middle;\n",
       "    }\n",
       "\n",
       "    .dataframe tbody tr th {\n",
       "        vertical-align: top;\n",
       "    }\n",
       "\n",
       "    .dataframe thead th {\n",
       "        text-align: right;\n",
       "    }\n",
       "</style>\n",
       "<table border=\"1\" class=\"dataframe\">\n",
       "  <thead>\n",
       "    <tr style=\"text-align: right;\">\n",
       "      <th></th>\n",
       "      <th>index</th>\n",
       "      <th>site_id</th>\n",
       "      <th>timestamp</th>\n",
       "      <th>air_temperature</th>\n",
       "      <th>cloud_coverage</th>\n",
       "      <th>dew_temperature</th>\n",
       "      <th>precip_depth_1_hr</th>\n",
       "      <th>sea_level_pressure</th>\n",
       "      <th>wind_direction</th>\n",
       "      <th>wind_speed</th>\n",
       "    </tr>\n",
       "    <tr>\n",
       "      <th>site_id</th>\n",
       "      <th></th>\n",
       "      <th></th>\n",
       "      <th></th>\n",
       "      <th></th>\n",
       "      <th></th>\n",
       "      <th></th>\n",
       "      <th></th>\n",
       "      <th></th>\n",
       "      <th></th>\n",
       "      <th></th>\n",
       "    </tr>\n",
       "  </thead>\n",
       "  <tbody>\n",
       "    <tr>\n",
       "      <th>0</th>\n",
       "      <td>0</td>\n",
       "      <td>0</td>\n",
       "      <td>0</td>\n",
       "      <td>0</td>\n",
       "      <td>0</td>\n",
       "      <td>0</td>\n",
       "      <td>0</td>\n",
       "      <td>0</td>\n",
       "      <td>0</td>\n",
       "      <td>0</td>\n",
       "    </tr>\n",
       "    <tr>\n",
       "      <th>1</th>\n",
       "      <td>0</td>\n",
       "      <td>0</td>\n",
       "      <td>0</td>\n",
       "      <td>0</td>\n",
       "      <td>0</td>\n",
       "      <td>0</td>\n",
       "      <td>26050</td>\n",
       "      <td>0</td>\n",
       "      <td>0</td>\n",
       "      <td>0</td>\n",
       "    </tr>\n",
       "    <tr>\n",
       "      <th>2</th>\n",
       "      <td>0</td>\n",
       "      <td>0</td>\n",
       "      <td>0</td>\n",
       "      <td>0</td>\n",
       "      <td>0</td>\n",
       "      <td>0</td>\n",
       "      <td>0</td>\n",
       "      <td>0</td>\n",
       "      <td>0</td>\n",
       "      <td>0</td>\n",
       "    </tr>\n",
       "    <tr>\n",
       "      <th>3</th>\n",
       "      <td>0</td>\n",
       "      <td>0</td>\n",
       "      <td>0</td>\n",
       "      <td>0</td>\n",
       "      <td>0</td>\n",
       "      <td>0</td>\n",
       "      <td>0</td>\n",
       "      <td>0</td>\n",
       "      <td>0</td>\n",
       "      <td>0</td>\n",
       "    </tr>\n",
       "    <tr>\n",
       "      <th>4</th>\n",
       "      <td>0</td>\n",
       "      <td>0</td>\n",
       "      <td>0</td>\n",
       "      <td>0</td>\n",
       "      <td>0</td>\n",
       "      <td>0</td>\n",
       "      <td>0</td>\n",
       "      <td>0</td>\n",
       "      <td>0</td>\n",
       "      <td>0</td>\n",
       "    </tr>\n",
       "    <tr>\n",
       "      <th>5</th>\n",
       "      <td>0</td>\n",
       "      <td>0</td>\n",
       "      <td>0</td>\n",
       "      <td>0</td>\n",
       "      <td>0</td>\n",
       "      <td>0</td>\n",
       "      <td>25996</td>\n",
       "      <td>25996</td>\n",
       "      <td>0</td>\n",
       "      <td>0</td>\n",
       "    </tr>\n",
       "    <tr>\n",
       "      <th>6</th>\n",
       "      <td>0</td>\n",
       "      <td>0</td>\n",
       "      <td>0</td>\n",
       "      <td>0</td>\n",
       "      <td>0</td>\n",
       "      <td>0</td>\n",
       "      <td>0</td>\n",
       "      <td>0</td>\n",
       "      <td>0</td>\n",
       "      <td>0</td>\n",
       "    </tr>\n",
       "    <tr>\n",
       "      <th>7</th>\n",
       "      <td>0</td>\n",
       "      <td>0</td>\n",
       "      <td>0</td>\n",
       "      <td>0</td>\n",
       "      <td>25187</td>\n",
       "      <td>0</td>\n",
       "      <td>0</td>\n",
       "      <td>0</td>\n",
       "      <td>0</td>\n",
       "      <td>0</td>\n",
       "    </tr>\n",
       "    <tr>\n",
       "      <th>8</th>\n",
       "      <td>0</td>\n",
       "      <td>0</td>\n",
       "      <td>0</td>\n",
       "      <td>0</td>\n",
       "      <td>0</td>\n",
       "      <td>0</td>\n",
       "      <td>0</td>\n",
       "      <td>0</td>\n",
       "      <td>0</td>\n",
       "      <td>0</td>\n",
       "    </tr>\n",
       "    <tr>\n",
       "      <th>9</th>\n",
       "      <td>0</td>\n",
       "      <td>0</td>\n",
       "      <td>0</td>\n",
       "      <td>0</td>\n",
       "      <td>0</td>\n",
       "      <td>0</td>\n",
       "      <td>0</td>\n",
       "      <td>0</td>\n",
       "      <td>0</td>\n",
       "      <td>0</td>\n",
       "    </tr>\n",
       "    <tr>\n",
       "      <th>10</th>\n",
       "      <td>0</td>\n",
       "      <td>0</td>\n",
       "      <td>0</td>\n",
       "      <td>0</td>\n",
       "      <td>0</td>\n",
       "      <td>0</td>\n",
       "      <td>0</td>\n",
       "      <td>0</td>\n",
       "      <td>0</td>\n",
       "      <td>0</td>\n",
       "    </tr>\n",
       "    <tr>\n",
       "      <th>11</th>\n",
       "      <td>0</td>\n",
       "      <td>0</td>\n",
       "      <td>0</td>\n",
       "      <td>0</td>\n",
       "      <td>25187</td>\n",
       "      <td>0</td>\n",
       "      <td>0</td>\n",
       "      <td>0</td>\n",
       "      <td>0</td>\n",
       "      <td>0</td>\n",
       "    </tr>\n",
       "    <tr>\n",
       "      <th>12</th>\n",
       "      <td>0</td>\n",
       "      <td>0</td>\n",
       "      <td>0</td>\n",
       "      <td>0</td>\n",
       "      <td>0</td>\n",
       "      <td>0</td>\n",
       "      <td>26034</td>\n",
       "      <td>0</td>\n",
       "      <td>0</td>\n",
       "      <td>0</td>\n",
       "    </tr>\n",
       "    <tr>\n",
       "      <th>13</th>\n",
       "      <td>0</td>\n",
       "      <td>0</td>\n",
       "      <td>0</td>\n",
       "      <td>0</td>\n",
       "      <td>0</td>\n",
       "      <td>0</td>\n",
       "      <td>0</td>\n",
       "      <td>0</td>\n",
       "      <td>0</td>\n",
       "      <td>0</td>\n",
       "    </tr>\n",
       "    <tr>\n",
       "      <th>14</th>\n",
       "      <td>0</td>\n",
       "      <td>0</td>\n",
       "      <td>0</td>\n",
       "      <td>0</td>\n",
       "      <td>0</td>\n",
       "      <td>0</td>\n",
       "      <td>0</td>\n",
       "      <td>0</td>\n",
       "      <td>0</td>\n",
       "      <td>0</td>\n",
       "    </tr>\n",
       "    <tr>\n",
       "      <th>15</th>\n",
       "      <td>0</td>\n",
       "      <td>0</td>\n",
       "      <td>0</td>\n",
       "      <td>0</td>\n",
       "      <td>0</td>\n",
       "      <td>0</td>\n",
       "      <td>0</td>\n",
       "      <td>0</td>\n",
       "      <td>0</td>\n",
       "      <td>0</td>\n",
       "    </tr>\n",
       "  </tbody>\n",
       "</table>\n",
       "</div>"
      ],
      "text/plain": [
       "         index  site_id  timestamp  air_temperature  cloud_coverage  \\\n",
       "site_id                                                               \n",
       "0            0        0          0                0               0   \n",
       "1            0        0          0                0               0   \n",
       "2            0        0          0                0               0   \n",
       "3            0        0          0                0               0   \n",
       "4            0        0          0                0               0   \n",
       "5            0        0          0                0               0   \n",
       "6            0        0          0                0               0   \n",
       "7            0        0          0                0           25187   \n",
       "8            0        0          0                0               0   \n",
       "9            0        0          0                0               0   \n",
       "10           0        0          0                0               0   \n",
       "11           0        0          0                0           25187   \n",
       "12           0        0          0                0               0   \n",
       "13           0        0          0                0               0   \n",
       "14           0        0          0                0               0   \n",
       "15           0        0          0                0               0   \n",
       "\n",
       "         dew_temperature  precip_depth_1_hr  sea_level_pressure  \\\n",
       "site_id                                                           \n",
       "0                      0                  0                   0   \n",
       "1                      0              26050                   0   \n",
       "2                      0                  0                   0   \n",
       "3                      0                  0                   0   \n",
       "4                      0                  0                   0   \n",
       "5                      0              25996               25996   \n",
       "6                      0                  0                   0   \n",
       "7                      0                  0                   0   \n",
       "8                      0                  0                   0   \n",
       "9                      0                  0                   0   \n",
       "10                     0                  0                   0   \n",
       "11                     0                  0                   0   \n",
       "12                     0              26034                   0   \n",
       "13                     0                  0                   0   \n",
       "14                     0                  0                   0   \n",
       "15                     0                  0                   0   \n",
       "\n",
       "         wind_direction  wind_speed  \n",
       "site_id                              \n",
       "0                     0           0  \n",
       "1                     0           0  \n",
       "2                     0           0  \n",
       "3                     0           0  \n",
       "4                     0           0  \n",
       "5                     0           0  \n",
       "6                     0           0  \n",
       "7                     0           0  \n",
       "8                     0           0  \n",
       "9                     0           0  \n",
       "10                    0           0  \n",
       "11                    0           0  \n",
       "12                    0           0  \n",
       "13                    0           0  \n",
       "14                    0           0  \n",
       "15                    0           0  "
      ]
     },
     "execution_count": 15,
     "metadata": {},
     "output_type": "execute_result"
    }
   ],
   "source": [
    "df_weather_train.groupby('site_id').apply(lambda group: group.isna().sum())"
   ]
  },
  {
   "cell_type": "markdown",
   "metadata": {},
   "source": [
    "We can see that some sites dosen't have any information for some of the features hence we are still getting NaNs"
   ]
  },
  {
   "cell_type": "code",
   "execution_count": 4,
   "metadata": {},
   "outputs": [],
   "source": [
    "def pre_preprocess_data(df, test=False):\n",
    "    \n",
    "    \"\"\"\n",
    "    Preparing final dataset with all features.\n",
    "    \"\"\"\n",
    "#     df.square_feet = np.log1p(df.square_feet)\n",
    "    \n",
    "    if not test:\n",
    "        df.sort_values(\"timestamp\", inplace=True)\n",
    "        df.reset_index(drop=True, inplace=True)\n",
    "    \n",
    "#     holidays = [\"2016-01-01\", \"2016-01-18\", \"2016-02-15\", \"2016-05-30\", \"2016-07-04\",\n",
    "#                 \"2016-09-05\", \"2016-10-10\", \"2016-11-11\", \"2016-11-24\", \"2016-12-26\",\n",
    "#                 \"2017-01-01\", \"2017-01-16\", \"2017-02-20\", \"2017-05-29\", \"2017-07-04\",\n",
    "#                 \"2017-09-04\", \"2017-10-09\", \"2017-11-10\", \"2017-11-23\", \"2017-12-25\",\n",
    "#                 \"2018-01-01\", \"2018-01-15\", \"2018-02-19\", \"2018-05-28\", \"2018-07-04\",\n",
    "#                 \"2018-09-03\", \"2018-10-08\", \"2018-11-12\", \"2018-11-22\", \"2018-12-25\",\n",
    "#                 \"2019-01-01\"]\n",
    "    \n",
    "    df[\"hour\"] = df[\"timestamp\"].dt.hour\n",
    "    df[\"weekend\"] = df[\"timestamp\"].dt.weekday\n",
    "    df[\"month\"] = df[\"timestamp\"].dt.month\n",
    "    df[\"dayofweek\"] = df[\"timestamp\"].dt.dayofweek\n",
    "#     df[\"is_holiday\"] = (df.timestamp.dt.date.astype(\"str\").isin(holidays)).astype(int)\n",
    "\n",
    "    df_group = df.groupby('building_id')['meter_reading_log1p']\n",
    "    building_median = df_group.median().astype(np.float16)\n",
    "    df['building_median'] = df['building_id'].map(building_median)\n",
    "    \n",
    "    del df_group\n",
    "    gc.collect()\n",
    "\n",
    "    return df, building_median"
   ]
  },
  {
   "cell_type": "code",
   "execution_count": 17,
   "metadata": {},
   "outputs": [],
   "source": [
    "df_train, building_median = pre_preprocess_data(df_train)"
   ]
  },
  {
   "cell_type": "code",
   "execution_count": 18,
   "metadata": {},
   "outputs": [],
   "source": [
    "picfile = open('buildings.pkl', 'wb')\n",
    "pickle.dump(building_median, picfile)\n",
    "picfile.close()"
   ]
  },
  {
   "cell_type": "code",
   "execution_count": 19,
   "metadata": {},
   "outputs": [
    {
     "data": {
      "text/html": [
       "<div>\n",
       "<style scoped>\n",
       "    .dataframe tbody tr th:only-of-type {\n",
       "        vertical-align: middle;\n",
       "    }\n",
       "\n",
       "    .dataframe tbody tr th {\n",
       "        vertical-align: top;\n",
       "    }\n",
       "\n",
       "    .dataframe thead th {\n",
       "        text-align: right;\n",
       "    }\n",
       "</style>\n",
       "<table border=\"1\" class=\"dataframe\">\n",
       "  <thead>\n",
       "    <tr style=\"text-align: right;\">\n",
       "      <th></th>\n",
       "      <th>index</th>\n",
       "      <th>building_id</th>\n",
       "      <th>meter</th>\n",
       "      <th>timestamp</th>\n",
       "      <th>meter_reading</th>\n",
       "      <th>date</th>\n",
       "      <th>meter_reading_log1p</th>\n",
       "      <th>hour</th>\n",
       "      <th>weekend</th>\n",
       "      <th>month</th>\n",
       "      <th>dayofweek</th>\n",
       "      <th>building_median</th>\n",
       "    </tr>\n",
       "  </thead>\n",
       "  <tbody>\n",
       "    <tr>\n",
       "      <th>0</th>\n",
       "      <td>103</td>\n",
       "      <td>105</td>\n",
       "      <td>0</td>\n",
       "      <td>2016-01-01</td>\n",
       "      <td>23.303600</td>\n",
       "      <td>2016-01-01</td>\n",
       "      <td>3.190624</td>\n",
       "      <td>0</td>\n",
       "      <td>4</td>\n",
       "      <td>1</td>\n",
       "      <td>4</td>\n",
       "      <td>4.332031</td>\n",
       "    </tr>\n",
       "    <tr>\n",
       "      <th>1</th>\n",
       "      <td>1577</td>\n",
       "      <td>1123</td>\n",
       "      <td>0</td>\n",
       "      <td>2016-01-01</td>\n",
       "      <td>27.444000</td>\n",
       "      <td>2016-01-01</td>\n",
       "      <td>3.347937</td>\n",
       "      <td>0</td>\n",
       "      <td>4</td>\n",
       "      <td>1</td>\n",
       "      <td>4</td>\n",
       "      <td>3.533203</td>\n",
       "    </tr>\n",
       "    <tr>\n",
       "      <th>2</th>\n",
       "      <td>1576</td>\n",
       "      <td>1122</td>\n",
       "      <td>1</td>\n",
       "      <td>2016-01-01</td>\n",
       "      <td>0.000000</td>\n",
       "      <td>2016-01-01</td>\n",
       "      <td>0.000000</td>\n",
       "      <td>0</td>\n",
       "      <td>4</td>\n",
       "      <td>1</td>\n",
       "      <td>4</td>\n",
       "      <td>4.144531</td>\n",
       "    </tr>\n",
       "    <tr>\n",
       "      <th>3</th>\n",
       "      <td>1575</td>\n",
       "      <td>1122</td>\n",
       "      <td>0</td>\n",
       "      <td>2016-01-01</td>\n",
       "      <td>70.580002</td>\n",
       "      <td>2016-01-01</td>\n",
       "      <td>4.270816</td>\n",
       "      <td>0</td>\n",
       "      <td>4</td>\n",
       "      <td>1</td>\n",
       "      <td>4</td>\n",
       "      <td>4.144531</td>\n",
       "    </tr>\n",
       "    <tr>\n",
       "      <th>4</th>\n",
       "      <td>1574</td>\n",
       "      <td>1121</td>\n",
       "      <td>2</td>\n",
       "      <td>2016-01-01</td>\n",
       "      <td>1570.310059</td>\n",
       "      <td>2016-01-01</td>\n",
       "      <td>7.359665</td>\n",
       "      <td>0</td>\n",
       "      <td>4</td>\n",
       "      <td>1</td>\n",
       "      <td>4</td>\n",
       "      <td>5.101562</td>\n",
       "    </tr>\n",
       "  </tbody>\n",
       "</table>\n",
       "</div>"
      ],
      "text/plain": [
       "   index  building_id  meter  timestamp  meter_reading        date  \\\n",
       "0    103          105      0 2016-01-01      23.303600  2016-01-01   \n",
       "1   1577         1123      0 2016-01-01      27.444000  2016-01-01   \n",
       "2   1576         1122      1 2016-01-01       0.000000  2016-01-01   \n",
       "3   1575         1122      0 2016-01-01      70.580002  2016-01-01   \n",
       "4   1574         1121      2 2016-01-01    1570.310059  2016-01-01   \n",
       "\n",
       "   meter_reading_log1p  hour  weekend  month  dayofweek  building_median  \n",
       "0             3.190624     0        4      1          4         4.332031  \n",
       "1             3.347937     0        4      1          4         3.533203  \n",
       "2             0.000000     0        4      1          4         4.144531  \n",
       "3             4.270816     0        4      1          4         4.144531  \n",
       "4             7.359665     0        4      1          4         5.101562  "
      ]
     },
     "execution_count": 19,
     "metadata": {},
     "output_type": "execute_result"
    }
   ],
   "source": [
    "df_train.head()"
   ]
  },
  {
   "cell_type": "code",
   "execution_count": 5,
   "metadata": {},
   "outputs": [],
   "source": [
    "category_cols = ['building_id', 'site_id', 'primary_use']\n",
    "feature_cols = ['square_feet'] + [\n",
    "    'hour', 'weekend',\n",
    "    'building_median'] + [\n",
    "    'air_temperature', 'cloud_coverage',\n",
    "    'dew_temperature', 'precip_depth_1_hr', 'sea_level_pressure',\n",
    "    'wind_direction', 'wind_speed']"
   ]
  },
  {
   "cell_type": "code",
   "execution_count": 6,
   "metadata": {},
   "outputs": [],
   "source": [
    "from sklearn.preprocessing import LabelEncoder"
   ]
  },
  {
   "cell_type": "code",
   "execution_count": 22,
   "metadata": {},
   "outputs": [],
   "source": [
    "le = LabelEncoder()\n",
    "df_build.primary_use = le.fit_transform(df_build.primary_use)"
   ]
  },
  {
   "cell_type": "code",
   "execution_count": 23,
   "metadata": {},
   "outputs": [],
   "source": [
    "def create_X_y(train_df):\n",
    "    \n",
    "    target_train_df = train_df\n",
    "    target_train_df = target_train_df.merge(df_build, on='building_id', how='left')\n",
    "    target_train_df = target_train_df.merge(df_weather_train, on=['site_id', 'timestamp'], how='left')\n",
    "    target_train_df.square_feet = np.log1p(target_train_df.square_feet)\n",
    "    \n",
    "    X_train = target_train_df[feature_cols + category_cols]\n",
    "    y_train = target_train_df['meter_reading_log1p'].values\n",
    "    \n",
    "    del target_train_df\n",
    "    gc.collect()\n",
    "    return X_train, y_train"
   ]
  },
  {
   "cell_type": "code",
   "execution_count": 24,
   "metadata": {},
   "outputs": [],
   "source": [
    "X, y = create_X_y(df_train)"
   ]
  },
  {
   "cell_type": "code",
   "execution_count": 25,
   "metadata": {},
   "outputs": [],
   "source": [
    "# X.drop('year_built', inplace=True, axis=1)"
   ]
  },
  {
   "cell_type": "code",
   "execution_count": 26,
   "metadata": {},
   "outputs": [
    {
     "data": {
      "text/html": [
       "<div>\n",
       "<style scoped>\n",
       "    .dataframe tbody tr th:only-of-type {\n",
       "        vertical-align: middle;\n",
       "    }\n",
       "\n",
       "    .dataframe tbody tr th {\n",
       "        vertical-align: top;\n",
       "    }\n",
       "\n",
       "    .dataframe thead th {\n",
       "        text-align: right;\n",
       "    }\n",
       "</style>\n",
       "<table border=\"1\" class=\"dataframe\">\n",
       "  <thead>\n",
       "    <tr style=\"text-align: right;\">\n",
       "      <th></th>\n",
       "      <th>square_feet</th>\n",
       "      <th>hour</th>\n",
       "      <th>weekend</th>\n",
       "      <th>building_median</th>\n",
       "      <th>air_temperature</th>\n",
       "      <th>cloud_coverage</th>\n",
       "      <th>dew_temperature</th>\n",
       "      <th>precip_depth_1_hr</th>\n",
       "      <th>sea_level_pressure</th>\n",
       "      <th>wind_direction</th>\n",
       "      <th>wind_speed</th>\n",
       "      <th>building_id</th>\n",
       "      <th>site_id</th>\n",
       "      <th>primary_use</th>\n",
       "    </tr>\n",
       "  </thead>\n",
       "  <tbody>\n",
       "    <tr>\n",
       "      <th>0</th>\n",
       "      <td>10.832181</td>\n",
       "      <td>0</td>\n",
       "      <td>4</td>\n",
       "      <td>4.332031</td>\n",
       "      <td>3.800781</td>\n",
       "      <td>0.0</td>\n",
       "      <td>2.400391</td>\n",
       "      <td>NaN</td>\n",
       "      <td>1021.0</td>\n",
       "      <td>240.0</td>\n",
       "      <td>3.099609</td>\n",
       "      <td>105</td>\n",
       "      <td>1</td>\n",
       "      <td>0</td>\n",
       "    </tr>\n",
       "    <tr>\n",
       "      <th>1</th>\n",
       "      <td>11.440301</td>\n",
       "      <td>0</td>\n",
       "      <td>4</td>\n",
       "      <td>3.533203</td>\n",
       "      <td>-8.296875</td>\n",
       "      <td>8.0</td>\n",
       "      <td>-12.203125</td>\n",
       "      <td>-1.0</td>\n",
       "      <td>1023.5</td>\n",
       "      <td>250.0</td>\n",
       "      <td>4.101562</td>\n",
       "      <td>1123</td>\n",
       "      <td>13</td>\n",
       "      <td>6</td>\n",
       "    </tr>\n",
       "    <tr>\n",
       "      <th>2</th>\n",
       "      <td>11.342920</td>\n",
       "      <td>0</td>\n",
       "      <td>4</td>\n",
       "      <td>4.144531</td>\n",
       "      <td>-8.296875</td>\n",
       "      <td>8.0</td>\n",
       "      <td>-12.203125</td>\n",
       "      <td>-1.0</td>\n",
       "      <td>1023.5</td>\n",
       "      <td>250.0</td>\n",
       "      <td>4.101562</td>\n",
       "      <td>1122</td>\n",
       "      <td>13</td>\n",
       "      <td>6</td>\n",
       "    </tr>\n",
       "    <tr>\n",
       "      <th>3</th>\n",
       "      <td>11.342920</td>\n",
       "      <td>0</td>\n",
       "      <td>4</td>\n",
       "      <td>4.144531</td>\n",
       "      <td>-8.296875</td>\n",
       "      <td>8.0</td>\n",
       "      <td>-12.203125</td>\n",
       "      <td>-1.0</td>\n",
       "      <td>1023.5</td>\n",
       "      <td>250.0</td>\n",
       "      <td>4.101562</td>\n",
       "      <td>1122</td>\n",
       "      <td>13</td>\n",
       "      <td>6</td>\n",
       "    </tr>\n",
       "    <tr>\n",
       "      <th>4</th>\n",
       "      <td>11.358993</td>\n",
       "      <td>0</td>\n",
       "      <td>4</td>\n",
       "      <td>5.101562</td>\n",
       "      <td>-8.296875</td>\n",
       "      <td>8.0</td>\n",
       "      <td>-12.203125</td>\n",
       "      <td>-1.0</td>\n",
       "      <td>1023.5</td>\n",
       "      <td>250.0</td>\n",
       "      <td>4.101562</td>\n",
       "      <td>1121</td>\n",
       "      <td>13</td>\n",
       "      <td>0</td>\n",
       "    </tr>\n",
       "  </tbody>\n",
       "</table>\n",
       "</div>"
      ],
      "text/plain": [
       "   square_feet  hour  weekend  building_median  air_temperature  \\\n",
       "0    10.832181     0        4         4.332031         3.800781   \n",
       "1    11.440301     0        4         3.533203        -8.296875   \n",
       "2    11.342920     0        4         4.144531        -8.296875   \n",
       "3    11.342920     0        4         4.144531        -8.296875   \n",
       "4    11.358993     0        4         5.101562        -8.296875   \n",
       "\n",
       "   cloud_coverage  dew_temperature  precip_depth_1_hr  sea_level_pressure  \\\n",
       "0             0.0         2.400391                NaN              1021.0   \n",
       "1             8.0       -12.203125               -1.0              1023.5   \n",
       "2             8.0       -12.203125               -1.0              1023.5   \n",
       "3             8.0       -12.203125               -1.0              1023.5   \n",
       "4             8.0       -12.203125               -1.0              1023.5   \n",
       "\n",
       "   wind_direction  wind_speed  building_id  site_id  primary_use  \n",
       "0           240.0    3.099609          105        1            0  \n",
       "1           250.0    4.101562         1123       13            6  \n",
       "2           250.0    4.101562         1122       13            6  \n",
       "3           250.0    4.101562         1122       13            6  \n",
       "4           250.0    4.101562         1121       13            0  "
      ]
     },
     "execution_count": 26,
     "metadata": {},
     "output_type": "execute_result"
    }
   ],
   "source": [
    "X.head()"
   ]
  },
  {
   "cell_type": "code",
   "execution_count": 27,
   "metadata": {},
   "outputs": [],
   "source": [
    "X_1st_half =  X[:int(X.shape[0] / 2)]\n",
    "X_2nd_half =  X[int(X.shape[0] / 2):]\n",
    "\n",
    "y_1st_half = y[:int(X.shape[0] / 2)]\n",
    "y_2nd_half = y[int(X.shape[0] / 2):]"
   ]
  },
  {
   "cell_type": "code",
   "execution_count": 28,
   "metadata": {},
   "outputs": [
    {
     "data": {
      "text/plain": [
       "88"
      ]
     },
     "execution_count": 28,
     "metadata": {},
     "output_type": "execute_result"
    }
   ],
   "source": [
    "del X, y\n",
    "gc.collect()"
   ]
  },
  {
   "cell_type": "code",
   "execution_count": 7,
   "metadata": {},
   "outputs": [],
   "source": [
    "import lightgbm as lgb\n",
    "import random\n",
    "from sklearn.metrics import mean_squared_error\n",
    "from sklearn.model_selection import KFold\n",
    "random.seed(12)"
   ]
  },
  {
   "cell_type": "code",
   "execution_count": 30,
   "metadata": {},
   "outputs": [],
   "source": [
    "def fit_lgbm(train, val, devices=(-1,), seed=None, cat_features=None, num_rounds=1500, lr=0.1, bf=0.1):\n",
    "    \"\"\"Train Light GBM model\"\"\"\n",
    "    X_train, y_train = train\n",
    "    X_valid, y_valid = val\n",
    "    metric = 'l2'\n",
    "    params = {'num_leaves': 31,\n",
    "              'objective': 'regression',\n",
    "              'learning_rate': lr,\n",
    "              \"boosting\": \"gbdt\",\n",
    "              \"bagging_freq\": 5,\n",
    "              \"bagging_fraction\": bf,\n",
    "              \"feature_fraction\": 0.9,\n",
    "              \"metric\": metric,\n",
    "              }\n",
    "    device = devices[0]\n",
    "    if device == -1:\n",
    "        # use cpu\n",
    "        pass\n",
    "    else:\n",
    "        # use gpu\n",
    "        print(f'using gpu device_id {device}...')\n",
    "        params.update({'device': 'gpu', 'gpu_device_id': device})\n",
    "\n",
    "    params['seed'] = seed\n",
    "\n",
    "    early_stop = 20\n",
    "    verbose_eval = 20\n",
    "\n",
    "    d_train = lgb.Dataset(X_train, label=y_train, categorical_feature=cat_features)\n",
    "    d_valid = lgb.Dataset(X_valid, label=y_valid, categorical_feature=cat_features)\n",
    "    watchlist = [d_train, d_valid]\n",
    "\n",
    "    print('training LGB:')\n",
    "    model = lgb.train(params,\n",
    "                      train_set=d_train,\n",
    "                      num_boost_round=num_rounds,\n",
    "                      valid_sets=watchlist,\n",
    "                      verbose_eval=verbose_eval,\n",
    "                      early_stopping_rounds=early_stop)\n",
    "\n",
    "    # predictions\n",
    "    y_pred_valid = model.predict(X_valid, num_iteration=model.best_iteration)\n",
    "    \n",
    "    print('best_score', model.best_score)\n",
    "    log = {'train/mae': model.best_score['training']['l2'],\n",
    "           'valid/mae': model.best_score['valid_1']['l2']}\n",
    "    return model, y_pred_valid, log"
   ]
  },
  {
   "cell_type": "code",
   "execution_count": 31,
   "metadata": {},
   "outputs": [],
   "source": [
    "folds = 5\n",
    "num_rounds=2000\n",
    "seed = 666\n",
    "shuffle = False\n",
    "kf = KFold(n_splits=folds, shuffle=shuffle, random_state=seed)\n",
    "oof_total = 0"
   ]
  },
  {
   "cell_type": "markdown",
   "metadata": {},
   "source": [
    "### Traning Model for First Half of the Dataset"
   ]
  },
  {
   "cell_type": "code",
   "execution_count": 32,
   "metadata": {},
   "outputs": [
    {
     "name": "stdout",
     "output_type": "stream",
     "text": [
      "1st of the data (10699759, 14)\n",
      "cat_features [11, 12, 13]\n",
      "train 8559807 valid 2139952\n",
      "training LGB:\n",
      "Training until validation scores don't improve for 20 rounds\n",
      "[20]\ttraining's l2: 2.50464\tvalid_1's l2: 3.02355\n",
      "[40]\ttraining's l2: 2.22549\tvalid_1's l2: 2.79985\n",
      "[60]\ttraining's l2: 2.15339\tvalid_1's l2: 2.74693\n",
      "[80]\ttraining's l2: 2.1049\tvalid_1's l2: 2.70395\n",
      "[100]\ttraining's l2: 2.05993\tvalid_1's l2: 2.63853\n",
      "[120]\ttraining's l2: 2.03123\tvalid_1's l2: 2.60463\n",
      "[140]\ttraining's l2: 2.01278\tvalid_1's l2: 2.58871\n",
      "[160]\ttraining's l2: 1.99761\tvalid_1's l2: 2.56961\n",
      "[180]\ttraining's l2: 1.98539\tvalid_1's l2: 2.5567\n",
      "[200]\ttraining's l2: 1.97584\tvalid_1's l2: 2.55072\n",
      "[220]\ttraining's l2: 1.9677\tvalid_1's l2: 2.54434\n",
      "[240]\ttraining's l2: 1.96105\tvalid_1's l2: 2.54276\n",
      "[260]\ttraining's l2: 1.95528\tvalid_1's l2: 2.53888\n",
      "[280]\ttraining's l2: 1.9498\tvalid_1's l2: 2.53515\n",
      "[300]\ttraining's l2: 1.94669\tvalid_1's l2: 2.53479\n",
      "[320]\ttraining's l2: 1.94304\tvalid_1's l2: 2.53246\n",
      "[340]\ttraining's l2: 1.9396\tvalid_1's l2: 2.53105\n",
      "[360]\ttraining's l2: 1.93661\tvalid_1's l2: 2.53094\n",
      "[380]\ttraining's l2: 1.93394\tvalid_1's l2: 2.53005\n",
      "[400]\ttraining's l2: 1.93084\tvalid_1's l2: 2.52931\n",
      "[420]\ttraining's l2: 1.92745\tvalid_1's l2: 2.52889\n",
      "[440]\ttraining's l2: 1.92577\tvalid_1's l2: 2.52759\n",
      "[460]\ttraining's l2: 1.92376\tvalid_1's l2: 2.5272\n",
      "[480]\ttraining's l2: 1.92175\tvalid_1's l2: 2.52663\n",
      "[500]\ttraining's l2: 1.92023\tvalid_1's l2: 2.52637\n",
      "[520]\ttraining's l2: 1.91832\tvalid_1's l2: 2.52593\n",
      "[540]\ttraining's l2: 1.91698\tvalid_1's l2: 2.52557\n",
      "[560]\ttraining's l2: 1.9151\tvalid_1's l2: 2.52473\n",
      "[580]\ttraining's l2: 1.91387\tvalid_1's l2: 2.52398\n",
      "[600]\ttraining's l2: 1.91233\tvalid_1's l2: 2.5231\n",
      "[620]\ttraining's l2: 1.91088\tvalid_1's l2: 2.52293\n",
      "[640]\ttraining's l2: 1.90955\tvalid_1's l2: 2.52275\n",
      "[660]\ttraining's l2: 1.90871\tvalid_1's l2: 2.52212\n",
      "[680]\ttraining's l2: 1.90776\tvalid_1's l2: 2.52189\n",
      "[700]\ttraining's l2: 1.9059\tvalid_1's l2: 2.52164\n",
      "[720]\ttraining's l2: 1.90426\tvalid_1's l2: 2.52103\n",
      "[740]\ttraining's l2: 1.90274\tvalid_1's l2: 2.52071\n",
      "[760]\ttraining's l2: 1.90098\tvalid_1's l2: 2.52039\n",
      "[780]\ttraining's l2: 1.90004\tvalid_1's l2: 2.52039\n",
      "[800]\ttraining's l2: 1.89939\tvalid_1's l2: 2.52004\n",
      "[820]\ttraining's l2: 1.89803\tvalid_1's l2: 2.51974\n",
      "[840]\ttraining's l2: 1.8971\tvalid_1's l2: 2.51962\n",
      "[860]\ttraining's l2: 1.8963\tvalid_1's l2: 2.51906\n",
      "[880]\ttraining's l2: 1.89519\tvalid_1's l2: 2.51879\n",
      "[900]\ttraining's l2: 1.89444\tvalid_1's l2: 2.51877\n",
      "[920]\ttraining's l2: 1.89353\tvalid_1's l2: 2.51825\n",
      "[940]\ttraining's l2: 1.89273\tvalid_1's l2: 2.51811\n",
      "[960]\ttraining's l2: 1.8919\tvalid_1's l2: 2.51788\n",
      "[980]\ttraining's l2: 1.89114\tvalid_1's l2: 2.51768\n",
      "[1000]\ttraining's l2: 1.89046\tvalid_1's l2: 2.51752\n",
      "Early stopping, best iteration is:\n",
      "[995]\ttraining's l2: 1.89062\tvalid_1's l2: 2.51743\n",
      "best_score defaultdict(<class 'collections.OrderedDict'>, {'training': OrderedDict([('l2', 1.8906244809085568)]), 'valid_1': OrderedDict([('l2', 2.5174303601099206)])})\n",
      "train 8559807 valid 2139952\n",
      "training LGB:\n",
      "Training until validation scores don't improve for 20 rounds\n",
      "[20]\ttraining's l2: 2.59756\tvalid_1's l2: 2.65937\n",
      "[40]\ttraining's l2: 2.31813\tvalid_1's l2: 2.39008\n",
      "[60]\ttraining's l2: 2.24595\tvalid_1's l2: 2.32635\n",
      "[80]\ttraining's l2: 2.19092\tvalid_1's l2: 2.28738\n",
      "[100]\ttraining's l2: 2.1425\tvalid_1's l2: 2.25282\n",
      "[120]\ttraining's l2: 2.10949\tvalid_1's l2: 2.23275\n",
      "[140]\ttraining's l2: 2.08685\tvalid_1's l2: 2.22132\n",
      "[160]\ttraining's l2: 2.07068\tvalid_1's l2: 2.21345\n",
      "[180]\ttraining's l2: 2.0581\tvalid_1's l2: 2.20882\n",
      "[200]\ttraining's l2: 2.04791\tvalid_1's l2: 2.20699\n",
      "[220]\ttraining's l2: 2.03848\tvalid_1's l2: 2.20422\n",
      "[240]\ttraining's l2: 2.03221\tvalid_1's l2: 2.20223\n",
      "[260]\ttraining's l2: 2.02682\tvalid_1's l2: 2.20073\n",
      "[280]\ttraining's l2: 2.0227\tvalid_1's l2: 2.1988\n",
      "[300]\ttraining's l2: 2.01718\tvalid_1's l2: 2.19787\n",
      "[320]\ttraining's l2: 2.013\tvalid_1's l2: 2.19729\n",
      "[340]\ttraining's l2: 2.00971\tvalid_1's l2: 2.19654\n",
      "[360]\ttraining's l2: 2.00604\tvalid_1's l2: 2.19562\n",
      "[380]\ttraining's l2: 2.00154\tvalid_1's l2: 2.19467\n",
      "[400]\ttraining's l2: 1.99837\tvalid_1's l2: 2.19417\n",
      "[420]\ttraining's l2: 1.99626\tvalid_1's l2: 2.19358\n",
      "[440]\ttraining's l2: 1.99454\tvalid_1's l2: 2.19305\n",
      "[460]\ttraining's l2: 1.99224\tvalid_1's l2: 2.19224\n",
      "[480]\ttraining's l2: 1.98964\tvalid_1's l2: 2.19196\n",
      "[500]\ttraining's l2: 1.98756\tvalid_1's l2: 2.19202\n",
      "[520]\ttraining's l2: 1.98539\tvalid_1's l2: 2.19144\n",
      "[540]\ttraining's l2: 1.98321\tvalid_1's l2: 2.19167\n",
      "Early stopping, best iteration is:\n",
      "[532]\ttraining's l2: 1.98449\tvalid_1's l2: 2.19098\n",
      "best_score defaultdict(<class 'collections.OrderedDict'>, {'training': OrderedDict([('l2', 1.984487477757863)]), 'valid_1': OrderedDict([('l2', 2.190975526169635)])})\n",
      "train 8559807 valid 2139952\n",
      "training LGB:\n",
      "Training until validation scores don't improve for 20 rounds\n",
      "[20]\ttraining's l2: 2.63857\tvalid_1's l2: 2.49169\n",
      "[40]\ttraining's l2: 2.35771\tvalid_1's l2: 2.21137\n",
      "[60]\ttraining's l2: 2.27856\tvalid_1's l2: 2.14913\n",
      "[80]\ttraining's l2: 2.21795\tvalid_1's l2: 2.12211\n",
      "[100]\ttraining's l2: 2.17102\tvalid_1's l2: 2.10484\n",
      "[120]\ttraining's l2: 2.13928\tvalid_1's l2: 2.09511\n",
      "[140]\ttraining's l2: 2.11667\tvalid_1's l2: 2.09039\n",
      "[160]\ttraining's l2: 2.10202\tvalid_1's l2: 2.08578\n",
      "[180]\ttraining's l2: 2.08983\tvalid_1's l2: 2.08182\n",
      "[200]\ttraining's l2: 2.07988\tvalid_1's l2: 2.08078\n",
      "[220]\ttraining's l2: 2.0712\tvalid_1's l2: 2.07809\n",
      "[240]\ttraining's l2: 2.06022\tvalid_1's l2: 2.07689\n",
      "[260]\ttraining's l2: 2.05432\tvalid_1's l2: 2.07556\n",
      "[280]\ttraining's l2: 2.04837\tvalid_1's l2: 2.07438\n",
      "[300]\ttraining's l2: 2.04246\tvalid_1's l2: 2.07203\n",
      "[320]\ttraining's l2: 2.03734\tvalid_1's l2: 2.07067\n",
      "[340]\ttraining's l2: 2.0342\tvalid_1's l2: 2.06969\n",
      "[360]\ttraining's l2: 2.03073\tvalid_1's l2: 2.0686\n",
      "[380]\ttraining's l2: 2.02488\tvalid_1's l2: 2.06936\n",
      "Early stopping, best iteration is:\n",
      "[366]\ttraining's l2: 2.02892\tvalid_1's l2: 2.06826\n",
      "best_score defaultdict(<class 'collections.OrderedDict'>, {'training': OrderedDict([('l2', 2.0289200699701198)]), 'valid_1': OrderedDict([('l2', 2.0682620702446712)])})\n",
      "train 8559807 valid 2139952\n",
      "training LGB:\n",
      "Training until validation scores don't improve for 20 rounds\n",
      "[20]\ttraining's l2: 2.6575\tvalid_1's l2: 2.38661\n",
      "[40]\ttraining's l2: 2.3695\tvalid_1's l2: 2.11121\n",
      "[60]\ttraining's l2: 2.29237\tvalid_1's l2: 2.04444\n",
      "[80]\ttraining's l2: 2.23925\tvalid_1's l2: 2.00494\n",
      "[100]\ttraining's l2: 2.19821\tvalid_1's l2: 1.97776\n",
      "[120]\ttraining's l2: 2.17123\tvalid_1's l2: 1.96141\n",
      "[140]\ttraining's l2: 2.15064\tvalid_1's l2: 1.953\n",
      "[160]\ttraining's l2: 2.13577\tvalid_1's l2: 1.94564\n",
      "[180]\ttraining's l2: 2.12452\tvalid_1's l2: 1.94008\n",
      "[200]\ttraining's l2: 2.1125\tvalid_1's l2: 1.93869\n",
      "[220]\ttraining's l2: 2.10538\tvalid_1's l2: 1.93367\n",
      "[240]\ttraining's l2: 2.09786\tvalid_1's l2: 1.93137\n",
      "[260]\ttraining's l2: 2.09304\tvalid_1's l2: 1.9285\n",
      "[280]\ttraining's l2: 2.08762\tvalid_1's l2: 1.92636\n",
      "[300]\ttraining's l2: 2.0839\tvalid_1's l2: 1.92565\n",
      "[320]\ttraining's l2: 2.07886\tvalid_1's l2: 1.92499\n",
      "[340]\ttraining's l2: 2.07645\tvalid_1's l2: 1.92467\n",
      "[360]\ttraining's l2: 2.07371\tvalid_1's l2: 1.92292\n",
      "[380]\ttraining's l2: 2.06865\tvalid_1's l2: 1.92423\n",
      "Early stopping, best iteration is:\n",
      "[360]\ttraining's l2: 2.07371\tvalid_1's l2: 1.92292\n",
      "best_score defaultdict(<class 'collections.OrderedDict'>, {'training': OrderedDict([('l2', 2.073706705582204)]), 'valid_1': OrderedDict([('l2', 1.922918097304173)])})\n",
      "train 8559808 valid 2139951\n",
      "training LGB:\n",
      "Training until validation scores don't improve for 20 rounds\n",
      "[20]\ttraining's l2: 2.56524\tvalid_1's l2: 2.74248\n",
      "[40]\ttraining's l2: 2.27831\tvalid_1's l2: 2.51873\n",
      "[60]\ttraining's l2: 2.20781\tvalid_1's l2: 2.45164\n",
      "[80]\ttraining's l2: 2.16836\tvalid_1's l2: 2.38608\n",
      "[100]\ttraining's l2: 2.13869\tvalid_1's l2: 2.33839\n",
      "[120]\ttraining's l2: 2.11883\tvalid_1's l2: 2.30223\n",
      "[140]\ttraining's l2: 2.10374\tvalid_1's l2: 2.28859\n",
      "[160]\ttraining's l2: 2.0932\tvalid_1's l2: 2.27832\n",
      "[180]\ttraining's l2: 2.08319\tvalid_1's l2: 2.27076\n",
      "[200]\ttraining's l2: 2.0756\tvalid_1's l2: 2.26659\n",
      "[220]\ttraining's l2: 2.07091\tvalid_1's l2: 2.26176\n",
      "[240]\ttraining's l2: 2.06586\tvalid_1's l2: 2.25823\n",
      "[260]\ttraining's l2: 2.06246\tvalid_1's l2: 2.25525\n",
      "[280]\ttraining's l2: 2.05954\tvalid_1's l2: 2.25186\n",
      "[300]\ttraining's l2: 2.05651\tvalid_1's l2: 2.24812\n",
      "[320]\ttraining's l2: 2.05387\tvalid_1's l2: 2.24816\n",
      "[340]\ttraining's l2: 2.05099\tvalid_1's l2: 2.24715\n",
      "[360]\ttraining's l2: 2.04871\tvalid_1's l2: 2.24496\n",
      "[380]\ttraining's l2: 2.04632\tvalid_1's l2: 2.24453\n",
      "[400]\ttraining's l2: 2.04397\tvalid_1's l2: 2.24332\n",
      "[420]\ttraining's l2: 2.0412\tvalid_1's l2: 2.24172\n",
      "[440]\ttraining's l2: 2.03978\tvalid_1's l2: 2.24135\n",
      "[460]\ttraining's l2: 2.0379\tvalid_1's l2: 2.24062\n",
      "[480]\ttraining's l2: 2.03661\tvalid_1's l2: 2.23874\n",
      "[500]\ttraining's l2: 2.03485\tvalid_1's l2: 2.23849\n",
      "[520]\ttraining's l2: 2.03329\tvalid_1's l2: 2.23836\n",
      "[540]\ttraining's l2: 2.03193\tvalid_1's l2: 2.23836\n",
      "Early stopping, best iteration is:\n",
      "[532]\ttraining's l2: 2.03254\tvalid_1's l2: 2.23798\n",
      "best_score defaultdict(<class 'collections.OrderedDict'>, {'training': OrderedDict([('l2', 2.0325374847116455)]), 'valid_1': OrderedDict([('l2', 2.2379849714989137)])})\n"
     ]
    },
    {
     "data": {
      "image/png": "[encoded data removed]",
      "text/plain": [
       "<Figure size 432x288 with 1 Axes>"
      ]
     },
     "metadata": {
      "needs_background": "light"
     },
     "output_type": "display_data"
    },
    {
     "data": {
      "text/plain": [
       "9592"
      ]
     },
     "execution_count": 32,
     "metadata": {},
     "output_type": "execute_result"
    }
   ],
   "source": [
    "X_train, y_train = X_1st_half, y_1st_half\n",
    "y_valid_pred_total = np.zeros(X_train.shape[0])\n",
    "gc.collect()\n",
    "print('1st of the data', X_1st_half.shape)\n",
    "\n",
    "cat_features = [X_train.columns.get_loc(cat_col) for cat_col in category_cols]\n",
    "print('cat_features', cat_features)\n",
    "\n",
    "models0 = []\n",
    "for train_idx, valid_idx in kf.split(X_train, y_train):\n",
    "    train_data = X_train.iloc[train_idx,:], y_train[train_idx]\n",
    "    valid_data = X_train.iloc[valid_idx,:], y_train[valid_idx]\n",
    "\n",
    "    print('train', len(train_idx), 'valid', len(valid_idx))\n",
    "    model, y_pred_valid, log = fit_lgbm(train_data, valid_data, cat_features=category_cols,\n",
    "                                        num_rounds=num_rounds, lr=0.05, bf=0.7)\n",
    "    y_valid_pred_total[valid_idx] = y_pred_valid\n",
    "    models0.append(model)\n",
    "    gc.collect()\n",
    "    \n",
    "sns.distplot(y_train, label= \"Original Data\")\n",
    "sns.distplot(y_valid_pred_total, label= \"Prediction\")\n",
    "plt.legend(loc=\"upper left\")\n",
    "plt.show()\n",
    "\n",
    "oof0 = mean_squared_error(y_train, y_valid_pred_total)\n",
    "oof_total += oof0 * len(y_train)\n",
    "\n",
    "del X_train, y_train, X_1st_half, y_1st_half\n",
    "gc.collect()"
   ]
  },
  {
   "cell_type": "markdown",
   "metadata": {},
   "source": [
    "### Traning Model for Second Half of the Dataset"
   ]
  },
  {
   "cell_type": "code",
   "execution_count": 33,
   "metadata": {},
   "outputs": [
    {
     "name": "stdout",
     "output_type": "stream",
     "text": [
      "1st of the data (10699759, 14)\n",
      "cat_features [11, 12, 13]\n",
      "train 8559807 valid 2139952\n",
      "training LGB:\n",
      "Training until validation scores don't improve for 20 rounds\n",
      "[20]\ttraining's l2: 2.49661\tvalid_1's l2: 2.62062\n",
      "[40]\ttraining's l2: 2.18194\tvalid_1's l2: 2.39568\n",
      "[60]\ttraining's l2: 2.09561\tvalid_1's l2: 2.32783\n",
      "[80]\ttraining's l2: 2.03533\tvalid_1's l2: 2.2739\n",
      "[100]\ttraining's l2: 1.99851\tvalid_1's l2: 2.24097\n",
      "[120]\ttraining's l2: 1.97301\tvalid_1's l2: 2.21758\n",
      "[140]\ttraining's l2: 1.95599\tvalid_1's l2: 2.20508\n",
      "[160]\ttraining's l2: 1.94226\tvalid_1's l2: 2.1998\n",
      "[180]\ttraining's l2: 1.92798\tvalid_1's l2: 2.205\n",
      "Early stopping, best iteration is:\n",
      "[163]\ttraining's l2: 1.94092\tvalid_1's l2: 2.19898\n",
      "best_score defaultdict(<class 'collections.OrderedDict'>, {'training': OrderedDict([('l2', 1.9409220902192201)]), 'valid_1': OrderedDict([('l2', 2.1989766718427157)])})\n",
      "train 8559807 valid 2139952\n",
      "training LGB:\n",
      "Training until validation scores don't improve for 20 rounds\n",
      "[20]\ttraining's l2: 2.50571\tvalid_1's l2: 2.61928\n",
      "[40]\ttraining's l2: 2.19134\tvalid_1's l2: 2.33682\n",
      "[60]\ttraining's l2: 2.10466\tvalid_1's l2: 2.26781\n",
      "[80]\ttraining's l2: 2.04183\tvalid_1's l2: 2.23151\n",
      "[100]\ttraining's l2: 2.00477\tvalid_1's l2: 2.20521\n",
      "[120]\ttraining's l2: 1.98005\tvalid_1's l2: 2.18934\n",
      "[140]\ttraining's l2: 1.96383\tvalid_1's l2: 2.17731\n",
      "[160]\ttraining's l2: 1.95274\tvalid_1's l2: 2.17084\n",
      "[180]\ttraining's l2: 1.94286\tvalid_1's l2: 2.16497\n",
      "[200]\ttraining's l2: 1.93541\tvalid_1's l2: 2.16064\n",
      "[220]\ttraining's l2: 1.92965\tvalid_1's l2: 2.15626\n",
      "[240]\ttraining's l2: 1.92373\tvalid_1's l2: 2.15363\n",
      "[260]\ttraining's l2: 1.91967\tvalid_1's l2: 2.15221\n",
      "[280]\ttraining's l2: 1.91561\tvalid_1's l2: 2.15013\n",
      "[300]\ttraining's l2: 1.91243\tvalid_1's l2: 2.14871\n",
      "[320]\ttraining's l2: 1.90887\tvalid_1's l2: 2.14811\n",
      "[340]\ttraining's l2: 1.90606\tvalid_1's l2: 2.14712\n",
      "[360]\ttraining's l2: 1.90371\tvalid_1's l2: 2.14528\n",
      "[380]\ttraining's l2: 1.90115\tvalid_1's l2: 2.14403\n",
      "[400]\ttraining's l2: 1.89837\tvalid_1's l2: 2.14326\n",
      "[420]\ttraining's l2: 1.89509\tvalid_1's l2: 2.14198\n",
      "[440]\ttraining's l2: 1.89361\tvalid_1's l2: 2.14053\n",
      "[460]\ttraining's l2: 1.89073\tvalid_1's l2: 2.14039\n",
      "[480]\ttraining's l2: 1.88867\tvalid_1's l2: 2.1382\n",
      "[500]\ttraining's l2: 1.88627\tvalid_1's l2: 2.13756\n",
      "[520]\ttraining's l2: 1.88479\tvalid_1's l2: 2.13705\n",
      "[540]\ttraining's l2: 1.8835\tvalid_1's l2: 2.13675\n",
      "Early stopping, best iteration is:\n",
      "[539]\ttraining's l2: 1.88371\tvalid_1's l2: 2.13667\n",
      "best_score defaultdict(<class 'collections.OrderedDict'>, {'training': OrderedDict([('l2', 1.8837071508721654)]), 'valid_1': OrderedDict([('l2', 2.1366733998264418)])})\n",
      "train 8559807 valid 2139952\n",
      "training LGB:\n",
      "Training until validation scores don't improve for 20 rounds\n",
      "[20]\ttraining's l2: 2.47827\tvalid_1's l2: 2.6817\n",
      "[40]\ttraining's l2: 2.15458\tvalid_1's l2: 2.41039\n",
      "[60]\ttraining's l2: 2.05984\tvalid_1's l2: 2.35034\n",
      "[80]\ttraining's l2: 2.00589\tvalid_1's l2: 2.32081\n",
      "[100]\ttraining's l2: 1.97046\tvalid_1's l2: 2.30765\n",
      "[120]\ttraining's l2: 1.94384\tvalid_1's l2: 2.29835\n",
      "[140]\ttraining's l2: 1.9266\tvalid_1's l2: 2.29302\n",
      "[160]\ttraining's l2: 1.91526\tvalid_1's l2: 2.28961\n",
      "[180]\ttraining's l2: 1.90488\tvalid_1's l2: 2.28821\n",
      "[200]\ttraining's l2: 1.89868\tvalid_1's l2: 2.28702\n",
      "[220]\ttraining's l2: 1.8928\tvalid_1's l2: 2.28456\n",
      "[240]\ttraining's l2: 1.88706\tvalid_1's l2: 2.28404\n",
      "[260]\ttraining's l2: 1.88299\tvalid_1's l2: 2.2836\n",
      "[280]\ttraining's l2: 1.87903\tvalid_1's l2: 2.28269\n",
      "[300]\ttraining's l2: 1.87532\tvalid_1's l2: 2.28166\n",
      "[320]\ttraining's l2: 1.87263\tvalid_1's l2: 2.28084\n",
      "[340]\ttraining's l2: 1.87028\tvalid_1's l2: 2.28029\n",
      "[360]\ttraining's l2: 1.86804\tvalid_1's l2: 2.27968\n",
      "[380]\ttraining's l2: 1.86554\tvalid_1's l2: 2.27936\n",
      "Early stopping, best iteration is:\n",
      "[371]\ttraining's l2: 1.8668\tvalid_1's l2: 2.27908\n",
      "best_score defaultdict(<class 'collections.OrderedDict'>, {'training': OrderedDict([('l2', 1.8668018276452898)]), 'valid_1': OrderedDict([('l2', 2.279076028569706)])})\n",
      "train 8559807 valid 2139952\n",
      "training LGB:\n",
      "Training until validation scores don't improve for 20 rounds\n",
      "[20]\ttraining's l2: 2.42312\tvalid_1's l2: 2.8967\n",
      "[40]\ttraining's l2: 2.10301\tvalid_1's l2: 2.68336\n",
      "[60]\ttraining's l2: 2.01415\tvalid_1's l2: 2.63409\n",
      "[80]\ttraining's l2: 1.95967\tvalid_1's l2: 2.60745\n",
      "[100]\ttraining's l2: 1.92568\tvalid_1's l2: 2.58463\n",
      "[120]\ttraining's l2: 1.8987\tvalid_1's l2: 2.5466\n",
      "[140]\ttraining's l2: 1.8811\tvalid_1's l2: 2.51402\n",
      "[160]\ttraining's l2: 1.86785\tvalid_1's l2: 2.49201\n",
      "[180]\ttraining's l2: 1.85703\tvalid_1's l2: 2.47191\n",
      "[200]\ttraining's l2: 1.84945\tvalid_1's l2: 2.46351\n",
      "[220]\ttraining's l2: 1.84195\tvalid_1's l2: 2.44643\n",
      "[240]\ttraining's l2: 1.83556\tvalid_1's l2: 2.44427\n",
      "[260]\ttraining's l2: 1.83157\tvalid_1's l2: 2.44197\n",
      "[280]\ttraining's l2: 1.82761\tvalid_1's l2: 2.43988\n",
      "Early stopping, best iteration is:\n",
      "[278]\ttraining's l2: 1.82842\tvalid_1's l2: 2.43884\n",
      "best_score defaultdict(<class 'collections.OrderedDict'>, {'training': OrderedDict([('l2', 1.8284151405215832)]), 'valid_1': OrderedDict([('l2', 2.4388432845468997)])})\n",
      "train 8559808 valid 2139951\n",
      "training LGB:\n",
      "Training until validation scores don't improve for 20 rounds\n",
      "[20]\ttraining's l2: 2.61577\tvalid_1's l2: 2.5841\n",
      "[40]\ttraining's l2: 2.33163\tvalid_1's l2: 2.22077\n",
      "[60]\ttraining's l2: 2.25096\tvalid_1's l2: 2.13296\n",
      "[80]\ttraining's l2: 2.19531\tvalid_1's l2: 2.09924\n",
      "[100]\ttraining's l2: 2.15272\tvalid_1's l2: 2.07458\n",
      "[120]\ttraining's l2: 2.12417\tvalid_1's l2: 2.05064\n",
      "[140]\ttraining's l2: 2.103\tvalid_1's l2: 2.03803\n",
      "[160]\ttraining's l2: 2.08766\tvalid_1's l2: 2.03202\n",
      "[180]\ttraining's l2: 2.07498\tvalid_1's l2: 2.025\n",
      "[200]\ttraining's l2: 2.06494\tvalid_1's l2: 2.02593\n",
      "Early stopping, best iteration is:\n",
      "[185]\ttraining's l2: 2.07219\tvalid_1's l2: 2.0203\n",
      "best_score defaultdict(<class 'collections.OrderedDict'>, {'training': OrderedDict([('l2', 2.0721930714525154)]), 'valid_1': OrderedDict([('l2', 2.020295289967975)])})\n"
     ]
    },
    {
     "data": {
      "image/png": "[encoded data removed]",
      "text/plain": [
       "<Figure size 432x288 with 1 Axes>"
      ]
     },
     "metadata": {
      "needs_background": "light"
     },
     "output_type": "display_data"
    },
    {
     "data": {
      "text/plain": [
       "9706"
      ]
     },
     "execution_count": 33,
     "metadata": {},
     "output_type": "execute_result"
    }
   ],
   "source": [
    "X_train, y_train = X_2nd_half, y_2nd_half\n",
    "y_valid_pred_total = np.zeros(X_train.shape[0])\n",
    "gc.collect()\n",
    "print('1st of the data', X_2nd_half.shape)\n",
    "\n",
    "cat_features = [X_train.columns.get_loc(cat_col) for cat_col in category_cols]\n",
    "print('cat_features', cat_features)\n",
    "\n",
    "models1 = []\n",
    "for train_idx, valid_idx in kf.split(X_train, y_train):\n",
    "    train_data = X_train.iloc[train_idx,:], y_train[train_idx]\n",
    "    valid_data = X_train.iloc[valid_idx,:], y_train[valid_idx]\n",
    "\n",
    "    print('train', len(train_idx), 'valid', len(valid_idx))\n",
    "    model, y_pred_valid, log = fit_lgbm(train_data, valid_data, cat_features=category_cols,\n",
    "                                        num_rounds=num_rounds, lr=0.05, bf=0.7)\n",
    "    y_valid_pred_total[valid_idx] = y_pred_valid\n",
    "    models1.append(model)\n",
    "    gc.collect()\n",
    "\n",
    "sns.distplot(y_train, label= \"Original Data\")\n",
    "sns.distplot(y_valid_pred_total, label= \"Prediction\")\n",
    "plt.legend(loc=\"upper left\")\n",
    "plt.show()\n",
    "\n",
    "oof1 = mean_squared_error(y_train, y_valid_pred_total)\n",
    "oof_total += oof1 * len(y_train)\n",
    "\n",
    "del X_train, y_train, X_2nd_half, y_2nd_half\n",
    "gc.collect()"
   ]
  },
  {
   "cell_type": "code",
   "execution_count": 34,
   "metadata": {},
   "outputs": [
    {
     "name": "stdout",
     "output_type": "stream",
     "text": [
      "oof score meter0 = 1.4790247463610833\n",
      "oof score meter1 = 1.4882113267700363\n",
      "oof score total  = 1.483625146975323\n"
     ]
    }
   ],
   "source": [
    "##oof Scores\n",
    "\n",
    "print ('oof score meter0 =', np.sqrt(oof0))\n",
    "print ('oof score meter1 =', np.sqrt(oof1))\n",
    "print ('oof score total  =', np.sqrt(oof_total / len(df_train)))"
   ]
  },
  {
   "cell_type": "code",
   "execution_count": 35,
   "metadata": {},
   "outputs": [],
   "source": [
    "models = [models0, models1]\n",
    "\n",
    "picfile = open('models.pkl', 'wb')\n",
    "pickle.dump(models, picfile)\n",
    "picfile.close()\n",
    "\n",
    "picfile = open('le.pkl', 'wb')\n",
    "pickle.dump(le, picfile)\n",
    "picfile.close()"
   ]
  },
  {
   "cell_type": "code",
   "execution_count": 36,
   "metadata": {},
   "outputs": [
    {
     "data": {
      "text/plain": [
       "156"
      ]
     },
     "execution_count": 36,
     "metadata": {},
     "output_type": "execute_result"
    }
   ],
   "source": [
    "del df_train, df_weather_train, df_build\n",
    "gc.collect()"
   ]
  },
  {
   "cell_type": "code",
   "execution_count": 8,
   "metadata": {},
   "outputs": [],
   "source": [
    "picfile = open('models.pkl', 'rb')\n",
    "models = pickle.load(picfile)\n",
    "picfile.close()\n",
    "\n",
    "picfile = open('le.pkl', 'rb')\n",
    "le = pickle.load(picfile)\n",
    "picfile.close()\n",
    "\n",
    "with open('buildings.pkl', 'rb') as file:\n",
    "    building_median = pickle.load(file)"
   ]
  },
  {
   "cell_type": "code",
   "execution_count": 35,
   "metadata": {},
   "outputs": [],
   "source": [
    "df_test = pd.read_csv('test.csv')\n",
    "df_weather_test = pd.read_csv('weather_test.csv')\n",
    "df_build = pd.read_csv('building_metadata.csv')\n",
    "\n",
    "df_test = change_dtype(df_test)\n",
    "df_weather_test = change_dtype(df_weather_test)"
   ]
  },
  {
   "cell_type": "code",
   "execution_count": 36,
   "metadata": {},
   "outputs": [],
   "source": [
    "df_test['date'] = df_test['timestamp'].dt.date"
   ]
  },
  {
   "cell_type": "code",
   "execution_count": 37,
   "metadata": {},
   "outputs": [],
   "source": [
    "df_test[\"hour\"] = df_test[\"timestamp\"].dt.hour\n",
    "df_test[\"weekend\"] = df_test[\"timestamp\"].dt.weekday\n",
    "df_test[\"month\"] = df_test[\"timestamp\"].dt.month\n",
    "df_test[\"dayofweek\"] = df_test[\"timestamp\"].dt.dayofweek\n",
    "df_test['building_median'] = df_test['building_id'].map(building_median)"
   ]
  },
  {
   "cell_type": "code",
   "execution_count": 38,
   "metadata": {},
   "outputs": [
    {
     "data": {
      "text/plain": [
       "row_id                      int64\n",
       "building_id                 int64\n",
       "meter                       int64\n",
       "timestamp          datetime64[ns]\n",
       "date                       object\n",
       "hour                        int64\n",
       "weekend                     int64\n",
       "month                       int64\n",
       "dayofweek                   int64\n",
       "building_median           float16\n",
       "dtype: object"
      ]
     },
     "execution_count": 38,
     "metadata": {},
     "output_type": "execute_result"
    }
   ],
   "source": [
    "df_test.dtypes"
   ]
  },
  {
   "cell_type": "code",
   "execution_count": 39,
   "metadata": {},
   "outputs": [],
   "source": [
    "df_weather_test = df_weather_test.groupby('site_id').apply(lambda group: group.interpolate(limit_direction='both'))"
   ]
  },
  {
   "cell_type": "code",
   "execution_count": 40,
   "metadata": {},
   "outputs": [
    {
     "name": "stdout",
     "output_type": "stream",
     "text": [
      "Mem. usage decreased to 1153.21 Mb (60.8% reduction)\n",
      "Mem. usage decreased to  6.08 Mb (68.1% reduction)\n",
      "Mem. usage decreased to  0.03 Mb (60.3% reduction)\n"
     ]
    },
    {
     "data": {
      "text/plain": [
       "22"
      ]
     },
     "execution_count": 40,
     "metadata": {},
     "output_type": "execute_result"
    }
   ],
   "source": [
    "df_test = reduce_mem_usage(df_test)\n",
    "df_weather_test = reduce_mem_usage(df_weather_test)\n",
    "df_build= reduce_mem_usage(df_build)\n",
    "\n",
    "gc.collect()"
   ]
  },
  {
   "cell_type": "code",
   "execution_count": 17,
   "metadata": {},
   "outputs": [
    {
     "name": "stdout",
     "output_type": "stream",
     "text": [
      "Mem. usage decreased to 198.83 Mb (68.7% reduction)\n"
     ]
    },
    {
     "data": {
      "text/plain": [
       "22"
      ]
     },
     "execution_count": 17,
     "metadata": {},
     "output_type": "execute_result"
    }
   ],
   "source": [
    "sample_submission = pd.read_csv('sample_submission.csv')\n",
    "sample_submission = reduce_mem_usage(sample_submission)\n",
    "\n",
    "gc.collect()"
   ]
  },
  {
   "cell_type": "code",
   "execution_count": 18,
   "metadata": {},
   "outputs": [],
   "source": [
    "df_build.primary_use = le.transform(df_build.primary_use)"
   ]
  },
  {
   "cell_type": "code",
   "execution_count": 19,
   "metadata": {},
   "outputs": [],
   "source": [
    "def create_X(test_df):\n",
    "    \n",
    "    target_test_df = test_df\n",
    "    target_test_df = target_test_df.merge(df_build, on='building_id', how='left')\n",
    "    target_test_df = target_test_df.merge(df_weather_test, on=['site_id', 'timestamp'], how='left')\n",
    "    target_test_df.square_feet = np.log1p(target_test_df.square_feet)\n",
    "    X_test = target_test_df[feature_cols + category_cols]\n",
    "    return X_test"
   ]
  },
  {
   "cell_type": "code",
   "execution_count": 20,
   "metadata": {},
   "outputs": [],
   "source": [
    "from tqdm import tqdm_notebook as tqdm"
   ]
  },
  {
   "cell_type": "code",
   "execution_count": 21,
   "metadata": {},
   "outputs": [],
   "source": [
    "def pred(X_test, models, batch_size=1000000):\n",
    "    iterations = (X_test.shape[0] + batch_size -1) // batch_size\n",
    "    print('iterations', iterations)\n",
    "\n",
    "    y_test_pred_total = np.zeros(X_test.shape[0])\n",
    "    for i, model in enumerate(models):\n",
    "        print(f'predicting {i}-th model')\n",
    "        for k in tqdm(range(iterations)):\n",
    "            y_pred_test = model.predict(X_test[k*batch_size:(k+1)*batch_size], num_iteration=model.best_iteration)\n",
    "            y_test_pred_total[k*batch_size:(k+1)*batch_size] += y_pred_test\n",
    "\n",
    "    y_test_pred_total /= len(models)\n",
    "    return y_test_pred_total"
   ]
  },
  {
   "cell_type": "code",
   "execution_count": 23,
   "metadata": {},
   "outputs": [
    {
     "data": {
      "text/plain": [
       "0"
      ]
     },
     "execution_count": 23,
     "metadata": {},
     "output_type": "execute_result"
    }
   ],
   "source": [
    "X_test = create_X(df_test)\n",
    "gc.collect()"
   ]
  },
  {
   "cell_type": "code",
   "execution_count": 27,
   "metadata": {},
   "outputs": [
    {
     "name": "stdout",
     "output_type": "stream",
     "text": [
      "iterations 42\n",
      "predicting 0-th model\n"
     ]
    },
    {
     "data": {
      "application/vnd.jupyter.widget-view+json": {
       "model_id": "f425d6d416cc4e19a5c69cf9a18cc8a6",
       "version_major": 2,
       "version_minor": 0
      },
      "text/plain": [
       "HBox(children=(IntProgress(value=0, max=42), HTML(value='')))"
      ]
     },
     "metadata": {},
     "output_type": "display_data"
    },
    {
     "name": "stdout",
     "output_type": "stream",
     "text": [
      "\n",
      "predicting 1-th model\n"
     ]
    },
    {
     "data": {
      "application/vnd.jupyter.widget-view+json": {
       "model_id": "e802ab08783d46999bbb1d2825765633",
       "version_major": 2,
       "version_minor": 0
      },
      "text/plain": [
       "HBox(children=(IntProgress(value=0, max=42), HTML(value='')))"
      ]
     },
     "metadata": {},
     "output_type": "display_data"
    },
    {
     "name": "stdout",
     "output_type": "stream",
     "text": [
      "\n",
      "predicting 2-th model\n"
     ]
    },
    {
     "data": {
      "application/vnd.jupyter.widget-view+json": {
       "model_id": "b3efeda04fe04066af414ab459fb12f9",
       "version_major": 2,
       "version_minor": 0
      },
      "text/plain": [
       "HBox(children=(IntProgress(value=0, max=42), HTML(value='')))"
      ]
     },
     "metadata": {},
     "output_type": "display_data"
    },
    {
     "name": "stdout",
     "output_type": "stream",
     "text": [
      "\n",
      "predicting 3-th model\n"
     ]
    },
    {
     "data": {
      "application/vnd.jupyter.widget-view+json": {
       "model_id": "f8eee3bd1efb40cf9d29e192d53a74c9",
       "version_major": 2,
       "version_minor": 0
      },
      "text/plain": [
       "HBox(children=(IntProgress(value=0, max=42), HTML(value='')))"
      ]
     },
     "metadata": {},
     "output_type": "display_data"
    },
    {
     "name": "stdout",
     "output_type": "stream",
     "text": [
      "\n",
      "predicting 4-th model\n"
     ]
    },
    {
     "data": {
      "application/vnd.jupyter.widget-view+json": {
       "model_id": "1b6bd64695504bdbb0a685869d4d86a0",
       "version_major": 2,
       "version_minor": 0
      },
      "text/plain": [
       "HBox(children=(IntProgress(value=0, max=42), HTML(value='')))"
      ]
     },
     "metadata": {},
     "output_type": "display_data"
    },
    {
     "name": "stdout",
     "output_type": "stream",
     "text": [
      "\n",
      "iterations 42\n",
      "predicting 0-th model\n"
     ]
    },
    {
     "data": {
      "application/vnd.jupyter.widget-view+json": {
       "model_id": "85f7893765d749619eeb408f5e0be868",
       "version_major": 2,
       "version_minor": 0
      },
      "text/plain": [
       "HBox(children=(IntProgress(value=0, max=42), HTML(value='')))"
      ]
     },
     "metadata": {},
     "output_type": "display_data"
    },
    {
     "name": "stdout",
     "output_type": "stream",
     "text": [
      "\n",
      "predicting 1-th model\n"
     ]
    },
    {
     "data": {
      "application/vnd.jupyter.widget-view+json": {
       "model_id": "2a40b0baf08249eabd27f2131bfdde9b",
       "version_major": 2,
       "version_minor": 0
      },
      "text/plain": [
       "HBox(children=(IntProgress(value=0, max=42), HTML(value='')))"
      ]
     },
     "metadata": {},
     "output_type": "display_data"
    },
    {
     "name": "stdout",
     "output_type": "stream",
     "text": [
      "\n",
      "predicting 2-th model\n"
     ]
    },
    {
     "data": {
      "application/vnd.jupyter.widget-view+json": {
       "model_id": "7ed27f8b053e461287139256b6ef140e",
       "version_major": 2,
       "version_minor": 0
      },
      "text/plain": [
       "HBox(children=(IntProgress(value=0, max=42), HTML(value='')))"
      ]
     },
     "metadata": {},
     "output_type": "display_data"
    },
    {
     "name": "stdout",
     "output_type": "stream",
     "text": [
      "\n",
      "predicting 3-th model\n"
     ]
    },
    {
     "data": {
      "application/vnd.jupyter.widget-view+json": {
       "model_id": "899919dfd33c438684dbd9f75a2dfefb",
       "version_major": 2,
       "version_minor": 0
      },
      "text/plain": [
       "HBox(children=(IntProgress(value=0, max=42), HTML(value='')))"
      ]
     },
     "metadata": {},
     "output_type": "display_data"
    },
    {
     "name": "stdout",
     "output_type": "stream",
     "text": [
      "\n",
      "predicting 4-th model\n"
     ]
    },
    {
     "data": {
      "application/vnd.jupyter.widget-view+json": {
       "model_id": "72dc783021d54ed1b5d09e7c36a1ef9c",
       "version_major": 2,
       "version_minor": 0
      },
      "text/plain": [
       "HBox(children=(IntProgress(value=0, max=42), HTML(value='')))"
      ]
     },
     "metadata": {},
     "output_type": "display_data"
    },
    {
     "name": "stdout",
     "output_type": "stream",
     "text": [
      "\n"
     ]
    },
    {
     "data": {
      "image/png": "[encoded data removed]",
      "text/plain": [
       "<Figure size 432x288 with 1 Axes>"
      ]
     },
     "metadata": {
      "needs_background": "light"
     },
     "output_type": "display_data"
    },
    {
     "data": {
      "text/plain": [
       "5683"
      ]
     },
     "execution_count": 27,
     "metadata": {},
     "output_type": "execute_result"
    }
   ],
   "source": [
    "y_test = np.expm1(pred(X_test, models[0])) / 2\n",
    "gc.collect()\n",
    "\n",
    "y_test += np.expm1(pred(X_test, models[1])) / 2\n",
    "\n",
    "sns.distplot(np.log1p(y_test))\n",
    "plt.show()\n",
    "\n",
    "del models, X_test\n",
    "gc.collect()"
   ]
  },
  {
   "cell_type": "code",
   "execution_count": 43,
   "metadata": {},
   "outputs": [
    {
     "data": {
      "image/png": "[encoded data removed]",
      "text/plain": [
       "<Figure size 432x288 with 1 Axes>"
      ]
     },
     "metadata": {
      "needs_background": "light"
     },
     "output_type": "display_data"
    }
   ],
   "source": [
    "# sns.distplot(np.log1p(y_test))\n",
    "# plt.show()"
   ]
  },
  {
   "cell_type": "code",
   "execution_count": 28,
   "metadata": {},
   "outputs": [],
   "source": [
    "sample_submission['meter_reading'] = y_test"
   ]
  },
  {
   "cell_type": "code",
   "execution_count": 29,
   "metadata": {},
   "outputs": [
    {
     "data": {
      "text/html": [
       "<div>\n",
       "<style scoped>\n",
       "    .dataframe tbody tr th:only-of-type {\n",
       "        vertical-align: middle;\n",
       "    }\n",
       "\n",
       "    .dataframe tbody tr th {\n",
       "        vertical-align: top;\n",
       "    }\n",
       "\n",
       "    .dataframe thead th {\n",
       "        text-align: right;\n",
       "    }\n",
       "</style>\n",
       "<table border=\"1\" class=\"dataframe\">\n",
       "  <thead>\n",
       "    <tr style=\"text-align: right;\">\n",
       "      <th></th>\n",
       "      <th>row_id</th>\n",
       "      <th>meter_reading</th>\n",
       "    </tr>\n",
       "  </thead>\n",
       "  <tbody>\n",
       "    <tr>\n",
       "      <th>0</th>\n",
       "      <td>0</td>\n",
       "      <td>153.506930</td>\n",
       "    </tr>\n",
       "    <tr>\n",
       "      <th>1</th>\n",
       "      <td>1</td>\n",
       "      <td>85.837102</td>\n",
       "    </tr>\n",
       "    <tr>\n",
       "      <th>2</th>\n",
       "      <td>2</td>\n",
       "      <td>14.992011</td>\n",
       "    </tr>\n",
       "    <tr>\n",
       "      <th>3</th>\n",
       "      <td>3</td>\n",
       "      <td>145.478924</td>\n",
       "    </tr>\n",
       "    <tr>\n",
       "      <th>4</th>\n",
       "      <td>4</td>\n",
       "      <td>748.788707</td>\n",
       "    </tr>\n",
       "  </tbody>\n",
       "</table>\n",
       "</div>"
      ],
      "text/plain": [
       "   row_id  meter_reading\n",
       "0       0     153.506930\n",
       "1       1      85.837102\n",
       "2       2      14.992011\n",
       "3       3     145.478924\n",
       "4       4     748.788707"
      ]
     },
     "execution_count": 29,
     "metadata": {},
     "output_type": "execute_result"
    }
   ],
   "source": [
    "sample_submission.head()"
   ]
  },
  {
   "cell_type": "code",
   "execution_count": 32,
   "metadata": {},
   "outputs": [],
   "source": [
    "sample_submission.loc[sample_submission.meter_reading < 0, 'meter_reading'] = 0"
   ]
  },
  {
   "cell_type": "code",
   "execution_count": 33,
   "metadata": {},
   "outputs": [],
   "source": [
    "sample_submission.to_csv('submission1.csv', index=False, float_format='%.4f')"
   ]
  },
  {
   "cell_type": "code",
   "execution_count": 41,
   "metadata": {},
   "outputs": [],
   "source": [
    "leak_score = 0\n",
    "\n",
    "leak_df = pd.read_pickle('site0.pkl') \n",
    "leak_df['meter_reading'] = leak_df.meter_reading_scraped\n",
    "leak_df.drop(['meter_reading_original','meter_reading_scraped'], axis=1, inplace=True)\n",
    "leak_df.fillna(0, inplace=True)\n",
    "leak_df = leak_df[leak_df.timestamp.dt.year > 2016]\n",
    "leak_df.loc[leak_df.meter_reading < 0, 'meter_reading'] = 0 # remove large negative values\n",
    "\n",
    "sample_submission.loc[sample_submission.meter_reading < 0, 'meter_reading'] = 0\n",
    "\n",
    "for bid in leak_df.building_id.unique():\n",
    "    temp_df = leak_df[(leak_df.building_id == bid)]\n",
    "    for m in temp_df.meter.unique():\n",
    "        v0 = sample_submission.loc[(df_test.building_id == bid)&(df_test.meter==m), 'meter_reading'].values\n",
    "        v1 = temp_df[temp_df.meter==m].meter_reading.values\n",
    "        \n",
    "        leak_score += mean_squared_error(np.log1p(v0), np.log1p(v1)) * len(v0)\n",
    "        \n",
    "        sample_submission.loc[(df_test.building_id == bid)&(df_test.meter==m), 'meter_reading'] = temp_df[temp_df.meter==m].meter_reading.values"
   ]
  },
  {
   "cell_type": "code",
   "execution_count": 42,
   "metadata": {},
   "outputs": [],
   "source": [
    "sample_submission.to_csv('submission2.csv', index=False, float_format='%.4f')"
   ]
  },
  {
   "cell_type": "code",
   "execution_count": 45,
   "metadata": {},
   "outputs": [],
   "source": [
    "leak_score1 = 0\n",
    "\n",
    "leak_df = pd.read_pickle('site1.pkl') \n",
    "leak_df['meter_reading'] = leak_df.meter_reading_scraped\n",
    "leak_df.drop(['meter_reading_scraped'], axis=1, inplace=True)\n",
    "leak_df.fillna(0, inplace=True)\n",
    "leak_df = leak_df[leak_df.timestamp.dt.year > 2016]\n",
    "leak_df.loc[leak_df.meter_reading < 0, 'meter_reading'] = 0 # remove large negative values\n",
    "\n",
    "#sample_submission.loc[sample_submission.meter_reading < 0, 'meter_reading'] = 0\n",
    "\n",
    "for bid in leak_df.building_id.unique():\n",
    "    temp_df = leak_df[(leak_df.building_id == bid)]\n",
    "    for m in temp_df.meter.unique():\n",
    "        v0 = sample_submission.loc[(df_test.building_id == bid)&(df_test.meter==m), 'meter_reading'].values\n",
    "        v1 = temp_df[temp_df.meter==m].meter_reading.values\n",
    "        \n",
    "        leak_score1 += mean_squared_error(np.log1p(v0), np.log1p(v1)) * len(v0)\n",
    "        \n",
    "        sample_submission.loc[(df_test.building_id == bid)&(df_test.meter==m), 'meter_reading'] = temp_df[temp_df.meter==m].meter_reading.values\n",
    "\n",
    "leak_score1 /= len(leak_df)"
   ]
  },
  {
   "cell_type": "code",
   "execution_count": 46,
   "metadata": {},
   "outputs": [],
   "source": [
    "sample_submission.to_csv('submission3.csv', index=False, float_format='%.4f')"
   ]
  },
  {
   "cell_type": "code",
   "execution_count": 47,
   "metadata": {},
   "outputs": [
    {
     "data": {
      "text/html": [
       "<div>\n",
       "<style scoped>\n",
       "    .dataframe tbody tr th:only-of-type {\n",
       "        vertical-align: middle;\n",
       "    }\n",
       "\n",
       "    .dataframe tbody tr th {\n",
       "        vertical-align: top;\n",
       "    }\n",
       "\n",
       "    .dataframe thead th {\n",
       "        text-align: right;\n",
       "    }\n",
       "</style>\n",
       "<table border=\"1\" class=\"dataframe\">\n",
       "  <thead>\n",
       "    <tr style=\"text-align: right;\">\n",
       "      <th></th>\n",
       "      <th>building_id</th>\n",
       "      <th>meter</th>\n",
       "      <th>timestamp</th>\n",
       "      <th>meter_reading</th>\n",
       "    </tr>\n",
       "  </thead>\n",
       "  <tbody>\n",
       "    <tr>\n",
       "      <th>8784</th>\n",
       "      <td>105</td>\n",
       "      <td>0</td>\n",
       "      <td>2017-01-01 00:00:00</td>\n",
       "      <td>21.5155</td>\n",
       "    </tr>\n",
       "    <tr>\n",
       "      <th>8785</th>\n",
       "      <td>105</td>\n",
       "      <td>0</td>\n",
       "      <td>2017-01-01 01:00:00</td>\n",
       "      <td>44.6565</td>\n",
       "    </tr>\n",
       "    <tr>\n",
       "      <th>8786</th>\n",
       "      <td>105</td>\n",
       "      <td>0</td>\n",
       "      <td>2017-01-01 02:00:00</td>\n",
       "      <td>44.5625</td>\n",
       "    </tr>\n",
       "    <tr>\n",
       "      <th>8787</th>\n",
       "      <td>105</td>\n",
       "      <td>0</td>\n",
       "      <td>2017-01-01 03:00:00</td>\n",
       "      <td>45.6715</td>\n",
       "    </tr>\n",
       "    <tr>\n",
       "      <th>8788</th>\n",
       "      <td>105</td>\n",
       "      <td>0</td>\n",
       "      <td>2017-01-01 04:00:00</td>\n",
       "      <td>45.2970</td>\n",
       "    </tr>\n",
       "  </tbody>\n",
       "</table>\n",
       "</div>"
      ],
      "text/plain": [
       "      building_id  meter           timestamp  meter_reading\n",
       "8784          105      0 2017-01-01 00:00:00        21.5155\n",
       "8785          105      0 2017-01-01 01:00:00        44.6565\n",
       "8786          105      0 2017-01-01 02:00:00        44.5625\n",
       "8787          105      0 2017-01-01 03:00:00        45.6715\n",
       "8788          105      0 2017-01-01 04:00:00        45.2970"
      ]
     },
     "execution_count": 47,
     "metadata": {},
     "output_type": "execute_result"
    }
   ],
   "source": [
    "leak_df.head()"
   ]
  }
 ],
 "metadata": {
  "kernelspec": {
   "display_name": "Python 3",
   "language": "python",
   "name": "python3"
  },
  "language_info": {
   "codemirror_mode": {
    "name": "ipython",
    "version": 3
   },
   "file_extension": ".py",
   "mimetype": "text/x-python",
   "name": "python",
   "nbconvert_exporter": "python",
   "pygments_lexer": "ipython3",
   "version": "3.7.4"
  }
 },
 "nbformat": 4,
 "nbformat_minor": 4
}
